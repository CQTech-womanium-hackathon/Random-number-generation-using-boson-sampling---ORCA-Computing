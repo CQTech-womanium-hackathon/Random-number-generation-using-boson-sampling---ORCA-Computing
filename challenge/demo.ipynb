{
 "cells": [
  {
   "cell_type": "markdown",
   "id": "883406b2",
   "metadata": {},
   "source": [
    "# On Random Number Generation"
   ]
  },
  {
   "cell_type": "markdown",
   "id": "1cc5173f",
   "metadata": {},
   "source": [
    "<span style=\"font-size: 12px; color: #777; float: right;\">This cell contains Latex macros.</span>\n",
    "$$\n",
    "\\newcommand{\\ket}[1]{| #1 \\rangle}\n",
    "\\newcommand{\\bra}[1]{\\langle #1 |}\n",
    "$$"
   ]
  },
  {
   "cell_type": "markdown",
   "id": "23f7af56",
   "metadata": {},
   "source": [
    "This is `Constantine Quantum Technologies`'s solution to ORCA Computing's challenge `Random number generation using boson sampling`."
   ]
  },
  {
   "cell_type": "markdown",
   "id": "423ede7e",
   "metadata": {},
   "source": [
    "### Team\n",
    "\n",
    "- Abdellah Tounsi\n",
    "- Amina Sadik\n",
    "- Mohamed Messaoud Louamri\n",
    "- Nacer eddine Belaloui\n",
    "- Wafa Makhlouf\n",
    "- Zakaria Benhaddouche"
   ]
  },
  {
   "cell_type": "markdown",
   "id": "099f6d86",
   "metadata": {},
   "source": [
    "### Content:\n",
    "* [Why do we need RNG?](#Why-do-we-need-RNG?)\n",
    "    * [Science](#Science)\n",
    "    * [Security](#Security)\n",
    "* [The problem at hand](#The-problem-at-hand)\n",
    "* [Making an RNG device](#Making-an-RNG-device)\n",
    "    * [The (quantum) entropy source(s)](#The-(quantum)-entropy-source(s))\n",
    "        * [Quantum RNG: Qubits](#Quantum-RNG:-Qubits)\n",
    "        * [Quantum RNG: Boson Sampling](#Quantum-RNG:-Boson-Sampling)\n",
    "    * [The post-processing](#The-post-processing)\n",
    "        * [The Von Neumann post processing steps](#The-Von-Neumann-post-processing-steps:)\n",
    "        * [The theory behind the Von Neumann post processing: independent elements](#The-theory-behind-the-Von-Neumann-post-processing:-independent-elements)\n",
    "        * [the Von Neumann Post processing: dependent elements](#the-Von-Neumann-Post-processing:-dependent-elements)\n",
    "        * [Post-processing: dependent elements, the unbiased way](#Post-processing:-dependent-elements,-the-unbiased-way)\n",
    "* [Testing the randomness](#Testing-the-randomness)\n",
    "* [The CQT RNG package](#The-CQT-RNG-package)\n",
    "    * [Qubits-based Simulator](#Qubits-based-Simulator)"
   ]
  },
  {
   "cell_type": "markdown",
   "id": "8274e5e4",
   "metadata": {},
   "source": [
    "### Installation"
   ]
  },
  {
   "cell_type": "markdown",
   "id": "a3e3f5ee",
   "metadata": {},
   "source": [
    "To download, install, and import all the necessary packages and scripts. Uncomment and run the following commands:"
   ]
  },
  {
   "cell_type": "code",
   "execution_count": null,
   "id": "007106b5",
   "metadata": {},
   "outputs": [],
   "source": [
    "# !pip install cqt_rng"
   ]
  },
  {
   "cell_type": "code",
   "execution_count": 1,
   "id": "60cdf6ff",
   "metadata": {},
   "outputs": [],
   "source": [
    "# !git clone https://github.com/CQTech-womanium-hackathon/Random-number-generation-using-boson-sampling---ORCA-Computing.git"
   ]
  },
  {
   "cell_type": "code",
   "execution_count": 2,
   "id": "151d436a",
   "metadata": {},
   "outputs": [],
   "source": [
    "# !pip install Random-number-generation-using-boson-sampling---ORCA-Computing/"
   ]
  },
  {
   "cell_type": "code",
   "execution_count": 3,
   "id": "d459de23",
   "metadata": {},
   "outputs": [],
   "source": [
    "# !wget -P scripts/ https://raw.githubusercontent.com/CQTech-womanium-hackathon/Random-number-generation-using-boson-sampling---ORCA-Computing/main/challenge/scripts/study_boson_sampler.py"
   ]
  },
  {
   "cell_type": "code",
   "execution_count": null,
   "id": "0913f493",
   "metadata": {},
   "outputs": [],
   "source": [
    "# !wget -P scripts/ https://raw.githubusercontent.com/CQTech-womanium-hackathon/Random-number-generation-using-boson-sampling---ORCA-Computing/main/challenge/scripts/constants.py"
   ]
  },
  {
   "cell_type": "code",
   "execution_count": 14,
   "id": "fff4daf6",
   "metadata": {},
   "outputs": [],
   "source": [
    "%run scripts/study_boson_sampler.py"
   ]
  },
  {
   "cell_type": "code",
   "execution_count": null,
   "id": "18ebce1c",
   "metadata": {},
   "outputs": [],
   "source": [
    "%run scripts/constants.py"
   ]
  },
  {
   "cell_type": "code",
   "execution_count": 2,
   "id": "dda83bd7",
   "metadata": {},
   "outputs": [],
   "source": [
    "import numpy as np\n",
    "import matplotlib.pyplot as plt\n",
    "from scipy.special import comb"
   ]
  },
  {
   "cell_type": "code",
   "execution_count": 16,
   "id": "effe7a8c",
   "metadata": {},
   "outputs": [],
   "source": [
    "from cqt_rng.entropy_sources.simulators.boson_sampler import BosonSampler\n",
    "from cqt_rng.utils import generate_haar_unitary"
   ]
  },
  {
   "cell_type": "markdown",
   "id": "2039f061",
   "metadata": {},
   "source": [
    "## Why do we need RNG?"
   ]
  },
  {
   "cell_type": "markdown",
   "id": "2b1f0e5a",
   "metadata": {},
   "source": [
    "### Science"
   ]
  },
  {
   "cell_type": "markdown",
   "id": "a6725bef",
   "metadata": {},
   "source": [
    "When, we think about science we think about it being deterministic and systematic both in the results and the methods. It might look strange that randomness has anything to do with science. Yet, there exist a whole class of [randomized algorithms](https://en.wikipedia.org/wiki/Randomized_algorithm) used in the scientic realm which are based on randomness. The most populars of these algorithms are called the [Monte Carlo algorithms](https://en.wikipedia.org/wiki/Monte_Carlo_algorithm). An example of such an algorithm used to determine the value of π (which is 3.1415..., in case you forgot 😄) us shown below:"
   ]
  },
  {
   "cell_type": "markdown",
   "id": "feb36697",
   "metadata": {},
   "source": [
    "The algorithm is as follows:\n",
    "1. We throw random \"darts\" on a 1x1 square.\n",
    "1. We calculate the number of \"darts\" that hit the interior of a circle whose center is the point (0.5, 0.5) and whose radius is 0.5.\n",
    "1. The estimated value of π would be 4 * Number of darts inside the circle / Total number of darts thrown.\n",
    "\n",
    "An animation of the process is given below, in the beginning we will send darts one by one (so that you can visualize the step) and after 50 darts we will send rounds of 1000 darts (so that we can reach a higher number of darts thrown).  "
   ]
  },
  {
   "cell_type": "markdown",
   "id": "a59e94e2",
   "metadata": {},
   "source": [
    "<img src=\"https://s4.gifyu.com/images/montecarlo_pi_good.gif\" style=\"height: 300px\" />"
   ]
  },
  {
   "cell_type": "markdown",
   "id": "5a927228",
   "metadata": {},
   "source": [
    "As you can see, we are converging towards the known value of π, how is this possible? Let's try to understand it.\n",
    "\n",
    "The area of the circle is  $0.5^2 \\pi$, and the area of the square is $1$. If we send darts uniformly (which is what we are doing). The probability that a dart ends inside the circle is $P =\\text{Area of the circle} / \\text{Area of the square} = 0.5^2 \\pi/1 = \\pi/4$. We can approximate this probability by sending a very large number of darts on the square $P = \\text{Number of darts inside the circle}/\\text{Total number of darts}$ and then we would find that: \n",
    "\n",
    "$$\\pi = 4 P = 4  \\frac{\\text{Number of darts inside the circle}}{\\text{Total number of darts}}$$"
   ]
  },
  {
   "cell_type": "markdown",
   "id": "2490bc68",
   "metadata": {},
   "source": [
    "Let's see what we would get if there was biasness in the darts we threw (ie: the probability that a darts ends in a certain area is higher than the probability that it ends in another (and equal) area):"
   ]
  },
  {
   "cell_type": "markdown",
   "id": "603419f1",
   "metadata": {},
   "source": [
    "<img src=\"https://s4.gifyu.com/images/montecarlo_pi_bad.gif\" style=\"height: 300px\"/>"
   ]
  },
  {
   "cell_type": "markdown",
   "id": "7e38c459",
   "metadata": {},
   "source": [
    "As you can see from this animation, the darts are not uniformly thrown (they are sent closer to the center of the square). The value of π that we get is wrong 3.46 instead of 3.14."
   ]
  },
  {
   "cell_type": "markdown",
   "id": "ae6d2c7d",
   "metadata": {},
   "source": [
    "Obviously, this is just a trivial example. Imagine now that we had to use such an randomized algorithm to develop a drug for example. A small bias in the random numbers would lead to wrong results which would lead to dramatic results. This shows how important it is to **unbiased** random numbers."
   ]
  },
  {
   "cell_type": "markdown",
   "id": "ecf314ae",
   "metadata": {},
   "source": [
    "For a more technical, explanation we will refer to both these papers (among others):\n",
    "1. [Quality of random number generators significantly affects results of Monte Carlo simulations for organic and biological systems](https://pubmed.ncbi.nlm.nih.gov/20734313/)\n",
    "1. [Random numbers for simulation](https://dl.acm.org/doi/10.1145/84537.84555)"
   ]
  },
  {
   "cell_type": "markdown",
   "id": "56fec169",
   "metadata": {},
   "source": [
    "### Security"
   ]
  },
  {
   "cell_type": "markdown",
   "id": "9eceb867",
   "metadata": {},
   "source": [
    "Another critical application of random numbers generators are in cryptography. "
   ]
  },
  {
   "cell_type": "markdown",
   "id": "623315d5",
   "metadata": {},
   "source": [
    "So, why are unbiased bitstrings more secure?\n",
    "\n",
    "Let's assume someone (who we will call Bob) captured an encrypted message that you sent. Bob knows which algorithm that you used to encrypt the message, he also knows the length of the key. Let's also assume that he knows the proportions of 0s and 1s in key but Bob doesn't know the key itself. \n",
    "\n",
    "To crack your message, he decided to use a bruteforce method (i.e: test every single possible key which matches the proportions which he is aware of). Finally, let's assume that to bruteforce the message. He uses a computer which can test one key every hour.\n",
    "\n",
    "\n",
    "#### Example 1:\n",
    "For the sake of simplicity, let's consider that the key has 4 bits and that its made of 1 0-bits and 3 1-bits.\n",
    "What are all the possible keys that Bob needs to test to crack the message? How many keys made of 4 bits have 1 zero and 3 ones? Let's count:\n",
    "\n",
    "```\n",
    "0111\n",
    "1011\n",
    "1101\n",
    "1110\n",
    "```\n",
    "\n",
    "There are four states. The general method to find the number of keys $N$ of length $n$ with $r$ zeros is to use the formula (more detaild can be found in any basic probability course):\n",
    "\n",
    "$$N = nCr = \\frac{n!}{r! (n - r)!}$$ \n",
    "\n",
    "\n",
    "So, it would take up to 4 hours for bob to crack your encrypted message.\n",
    "#### Example 2:\n",
    "Let's consider that the key has 16 bits. And see what proportion of bits leads to a higher number of keys $N$."
   ]
  },
  {
   "cell_type": "code",
   "execution_count": 5,
   "id": "c56f129e",
   "metadata": {},
   "outputs": [
    {
     "name": "stdout",
     "output_type": "stream",
     "text": [
      "The number of keys of length 16 with 0-zeros and 16-ones is: 1\n",
      "The number of keys of length 16 with 1-zeros and 15-ones is: 16\n",
      "The number of keys of length 16 with 2-zeros and 14-ones is: 120\n",
      "The number of keys of length 16 with 3-zeros and 13-ones is: 560\n",
      "The number of keys of length 16 with 4-zeros and 12-ones is: 1820\n",
      "The number of keys of length 16 with 5-zeros and 11-ones is: 4368\n",
      "The number of keys of length 16 with 6-zeros and 10-ones is: 8008\n",
      "The number of keys of length 16 with 7-zeros and 9-ones is: 11440\n",
      "The number of keys of length 16 with 8-zeros and 8-ones is: 12870\n",
      "The number of keys of length 16 with 9-zeros and 7-ones is: 11440\n",
      "The number of keys of length 16 with 10-zeros and 6-ones is: 8008\n",
      "The number of keys of length 16 with 11-zeros and 5-ones is: 4368\n",
      "The number of keys of length 16 with 12-zeros and 4-ones is: 1820\n",
      "The number of keys of length 16 with 13-zeros and 3-ones is: 560\n",
      "The number of keys of length 16 with 14-zeros and 2-ones is: 120\n",
      "The number of keys of length 16 with 15-zeros and 1-ones is: 16\n",
      "The number of keys of length 16 with 16-zeros and 0-ones is: 1\n"
     ]
    }
   ],
   "source": [
    "for i in range(0, 17):\n",
    "    print(f\"The number of keys of length {16} with {i}-zeros and {16-i}-ones is: {int(comb(16, i))}\")"
   ]
  },
  {
   "cell_type": "markdown",
   "id": "00a62570",
   "metadata": {},
   "source": [
    "As you can see, the number of possible keys is at his highest when the proportion is of 50%. And this is a general result no matter the length of the key $n$, the number of possible keys is at its highest whenever the proportion is of 50%.\n",
    "\n"
   ]
  },
  {
   "cell_type": "markdown",
   "id": "d770d97b",
   "metadata": {},
   "source": [
    "#### Example 3:"
   ]
  },
  {
   "cell_type": "code",
   "execution_count": 41,
   "id": "e8ead9f8",
   "metadata": {},
   "outputs": [],
   "source": [
    "from scipy.stats import entropy\n",
    "\n",
    "def calculate_entropy(arr):\n",
    "    propor = np.unique(arr, return_counts=True)\n",
    "    return entropy(propor[1] / len(arr), base=len(propor[0]))"
   ]
  },
  {
   "cell_type": "code",
   "execution_count": 36,
   "id": "d4171722",
   "metadata": {},
   "outputs": [],
   "source": [
    "arr1 = np.append(np.full(3, 0), np.full(7, 1))"
   ]
  },
  {
   "cell_type": "code",
   "execution_count": 42,
   "id": "2cb842b0",
   "metadata": {},
   "outputs": [
    {
     "data": {
      "text/plain": [
       "0.8812908992306927"
      ]
     },
     "execution_count": 42,
     "metadata": {},
     "output_type": "execute_result"
    }
   ],
   "source": [
    "calculate_entropy(arr1)"
   ]
  },
  {
   "cell_type": "code",
   "execution_count": 44,
   "id": "23d8a921",
   "metadata": {},
   "outputs": [],
   "source": [
    "arr2 = np.append(np.full(5, 0), np.full(5, 1))"
   ]
  },
  {
   "cell_type": "code",
   "execution_count": 45,
   "id": "4304a37d",
   "metadata": {},
   "outputs": [
    {
     "data": {
      "text/plain": [
       "1.0"
      ]
     },
     "execution_count": 45,
     "metadata": {},
     "output_type": "execute_result"
    }
   ],
   "source": [
    "calculate_entropy(arr2)"
   ]
  },
  {
   "cell_type": "code",
   "execution_count": null,
   "id": "b5e557f5",
   "metadata": {},
   "outputs": [],
   "source": []
  },
  {
   "cell_type": "markdown",
   "id": "14601315",
   "metadata": {},
   "source": [
    "## The problem at hand"
   ]
  },
  {
   "cell_type": "markdown",
   "id": "554f5e1b",
   "metadata": {},
   "source": [
    "We saw how important it is to generate random numbers. Our task is to find a procedure that generates **uniform, unbiased, unreproducible random numbers with a sufficient rate**."
   ]
  },
  {
   "cell_type": "markdown",
   "id": "36bd3b3b",
   "metadata": {},
   "source": [
    "The problem might look simple. If you used `python`, you probably know that we have whole packages (`random`, `np.random`, ...) to generate random numbers. Let's take a look at `numpy`random number generator:"
   ]
  },
  {
   "cell_type": "markdown",
   "id": "2a6538d8",
   "metadata": {},
   "source": [
    "#### Pseudo-RNG"
   ]
  },
  {
   "cell_type": "markdown",
   "id": "bbbbb7d6",
   "metadata": {},
   "source": [
    "Let's see how to generate a random bitstring in python."
   ]
  },
  {
   "cell_type": "code",
   "execution_count": 17,
   "id": "037cc717",
   "metadata": {},
   "outputs": [
    {
     "data": {
      "text/plain": [
       "array([0, 1, 1, 0, 1, 1, 1, 1, 0, 1])"
      ]
     },
     "execution_count": 17,
     "metadata": {},
     "output_type": "execute_result"
    }
   ],
   "source": [
    "np.random.randint(0, 2, size = 10)"
   ]
  },
  {
   "cell_type": "markdown",
   "id": "535dab72",
   "metadata": {},
   "source": [
    "That was easy as \"py\". But, how random are these numbers? The output above looks pretty random, so did we solve our problem already? Was it so trivial? No, `numpy` (and other prng) generate numbers which are **approximately random** using arithmetical methods. These numbers might be useful in a variety of applications but not in **critical applications** like security and science."
   ]
  },
  {
   "cell_type": "markdown",
   "id": "e7eac268",
   "metadata": {},
   "source": [
    "Let's try to understand how `numpy` generate its random numbers. For this, let's pick an [oversimplified algorithm](https://en.wikipedia.org/wiki/Pseudorandom_number_generator#Implementation)."
   ]
  },
  {
   "cell_type": "code",
   "execution_count": 18,
   "id": "b5f429e2",
   "metadata": {},
   "outputs": [],
   "source": [
    "def prng(seed, size):\n",
    "    bitstring = np.empty(size, dtype=int)\n",
    "    a, b = 17, 19 # a and b need to be prime numbers\n",
    "    \n",
    "    for i in range(size):\n",
    "        num = seed * a\n",
    "        bitstring[i] = np.round((num**3 % b) / b)\n",
    "        seed += 1\n",
    "        \n",
    "    return bitstring"
   ]
  },
  {
   "cell_type": "markdown",
   "id": "bec3464b",
   "metadata": {},
   "source": [
    "And generate a bitstring of length 95:"
   ]
  },
  {
   "cell_type": "code",
   "execution_count": 19,
   "id": "b48da3a0",
   "metadata": {},
   "outputs": [
    {
     "data": {
      "text/plain": [
       "array([0, 0, 0, 1, 0, 0, 1, 1, 0, 1, 1, 1, 0, 0, 0, 0, 1, 1, 1, 0, 0, 0,\n",
       "       1, 0, 0, 1, 1, 0, 1, 1, 1, 0, 0, 0, 0, 1, 1, 1, 0, 0, 0, 1, 0, 0,\n",
       "       1, 1, 0, 1, 1, 1, 0, 0, 0, 0, 1, 1, 1, 0, 0, 0, 1, 0, 0, 1, 1, 0,\n",
       "       1, 1, 1, 0, 0, 0, 0, 1, 1, 1, 0, 0, 0, 1, 0, 0, 1, 1, 0, 1, 1, 1,\n",
       "       0, 0, 0, 0, 1, 1, 1])"
      ]
     },
     "execution_count": 19,
     "metadata": {},
     "output_type": "execute_result"
    }
   ],
   "source": [
    "prng(42, 19 * 5)"
   ]
  },
  {
   "cell_type": "markdown",
   "id": "f545121e",
   "metadata": {},
   "source": [
    "This looks pretty random doesn't it? However, it is **not**:\n",
    "\n",
    "1. Everyone who knows your algorithm and knows the initial state (the seed) would be able to **reproduce** your results."
   ]
  },
  {
   "cell_type": "code",
   "execution_count": 20,
   "id": "eaf89c5f",
   "metadata": {},
   "outputs": [
    {
     "data": {
      "text/plain": [
       "array([0, 0, 0, 1, 0, 0, 1, 1, 0, 1, 1, 1, 0, 0, 0, 0, 1, 1, 1, 0, 0, 0,\n",
       "       1, 0, 0, 1, 1, 0, 1, 1, 1, 0, 0, 0, 0, 1, 1, 1, 0, 0, 0, 1, 0, 0,\n",
       "       1, 1, 0, 1, 1, 1, 0, 0, 0, 0, 1, 1, 1, 0, 0, 0, 1, 0, 0, 1, 1, 0,\n",
       "       1, 1, 1, 0, 0, 0, 0, 1, 1, 1, 0, 0, 0, 1, 0, 0, 1, 1, 0, 1, 1, 1,\n",
       "       0, 0, 0, 0, 1, 1, 1])"
      ]
     },
     "execution_count": 20,
     "metadata": {},
     "output_type": "execute_result"
    }
   ],
   "source": [
    "prng(42, 19 * 5) # same output"
   ]
  },
  {
   "cell_type": "markdown",
   "id": "27d72308",
   "metadata": {},
   "source": [
    "2. If you look closely you will see that their is a pattern that get's repeated:"
   ]
  },
  {
   "cell_type": "code",
   "execution_count": 21,
   "id": "ad2c3ec5",
   "metadata": {},
   "outputs": [
    {
     "data": {
      "text/plain": [
       "array([[0, 0, 0, 1, 0, 0, 1, 1, 0, 1, 1, 1, 0, 0, 0, 0, 1, 1, 1],\n",
       "       [0, 0, 0, 1, 0, 0, 1, 1, 0, 1, 1, 1, 0, 0, 0, 0, 1, 1, 1],\n",
       "       [0, 0, 0, 1, 0, 0, 1, 1, 0, 1, 1, 1, 0, 0, 0, 0, 1, 1, 1],\n",
       "       [0, 0, 0, 1, 0, 0, 1, 1, 0, 1, 1, 1, 0, 0, 0, 0, 1, 1, 1],\n",
       "       [0, 0, 0, 1, 0, 0, 1, 1, 0, 1, 1, 1, 0, 0, 0, 0, 1, 1, 1]])"
      ]
     },
     "execution_count": 21,
     "metadata": {},
     "output_type": "execute_result"
    }
   ],
   "source": [
    "np.reshape(_, (5, 19))"
   ]
  },
  {
   "cell_type": "markdown",
   "id": "289238c7",
   "metadata": {},
   "source": [
    "You can check that the same happens with numpy, let's pick the seed to be `12` and run `np.random.randint`. On my PC, I get: `array([1, 1, 0, 1, 1, 0, 1, 1, 0, 0])`. Try it on your PC, you would get the same results. This means that if their is a breach which would allow someone to know your `seed`. That person can easily reproduce all the random numbers you generate."
   ]
  },
  {
   "cell_type": "code",
   "execution_count": 22,
   "id": "66605fc5",
   "metadata": {},
   "outputs": [
    {
     "data": {
      "text/plain": [
       "array([1, 1, 0, 1, 1, 0, 1, 1, 0, 0])"
      ]
     },
     "execution_count": 22,
     "metadata": {},
     "output_type": "execute_result"
    }
   ],
   "source": [
    "np.random.seed(12)\n",
    "np.random.randint(0, 2, size = 10)"
   ]
  },
  {
   "cell_type": "markdown",
   "id": "a9f4efa6",
   "metadata": {},
   "source": [
    "Of course, there exists more advanced algorithm's to generate random numbers but generating **truly random** numbers using a classical computer or a classical system is impossible. This means that we need to change paradigm. We should use a **Quantum** computer to solve our problem. \n",
    "\n",
    "Indeed, a key property of quantum system is the **randomness of the measurements** as long as the quantum state isn't in an eigenstate of the measured observable. \n",
    "\n",
    "> In quantum mechanics, a (quantum) system is said to be in a particular quantum state. For example, an electron can be in a spin up state ⬆️, we would write $\\ket{Electron State} = \\ket{⬆️}$. If we measure it, we will **with certainty** find its spin to be up. In this case, we say that the electron is in an eigenstate of the observable $S_z$. The electron could also be in a **superposition** of spin up ⬆️ and spin down ⬇️, we would write $\\ket{Electron State} = \\alpha\\ket{⬆️} + \\beta\\ket{⬇️}$. In this case, the electron is not in an eigestate of the obserbable $S_z$ and a measurement has probability $|\\alpha|^2$ to yield spin up ⬆️ and $|\\beta|^2$ to yield spin down ⬇️.\n",
    "\n",
    "So, to make a **truly random and unreproducible** entropy source. We should:\n",
    "1. Pick a quantum system. \n",
    "1. Make sure that the system's state is an superposition.\n",
    "1. Carry a measurement.\n",
    "1. And we would obtain **truly random** and **unreproducible** results.\n",
    "\n",
    "Let's see two examples of quantum systems which can be used:"
   ]
  },
  {
   "cell_type": "markdown",
   "id": "b95232ad",
   "metadata": {},
   "source": [
    "## Making an RNG device"
   ]
  },
  {
   "cell_type": "markdown",
   "id": "92812390",
   "metadata": {},
   "source": [
    "We can decompose the process of generating random numbers into two part:\n",
    "1. **Entropy source**: The entropy source generates a sample of random numbers. The sample doesn't need to be uniform, we just expect it to be **truly random** and **unreproducible**.\n",
    "1. **The post-processor**: The post-processor takes a sample of random numbers and outputs a bitstring which should be **uniform**.\n",
    "\n",
    "Applying the post-processor on the samples taken from entropy source should guarantee that our final output is: **truly random, unreproducible and uniform**."
   ]
  },
  {
   "cell_type": "markdown",
   "id": "2cbb22ed",
   "metadata": {},
   "source": [
    "### The (quantum) entropy source(s)"
   ]
  },
  {
   "cell_type": "markdown",
   "id": "6dc78a35",
   "metadata": {},
   "source": [
    "#### Quantum RNG: Qubits"
   ]
  },
  {
   "cell_type": "markdown",
   "id": "10102310",
   "metadata": {},
   "source": [
    "A qubit is any two-states (state $\\ket{0}$ and state $\\ket{1}$) quantum system. We can apply a superposing gate on a $\\ket{0}$-state qubit (for example: the hadamard $H$ or the rotation on y-axis $R_y(\\theta)$). To obtain, a quantum state:\n",
    "\n",
    "$$\\ket{\\psi} = \\alpha \\ket{0} + \\beta \\ket{1}$$\n",
    "\n",
    "Then, after making a measurement, we would obtain $0$ with probability $|\\alpha|^2$ and $1$ with probability $|\\beta|^2$.\n",
    "\n",
    "This is a theoretically very simple schema to generate random numbers. Yet, it is complex to carry experimentally."
   ]
  },
  {
   "cell_type": "markdown",
   "id": "c4941808",
   "metadata": {},
   "source": [
    "#### Quantum RNG: Boson Sampling"
   ]
  },
  {
   "cell_type": "markdown",
   "id": "d271d29a",
   "metadata": {},
   "source": [
    "Boson sampling is reminiscent of a [Galton's board](https://en.wikipedia.org/wiki/Galton_board). A Galton's Board is a vertical board in which we drop balls from the top, let them go through an array of pegs and collect them into bins at the bottom. \n",
    "\n",
    "<img src=\"https://i.imgur.com/U05YsTk.png\" style=\"max-height: 300px;\"/>\n",
    "<span style=\"font-size: 12px; float: right;\"><a href=\"https://research.ibm.com/haifa/ponderthis/challenges/December2021.html\">source</a></span>"
   ]
  },
  {
   "cell_type": "markdown",
   "id": "68cceaa7",
   "metadata": {},
   "source": [
    "In a boson sampling experiment, we send a single photon (or more) into an $M$-mode interferometer (which is an array of phase gates and beamsplitters), and then we measure from where it leaves the interferometer.\n",
    "\n",
    "<img src=\"https://i.imgur.com/jEdggIq.png/\" style=\"max-height: 300px;\">\n",
    "<span style=\"font-size: 12px; float: right;\"><a href=\"https://quantum-journal.org/papers/q-2019-08-05-169/\">source</a></span>"
   ]
  },
  {
   "cell_type": "markdown",
   "id": "049800e0",
   "metadata": {},
   "source": [
    "The photon(s) at the end of the interferometer is(are) _generally_ in a superposition of states. The probability to find $n$-photons at the $m$-detector is a [computationally complex problem](https://strawberryfields.ai/photonics/demos/run_boson_sampling.html) but we know that (apart from some exceptions) the probability is not uniform as you can see from the following figure. The advantage of the boson sampling approach is that it is a rather simple experiment as it only requires phase gates and beamsplitters in comparaison to a gate-based approach."
   ]
  },
  {
   "cell_type": "code",
   "execution_count": 23,
   "id": "cc604099",
   "metadata": {},
   "outputs": [
    {
     "data": {
      "image/png": "[encoded data removed]",
      "text/plain": [
       "<Figure size 432x288 with 1 Axes>"
      ]
     },
     "metadata": {
      "needs_background": "light"
     },
     "output_type": "display_data"
    }
   ],
   "source": [
    "# Probability distribution of sending a photon in the 1st mode through a haar random unitary\n",
    "probs_bs1 = BosonSampler.get_theo_prob({\"100\": 1}, generate_haar_unitary(3))\n",
    "plot_probs(probs_bs1)"
   ]
  },
  {
   "cell_type": "markdown",
   "id": "749c79d1",
   "metadata": {},
   "source": [
    "### The post-processing"
   ]
  },
  {
   "cell_type": "markdown",
   "id": "8e69117f",
   "metadata": {},
   "source": [
    "As we already stated above, the output of the entropy source is not expected to be uniform (e.g: the boson sampling experiment). So, we need to carry a post-processing to obtain a uniform and unbiased random output."
   ]
  },
  {
   "cell_type": "markdown",
   "id": "fc2fe124",
   "metadata": {},
   "source": [
    "#### The Von Neumann post-processing steps:"
   ]
  },
  {
   "cell_type": "markdown",
   "id": "d221f003",
   "metadata": {},
   "source": [
    "Given two samples $s_1$ and $s_2$. We would build our uniform bitstring by:\n",
    "1. Appending $0$ to our bitstring whenever the i-th element of the sample $s_1$ is greater or equal $1$ and the i-th element of the sample $s_2$ is equal to $0$.\n",
    "2. Appending $1$ to our bitstring whenever the i-th element of the sample $s_1$ is equal to $1$ and the i-th element of the sample $s_2$ is greater or equal $1$."
   ]
  },
  {
   "cell_type": "markdown",
   "id": "1591175a",
   "metadata": {},
   "source": [
    "#### The theory behind the Von Neumann post-processing: independent elements"
   ]
  },
  {
   "cell_type": "markdown",
   "id": "aec6c328",
   "metadata": {},
   "source": [
    "Let's assume that we have sample $S$  from an arbitrary (discrete) distribution. The probability that an element of $S$ is equal to 0 is noted $p$. The probability that an element of $S$ is not equal to $0$ is then $1 - p$. Every element from the sample is independent from the others.\n",
    "\n",
    "\n",
    "We can split that sample $S$ into two samples $V$ and $W$. We know that the samples $V$ and $W$ **should follow the same distribution** as the sample $S$.\n",
    "\n",
    "##### The probability of appending 0 to the bitstring:\n",
    "\n",
    "To append $0$ to the bitstring, we should have $V_i \\geq 1$ and $W_i = 0$ where the $i$-th subscript indicates the $i$-th element of $V$, $W$ respectively.\n",
    "\n",
    "$$ P(V_i \\geq 1) = 1 - p \\quad P(W_i = 0) = p$$\n",
    "\n",
    "\n",
    "Thus, the probability to append $0$ is:\n",
    "\n",
    "$$ P(V_i \\geq 1 \\text{ and } W_i = 0) = (1 - p) \\; p$$\n",
    "\n",
    "##### The probability of appending 1 to the bitstring:\n",
    "\n",
    "To append $1$ to the bitstring, we should have $V_i = 0$ and $W_i \\geq 1$ where the $i$-th subscript indicates the $i$-th element of $V$, $W$ respectively.\n",
    "\n",
    "$$ P(V_i  = 0) = p \\quad P(W_i \\geq 0) = 1 - p$$\n",
    "\n",
    "\n",
    "Thus, the probability to append $1$ is:\n",
    "\n",
    "$$ P(V_i  = 0 \\text{ and } W_i \\geq 0) = (1 - p) \\; p$$\n",
    "\n",
    "\n",
    "We can see that the probability that we append $0$ is equal to the probability to append $1$ and thus despite starting with a distribution far from being uniform. We can reach a uniform one.\n",
    "\n",
    "$$ P(\\text{ append } 0) =  P(\\text{ append } 1) = (1 - p) \\; p$$\n",
    "\n",
    "##### The probability of discarding the i-th element:\n",
    "We are also interested in knowing the probability of discarding the $i$-th element as this would impact the rate and cost of our random number generator.\n",
    "\n",
    "$$ P(\\text{ discarding the i-th element }) =  1 - P(\\text{ appending } 0) - P(\\text{ appending } 1) = 1 - 2p + 2p^2$$\n",
    "\n",
    "To minimize this probability, We need: $p = 0.5$. As can be checked by looking at the following plot:"
   ]
  },
  {
   "cell_type": "code",
   "execution_count": 24,
   "id": "9078b3bd",
   "metadata": {},
   "outputs": [
    {
     "data": {
      "image/png": "[encoded data removed]",
      "text/plain": [
       "<Figure size 432x288 with 1 Axes>"
      ]
     },
     "metadata": {
      "needs_background": "light"
     },
     "output_type": "display_data"
    }
   ],
   "source": [
    "p = np.linspace(0, 1)\n",
    "plt.plot(p, 1 - 2 * p + 2 * p**2)\n",
    "plt.grid()\n",
    "plt.xticks(np.arange(0, 1.1, 0.1))\n",
    "plt.yticks(np.arange(0, 1.1, 0.1))\n",
    "plt.xlim([0, 1])\n",
    "plt.ylim([0, 1])\n",
    "plt.xlabel(r\"$p$\")\n",
    "plt.ylabel(r\"Probability of discarding the $i$-th element\")\n",
    "plt.show()"
   ]
  },
  {
   "cell_type": "markdown",
   "id": "0289bec1",
   "metadata": {},
   "source": [
    "Knowing this, we can for example try to maximize the efficienty of our random number generator by configuring it (as long as it is possible) to have $p = 0.5$."
   ]
  },
  {
   "cell_type": "markdown",
   "id": "bc10b714",
   "metadata": {},
   "source": [
    "For the Qubit-based system, this can be done by applying the hadamard gate on our initial $\\ket{0}$ qubit. We would obtain:\n",
    "\n",
    "$$p = P(0) = P(1) = 0.5$$\n",
    "\n",
    "And we would be able to harness half of our generated sample to get a random bitstring."
   ]
  },
  {
   "cell_type": "markdown",
   "id": "469ab73c",
   "metadata": {},
   "source": [
    "If we apply an $R_y$ gate, for example, with angle $\\pi / 5$, we would have:"
   ]
  },
  {
   "cell_type": "code",
   "execution_count": 25,
   "id": "89872cf2",
   "metadata": {},
   "outputs": [],
   "source": [
    "p = np.cos(np.pi / 10)**2"
   ]
  },
  {
   "cell_type": "markdown",
   "id": "5b57f29a",
   "metadata": {},
   "source": [
    "$$p = P(0) = \\cos\\left(\\frac{\\pi / 5}{2}\\right)^2 \\approx 0.90 $$"
   ]
  },
  {
   "cell_type": "code",
   "execution_count": 26,
   "id": "672a457f",
   "metadata": {},
   "outputs": [
    {
     "data": {
      "text/plain": [
       "0.8272542485937366"
      ]
     },
     "execution_count": 26,
     "metadata": {},
     "output_type": "execute_result"
    }
   ],
   "source": [
    "1 - 2 * p + 2 * p**2"
   ]
  },
  {
   "cell_type": "markdown",
   "id": "f6881254",
   "metadata": {},
   "source": [
    "And we would loose 82.7% of our sample, which is a considerable lost."
   ]
  },
  {
   "cell_type": "markdown",
   "id": "25a9b6c5",
   "metadata": {},
   "source": [
    "#### the Von Neumann Post-processing: dependent elements"
   ]
  },
  {
   "cell_type": "markdown",
   "id": "3ca58563",
   "metadata": {},
   "source": [
    "Let's now assume that the element of our sample $S$ are not independent from one another, in this case the theory becomes more complicated. So, in the interest of time and clarity, let's proceed through examples and observations."
   ]
  },
  {
   "cell_type": "markdown",
   "id": "752c8933",
   "metadata": {},
   "source": [
    "##### Example 01:"
   ]
  },
  {
   "cell_type": "markdown",
   "id": "12b5c4ce",
   "metadata": {},
   "source": [
    "Let's assume that we are carrying a boson sampling experiment by sending 2 photons through a 2-mode interferometer.\n",
    "\n",
    "The possible output that can be detected are: $[1, 1], [2, 0], [0, 2]$ where the first number in the list indicates the number of photons detected in the first detector and the second number indicates the number of photons detected in the second detector.\n",
    "\n",
    "Let's also assume that the probability to obtain $[1, 1]$ is noted $p_1$, the probability to obtain $[2, 0]$ is $p_2$ and the probability to obtain $[0, 2]$ is $p_3$."
   ]
  },
  {
   "cell_type": "markdown",
   "id": "017a5f53",
   "metadata": {},
   "source": [
    "Let's assume that we carried a series of this experiement and obtain a sample of results $S$ and we are interested in the probability to append $0$ and $1$ if we follow the post-processing discussed above.\n",
    "\n",
    "| $V_i$    | $W_i$    | Probability | Post-processed bitstring |\n",
    "|----------|----------|-------------|--------------------------|\n",
    "| $[1, 1]$ | $[1, 1]$ | $p_1^2$     | $[]$                     |\n",
    "| $[1, 1]$ | $[2, 0]$ | $p_1 p_2$   | $[0]$                    |\n",
    "| $[1, 1]$ | $[0, 2]$ | $p_1 p_3$   | $[0]$                    |\n",
    "| $[2, 0]$ | $[1, 1]$ | $p_2 p_1$   | $[1]$                    |\n",
    "| $[2, 0]$ | $[2, 0]$ | $p_2^2$     | $[]$                     |\n",
    "| $[2, 0]$ | $[0, 2]$ | $p_2 p_3$   | $[0, 1]$                 |\n",
    "| $[0, 2]$ | $[1, 1]$ | $p_3 p_1$   | $[1]$                    |\n",
    "| $[0, 2]$ | $[2, 0]$ | $p_3 p_2$   | $[1, 0]$                 |\n",
    "| $[0, 2]$ | $[0, 2]$ | $p_3^2$     | $[]$                     |"
   ]
  },
  {
   "cell_type": "markdown",
   "id": "f7750801",
   "metadata": {},
   "source": [
    "As we can see, we can append $0$ and $1$ to our bitstring, but we can also append the \"words\" $01$ or $10$. \n",
    "\n",
    "Now, for the bitstring to be truly unbiased the probability of having $0$ or $1$ should be equal BUT ALSO the probability to have $00$, $01$, $10$, $11$ should be equal (and the same applies for longer combinations of 0,1).  An illustration of a bitstring where the $P(0) = P(1)$ but the bitstring is not random is this $01010101$. We can see that $P(0) = P(1)$ but given that we know that the $i$-th is $0$ we are guaranteed that the $i+1$-th bit is 1 and vice versa. A bias might be more suble where given that we know that the $i$-th is a certain value there is unequal probabilities for $i+1$-th bit to be $0$ or $1$.\n",
    "\n",
    "**Is $P(00) = P(01)$ for the sampling experiment above?**\n",
    "\n",
    "$$P(0) = p_1 p_2 + p_1 p_3  \\qquad P(1) = p_2 p_1 + p_3 p_1$$\n",
    "\n",
    "So, $$P(0) = P(1)$$. Let's check $P(00)$ and $P(01)$:\n",
    "$$P(00) = P(0) \\; P(0) \\qquad P(01) = P(0) \\; P(1) + p_2 p_3$$"
   ]
  },
  {
   "cell_type": "code",
   "execution_count": 27,
   "id": "bbd1bf2e",
   "metadata": {},
   "outputs": [],
   "source": [
    "def ex1_p_0(p1, p2):\n",
    "    p3 = 1 - p1 - p2\n",
    "    p3 = np.where(p3 < 0, np.nan, p3)\n",
    "    return p1 * p2 + p2 * p3"
   ]
  },
  {
   "cell_type": "code",
   "execution_count": 28,
   "id": "b6ab62da",
   "metadata": {},
   "outputs": [],
   "source": [
    "def ex1_p_1(p1, p2):\n",
    "    p3 = 1 - p1 - p2\n",
    "    p3 = np.where(p3 < 0, np.nan, p3)\n",
    "    return p1 * p2 + p2 * p3"
   ]
  },
  {
   "cell_type": "code",
   "execution_count": 29,
   "id": "76679101",
   "metadata": {},
   "outputs": [],
   "source": [
    "def ex1_p_00(p1, p2):\n",
    "    return ex1_p_0(p1, p2)**2"
   ]
  },
  {
   "cell_type": "code",
   "execution_count": 30,
   "id": "95a52a15",
   "metadata": {},
   "outputs": [],
   "source": [
    "def ex1_p_01(p1, p2):\n",
    "    p3 = 1 - p1 - p2\n",
    "    p3 = np.where(p3 < 0, np.nan, p3)\n",
    "    return ex1_p_0(p1, p2) * ex1_p_1(p1, p2) + p2 * p3"
   ]
  },
  {
   "cell_type": "code",
   "execution_count": 31,
   "id": "f2eb3b26",
   "metadata": {},
   "outputs": [],
   "source": [
    "def ex1_diff_p00_p01(p1, p2):\n",
    "    return  ex1_p_00(p1, p2) - ex1_p_01(p1, p2)"
   ]
  },
  {
   "cell_type": "code",
   "execution_count": 32,
   "id": "19707f2e",
   "metadata": {},
   "outputs": [],
   "source": [
    "p1 = np.linspace(0, 1)\n",
    "p2 = np.linspace(0, 1)\n",
    "mp1, mp2 = np.meshgrid(p1, p2)"
   ]
  },
  {
   "cell_type": "code",
   "execution_count": 33,
   "id": "cf5683f3",
   "metadata": {},
   "outputs": [
    {
     "data": {
      "image/png": "[encoded data removed]",
      "text/plain": [
       "<Figure size 432x288 with 2 Axes>"
      ]
     },
     "metadata": {
      "needs_background": "light"
     },
     "output_type": "display_data"
    }
   ],
   "source": [
    "plt.contourf(mp1, mp2, ex1_diff_p00_p01(mp1, mp2), levels=100)\n",
    "plt.colorbar()\n",
    "plt.xlabel(\"$p_1$\")\n",
    "plt.ylabel(\"$p_2$\")\n",
    "plt.title(\"$P(00) - P(01)$\")\n",
    "plt.show()"
   ]
  },
  {
   "cell_type": "markdown",
   "id": "055dfd8d",
   "metadata": {},
   "source": [
    "As we can see unless the $p_i$ are fine-tuned, the probabilities of having $00$, $01$ in this example (and in general) are unequal, which would introduce some bias. "
   ]
  },
  {
   "cell_type": "markdown",
   "id": "d286ea0d",
   "metadata": {},
   "source": [
    "Let's now see what is the probability of not appending anything to our bitstring. \n",
    "\n",
    "$$P(\\text{not appending}) = p_1^2 + p_2^2 + p_3^2$$"
   ]
  },
  {
   "cell_type": "code",
   "execution_count": 34,
   "id": "e35ec020",
   "metadata": {},
   "outputs": [],
   "source": [
    "def ex1_p_not_appending(p1, p2):\n",
    "    p3 = 1 - p1 - p2\n",
    "    p3 = np.where(p3 < 0, np.nan, p3)\n",
    "    return p1**2 + p2**2 + p3**2"
   ]
  },
  {
   "cell_type": "code",
   "execution_count": 35,
   "id": "309f05fe",
   "metadata": {},
   "outputs": [
    {
     "data": {
      "image/png": "[encoded data removed]",
      "text/plain": [
       "<Figure size 432x288 with 2 Axes>"
      ]
     },
     "metadata": {
      "needs_background": "light"
     },
     "output_type": "display_data"
    }
   ],
   "source": [
    "plt.contourf(mp1, mp2, ex1_p_not_appending(mp1, mp2), levels=100)\n",
    "plt.colorbar()\n",
    "plt.xlabel(\"$p_1$\")\n",
    "plt.ylabel(\"$p_2$\")\n",
    "plt.title(\"$P($not appending$)$\")\n",
    "plt.show()"
   ]
  },
  {
   "cell_type": "markdown",
   "id": "b2b5a8e2",
   "metadata": {},
   "source": [
    "We can see that the advantage of having dependent elements in our sample is that we can reach smaller probabilities of not appending anything to our bitstring, which means that we would have less waste and longer bitstrings."
   ]
  },
  {
   "cell_type": "markdown",
   "id": "ec006a86",
   "metadata": {},
   "source": [
    "##### Example 02:"
   ]
  },
  {
   "cell_type": "markdown",
   "id": "599c9964",
   "metadata": {},
   "source": [
    "Let's try to go a level harder and try to carry a boson sampling experiment like the one describe in section (3.2) of [Shi et al.](#References).\n",
    "\n",
    "In this experiment, we are sending two photons into a 5-mode interferometer and collecting the results. We implemented a boson sampling simulator which we can use to to carry this experiment and study the output."
   ]
  },
  {
   "cell_type": "code",
   "execution_count": 36,
   "id": "44be9680",
   "metadata": {},
   "outputs": [],
   "source": [
    "probs_ex2 = BosonSampler.get_theo_prob(shi_input_dict, shi_unitary5)"
   ]
  },
  {
   "cell_type": "code",
   "execution_count": 37,
   "id": "3bf8b93c",
   "metadata": {},
   "outputs": [
    {
     "data": {
      "image/png": "[encoded data removed]",
      "text/plain": [
       "<Figure size 432x288 with 1 Axes>"
      ]
     },
     "metadata": {
      "needs_background": "light"
     },
     "output_type": "display_data"
    }
   ],
   "source": [
    "plot_probs(probs_ex2)"
   ]
  },
  {
   "cell_type": "markdown",
   "id": "1e73ac33",
   "metadata": {},
   "source": [
    "As you can see, we retrieve the same probability distribution as in figure 4. (a). Now, let's see what we would obtain we we draw random samples from this distribution and postprocess them:"
   ]
  },
  {
   "cell_type": "code",
   "execution_count": 38,
   "id": "4fe67495",
   "metadata": {},
   "outputs": [
    {
     "data": {
      "text/plain": [
       "{'': 0.44304139369062234,\n",
       " '01': 0.6249299343169981,\n",
       " '0011': 0.05689875094630071,\n",
       " '1': 0.345105289406096,\n",
       " '011': 0.18773149775052814,\n",
       " '10': 0.6249299343169981,\n",
       " '0101': 0.10730937865653906,\n",
       " '101': 0.1890817329403677,\n",
       " '0110': 0.1898526313346462,\n",
       " '110': 0.07755980340426805,\n",
       " '1001': 0.1898526313346462,\n",
       " '1010': 0.10730937865653906,\n",
       " '1100': 0.05689875094630071,\n",
       " '0': 0.3451052894060961,\n",
       " '001': 0.07755980340426803,\n",
       " '010': 0.1890817329403677,\n",
       " '100': 0.18773149775052814}"
      ]
     },
     "execution_count": 38,
     "metadata": {},
     "output_type": "execute_result"
    }
   ],
   "source": [
    "study_boson_sampler(probs_ex2)"
   ]
  },
  {
   "cell_type": "markdown",
   "id": "6aa8dc6f",
   "metadata": {},
   "source": [
    "The function `study_boson_sampler` takes the output of `BosonSampler.get_theo_prob` and output a dictionnary whose keys are \"words\" and the values are the probabilities that these \"words\" gets appended to our final bitstring. \n",
    "\n",
    "As we can see the probability that nothing gets appended to the bitstring is very low 11% compared the minimal 50% for independent elements case. \n",
    "\n",
    "But, as we saw in the previous example, this comes at price which is that in the general case unless we choose our unitary very carefully there would be a small bias in our final bitstring as the probability of to have certain blocks in our bitstring is higher to the probability of having other blocks."
   ]
  },
  {
   "cell_type": "markdown",
   "id": "410d35ad",
   "metadata": {},
   "source": [
    "##### Example 03:"
   ]
  },
  {
   "cell_type": "markdown",
   "id": "20f42ec9",
   "metadata": {},
   "source": [
    "Let's look at another example in which the bias is more clear. Let's pick a 10-mode interferometer and send either two-photons in the 5th and 6th mode or in the 4th and 7th mode with probability 50% for each (look at the `ex3_input` below)."
   ]
  },
  {
   "cell_type": "code",
   "execution_count": 50,
   "id": "fb327abe",
   "metadata": {},
   "outputs": [],
   "source": [
    "from scipy.linalg import block_diag\n",
    "ex3_input = {\"0000110000\": 0.5, \"0001001000\": 0.5}\n",
    "ex3_unitary = block_diag(generate_haar_unitary(5), shi_unitary5)"
   ]
  },
  {
   "cell_type": "code",
   "execution_count": 51,
   "id": "f9070685",
   "metadata": {},
   "outputs": [],
   "source": [
    "probs_ex3 = BosonSampler.get_theo_prob(ex3_input, ex3_unitary)"
   ]
  },
  {
   "cell_type": "code",
   "execution_count": 52,
   "id": "1ed6c6e3",
   "metadata": {},
   "outputs": [
    {
     "data": {
      "text/plain": [
       "{'': 0.08596071717769593,\n",
       " '01': 0.21281077157568346,\n",
       " '0101': 0.12210539221865062,\n",
       " '10': 0.21281077157568348,\n",
       " '0110': 0.1221053922186506,\n",
       " '1001': 0.12210539221865065,\n",
       " '1010': 0.12210539221865067}"
      ]
     },
     "execution_count": 52,
     "metadata": {},
     "output_type": "execute_result"
    }
   ],
   "source": [
    "study_boson_sampler(probs_ex3)"
   ]
  },
  {
   "cell_type": "markdown",
   "id": "1570a464",
   "metadata": {},
   "source": [
    "As you can see here, the bias in the bitstring would be more obvious in this case. Given a bitstring generated with such an input and unitary. If we have $00$, we are certain that the next bit would be a $1$ and vice versa (if you are unsure why this is the case, try to pick any random two \"words\" from the results above and try to construct a bitstring with 3 consecutive $0$ or $1$, this is impossible.)"
   ]
  },
  {
   "cell_type": "markdown",
   "id": "1605b1d6",
   "metadata": {},
   "source": [
    "#### Post-processing: dependent elements, the unbiased way"
   ]
  },
  {
   "cell_type": "markdown",
   "id": "5cc0aacf",
   "metadata": {},
   "source": [
    "As we just saw, if we have a sample whose elements are dependent, we can generate bitstrings with less losses but at the cost of introducing suble (or less suble) biases. \n",
    "\n",
    "In what follows, we propose a post-processing schema to generate an unbiased bitstring from a sample with dependent elements.\n",
    "\n",
    "First lets. observe that in the example 2 and example 3, the probabilities to append a word which starts with a $0$ is similar to the probability of appending a word which starts with a $0$. (for example (2): the probabilities are ~ 44.46% and for example (3): the probabilities are 47%)\n",
    "\n",
    "\n",
    "1. We pass the sample through the Von Neumann post-processing.\n",
    "2. Instead of appending the words produced in the previous step to the bitstring, we append a $0$ to the bitstring if the word starts with $0$ and $1$ if the word starts with a $1$. "
   ]
  },
  {
   "cell_type": "markdown",
   "id": "da1c7442",
   "metadata": {},
   "source": [
    "## Testing the randomness"
   ]
  },
  {
   "cell_type": "markdown",
   "id": "9e0aa9f2",
   "metadata": {},
   "source": [
    "<img src=\"https://i.imgur.com/dmhKrL3.jpg\" style=\"height: 200px\" />\n",
    "\n",
    "Now, that we have methods to generate random numbers. We need a test to measure how random they are. As we saw in the previous section, looking for the frequencies of $0$s and $1$s is not enough. We should also look for repeating words, patterns, and etc. In what follows, we will assess the randomness of our bitstring by the using the [nistrng package](https://pypi.org/project/nistrng/), which is a python package implementing the 15 tests of the [NIST SP 800-22](https://nvlpubs.nist.gov/nistpubs/legacy/sp/nistspecialpublication800-22r1a.pdf) test-suite. A pedagogical review of some the tests can be found [here](https://medium.com/unitychain/provable-randomness-how-to-test-rngs-55ac6726c5a3). \n",
    "\n",
    "Beside that, we will also plot the distribution of the different BITs, BYTEs (8-bits), WORDs (16-bits), and DWORDs (32-bits) so that reader can have an simple visual representation of how unbiased (or biased) the outputs are. "
   ]
  },
  {
   "cell_type": "markdown",
   "id": "e62dbc64",
   "metadata": {},
   "source": [
    "## The CQT RNG package"
   ]
  },
  {
   "cell_type": "markdown",
   "id": "8290115d",
   "metadata": {},
   "source": [
    "<img src=\"CQT_RNG.jpeg\" />"
   ]
  },
  {
   "cell_type": "markdown",
   "id": "65c2cd8e",
   "metadata": {},
   "source": [
    "We gathered all the necessary code to generate a random bitstring and developped a package that was designed to be simple and extendable. The core of the package are three classes. The `RNG`, `EntropySource`, and `PostProcessor` classes. \n",
    "\n",
    "The `RNG` classes takes an entropy source and a postprocessor. The entropy source should be a subclass of the `EntropySource` abstract class and the postprocessor should be a subclass of the `PostProcessor` abstract class. \n",
    "\n",
    "This leaves plenty of room for the end-user to add his own entropy sources and post processors.\n",
    "\n",
    "We also provide some entropy sources:\n",
    "* `UniversalQCSampler`: Based on the [Qubit approach](#Quantum-RNG:-Qubits), simulated on qiskit's [aer_simulator](https://qiskit.org/documentation/stubs/qiskit.providers.aer.AerSimulator.html).\n",
    "* `ShiSFSampler`: Based on the approach described in [Shi et al.](https://arxiv.org/pdf/2206.02292.pdf), simulated on Strawberry Fields' [fock backend](https://strawberryfields.readthedocs.io/en/stable/code/api/strawberryfields.backends.FockBackend.html).\n",
    "* `BosonSampler`: Simulates a boson sampling experiment. Default arguments simulate the Shi et al. circuit. Faster than the Strawberry fields simulator.\n",
    "* `IBMQSampler`: Based on the [Qubit approach](#Quantum-RNG:-Qubits), experiment carried on [IBMQ hardware](https://www.ibm.com/quantum).\n",
    "* `BorealisSampler`: Based on Gaussian Boson Sampling, experiments carried on [Xanadu hardware](https://cloud.xanadu.ai/).\n",
    "* `Loader`: An entropy source which delivers samples from data inputted as `np.array` or load it from a `.npy` file.\n",
    "\n",
    "We also provide two postprocessors:\n",
    "* `VonNeumannPP`: Based on the [Von Neumann postprocessing](#The-Von-Neumann-post-processing-steps:)\n",
    "* `CQTPP`: Based on the approach described [here](#Post-processing:-dependent-elements,-the-unbiased-way)"
   ]
  },
  {
   "cell_type": "markdown",
   "id": "dd7f7678",
   "metadata": {},
   "source": [
    "### Qubits-based Simulator"
   ]
  },
  {
   "cell_type": "markdown",
   "id": "b7a8b44c",
   "metadata": {},
   "source": [
    "To generate a bitstring of length 100 using the [Qubit-based approach](#Quantum-RNG:-Qubits) as an entropy source and the [Von Neumann postprocessor](#The-Von-Neumann-post-processing-steps:):"
   ]
  },
  {
   "cell_type": "code",
   "execution_count": 43,
   "id": "ea8d1164",
   "metadata": {},
   "outputs": [],
   "source": [
    "from cqt_rng import RNG\n",
    "from cqt_rng.entropy_sources import UniversalQCSampler\n",
    "from cqt_rng.post_processors import VonNeumannPP\n",
    "\n",
    "\n",
    "es1 = UniversalQCSampler(nb_qubits = 5)\n",
    "pp1 = VonNeumannPP()\n",
    "rng1 = RNG(entropy_source=es1, postprocessor=pp1)"
   ]
  },
  {
   "cell_type": "code",
   "execution_count": 46,
   "id": "704c87ae",
   "metadata": {},
   "outputs": [
    {
     "name": "stderr",
     "output_type": "stream",
     "text": [
      "102it [00:00, 505.69it/s]                                                                                                                                                 \n"
     ]
    },
    {
     "data": {
      "text/plain": [
       "array([0, 1, 0, 0, 0, 1, 0, 1, 0, 0, 1, 0, 1, 0, 1, 0, 0, 1, 1, 1, 0, 1,\n",
       "       0, 0, 0, 1, 1, 1, 1, 1, 0, 1, 0, 0, 1, 0, 0, 1, 1, 1, 0, 1, 1, 0,\n",
       "       1, 0, 0, 1, 1, 0, 0, 0, 0, 1, 1, 1, 1, 0, 0, 1, 1, 0, 0, 1, 0, 1,\n",
       "       0, 0, 0, 1, 0, 1, 1, 1, 0, 1, 0, 1, 0, 0, 0, 0, 1, 1, 1, 0, 0, 0,\n",
       "       1, 0, 1, 1, 0, 1, 1, 1, 0, 1, 1, 0], dtype=int8)"
      ]
     },
     "execution_count": 46,
     "metadata": {},
     "output_type": "execute_result"
    }
   ],
   "source": [
    "rng1.generate(100)"
   ]
  },
  {
   "cell_type": "markdown",
   "id": "f058287c",
   "metadata": {},
   "source": [
    "### Shi et al. Simulator(s)"
   ]
  },
  {
   "cell_type": "markdown",
   "id": "b6e3dc1f",
   "metadata": {},
   "source": [
    "### Real Devices: IBMQ"
   ]
  },
  {
   "cell_type": "markdown",
   "id": "355f229b",
   "metadata": {},
   "source": [
    "### Real Devices: Borealis"
   ]
  },
  {
   "cell_type": "markdown",
   "id": "4dce31fc",
   "metadata": {},
   "source": [
    "## Conclusions"
   ]
  },
  {
   "cell_type": "code",
   "execution_count": null,
   "id": "96d4becc",
   "metadata": {},
   "outputs": [],
   "source": []
  },
  {
   "cell_type": "code",
   "execution_count": null,
   "id": "e499619b",
   "metadata": {},
   "outputs": [],
   "source": []
  },
  {
   "cell_type": "code",
   "execution_count": null,
   "id": "0996a48c",
   "metadata": {},
   "outputs": [],
   "source": []
  },
  {
   "cell_type": "code",
   "execution_count": null,
   "id": "54aa199c",
   "metadata": {},
   "outputs": [],
   "source": []
  },
  {
   "cell_type": "code",
   "execution_count": null,
   "id": "109f495c",
   "metadata": {},
   "outputs": [],
   "source": []
  },
  {
   "cell_type": "code",
   "execution_count": 10,
   "id": "1c7478e7",
   "metadata": {},
   "outputs": [],
   "source": [
    "from package.cqt_rng.base.rng import RNG"
   ]
  },
  {
   "cell_type": "code",
   "execution_count": 11,
   "id": "c631df88",
   "metadata": {},
   "outputs": [],
   "source": [
    "from package.cqt_rng.simulators.qubits_sampler import QubitsSampler"
   ]
  },
  {
   "cell_type": "code",
   "execution_count": 12,
   "id": "741353e5",
   "metadata": {},
   "outputs": [],
   "source": [
    "from package.cqt_rng.simulators.shi_sampler import ShiSampler"
   ]
  },
  {
   "cell_type": "code",
   "execution_count": 13,
   "id": "09f3d90f",
   "metadata": {},
   "outputs": [],
   "source": [
    "from scipy.linalg import block_diag"
   ]
  },
  {
   "cell_type": "code",
   "execution_count": 14,
   "id": "a032c57b",
   "metadata": {},
   "outputs": [],
   "source": [
    "rng1 = RNG(entropy_source=QubitsSampler())"
   ]
  },
  {
   "cell_type": "code",
   "execution_count": 15,
   "id": "c9d62ee7",
   "metadata": {},
   "outputs": [
    {
     "name": "stderr",
     "output_type": "stream",
     "text": [
      "27it [00:00, 192.62it/s]                                                        \n"
     ]
    },
    {
     "data": {
      "text/plain": [
       "array([1, 1, 1, 1, 1, 0, 0, 0, 0, 1, 1, 0, 0, 1, 0, 1, 1, 0, 0, 1, 1, 0,\n",
       "       1, 0])"
      ]
     },
     "execution_count": 15,
     "metadata": {},
     "output_type": "execute_result"
    }
   ],
   "source": [
    "rng1.generate(24)"
   ]
  },
  {
   "cell_type": "code",
   "execution_count": 16,
   "id": "4b126bfe",
   "metadata": {},
   "outputs": [],
   "source": [
    "unitary5 = ShiSampler.generate_haar_unitary(5)\n",
    "unitary10 = block_diag(unitary5, unitary5.T)"
   ]
  },
  {
   "cell_type": "code",
   "execution_count": 17,
   "id": "63192ab1",
   "metadata": {},
   "outputs": [],
   "source": [
    "# rng2 = RNG(entropy_source=ShiSampler(unitary = unitary10))"
   ]
  },
  {
   "cell_type": "code",
   "execution_count": 18,
   "id": "c091db6a",
   "metadata": {},
   "outputs": [],
   "source": [
    "# rng2.generate(10)"
   ]
  },
  {
   "cell_type": "code",
   "execution_count": 19,
   "id": "e8733a62",
   "metadata": {},
   "outputs": [],
   "source": [
    "unitary3 = ShiSampler.generate_haar_unitary(3)"
   ]
  },
  {
   "cell_type": "code",
   "execution_count": 20,
   "id": "d8fa1d04",
   "metadata": {},
   "outputs": [],
   "source": [
    "rng3 = RNG(entropy_source=ShiSampler(with_sf = True, unitary = unitary3))"
   ]
  },
  {
   "cell_type": "code",
   "execution_count": 21,
   "id": "7768b774",
   "metadata": {},
   "outputs": [],
   "source": [
    "# rng3.generate(20)"
   ]
  },
  {
   "cell_type": "code",
   "execution_count": 37,
   "id": "4e1167ad",
   "metadata": {},
   "outputs": [],
   "source": [
    "from qiskit import IBMQ, Aer\n",
    "from qiskit.providers.ibmq import least_busy\n",
    "from qiskit import QuantumCircuit, assemble, transpile\n",
    "from qiskit.tools.monitor import job_monitor"
   ]
  },
  {
   "cell_type": "code",
   "execution_count": 38,
   "id": "8ae045c8",
   "metadata": {},
   "outputs": [
    {
     "name": "stderr",
     "output_type": "stream",
     "text": [
      "ibmqfactory.load_account:WARNING:2022-08-17 22:08:17,913: Credentials are already in use. The existing account in the session will be replaced.\n"
     ]
    },
    {
     "name": "stdout",
     "output_type": "stream",
     "text": [
      "least busy backend:  ibmq_manila\n"
     ]
    }
   ],
   "source": [
    "IBMQ.load_account()\n",
    "provider = IBMQ.get_provider(hub='ibm-q')\n",
    "backend = least_busy(provider.backends(filters=lambda x: x.configuration().n_qubits >= 1 and\n",
    "                                   not x.configuration().simulator and x.status().operational==True))\n",
    "print(\"least busy backend: \", backend)"
   ]
  },
  {
   "cell_type": "code",
   "execution_count": 39,
   "id": "37c88177",
   "metadata": {},
   "outputs": [
    {
     "name": "stdout",
     "output_type": "stream",
     "text": [
      "Running the job on ibmq_manila with 5 qubits!\n"
     ]
    }
   ],
   "source": [
    "nb_qubits = backend.configuration().n_qubits\n",
    "\n",
    "print(f\"Running the job on {backend} with {nb_qubits} qubits!\")\n",
    "\n",
    "qc = QuantumCircuit(nb_qubits)\n",
    "\n",
    "for i in range(nb_qubits):\n",
    "    qc.h(i)\n",
    "    \n",
    "qc.measure_all()"
   ]
  },
  {
   "cell_type": "code",
   "execution_count": 45,
   "id": "7e5c7c70",
   "metadata": {},
   "outputs": [
    {
     "name": "stdout",
     "output_type": "stream",
     "text": [
      "Job Status: job has successfully run\n"
     ]
    }
   ],
   "source": [
    "transpiled_qc = transpile(qc, backend, optimization_level=3)\n",
    "job = backend.run(transpiled_qc, memory=True)\n",
    "job_monitor(job, interval=2)"
   ]
  },
  {
   "cell_type": "code",
   "execution_count": 46,
   "id": "e9f187ad",
   "metadata": {},
   "outputs": [],
   "source": [
    "results = job.result()"
   ]
  },
  {
   "cell_type": "code",
   "execution_count": 47,
   "id": "601d8a28",
   "metadata": {},
   "outputs": [
    {
     "data": {
      "text/plain": [
       "['10100',\n",
       " '00101',\n",
       " '01000',\n",
       " '00100',\n",
       " '10110',\n",
       " '10100',\n",
       " '01100',\n",
       " '10010',\n",
       " '10010',\n",
       " '11001',\n",
       " '11010',\n",
       " '10000',\n",
       " '00100',\n",
       " '10110',\n",
       " '10110',\n",
       " '01010',\n",
       " '11010',\n",
       " '10100',\n",
       " '00001',\n",
       " '01010',\n",
       " '11010',\n",
       " '11100',\n",
       " '10110',\n",
       " '01111',\n",
       " '01001',\n",
       " '00111',\n",
       " '11111',\n",
       " '10010',\n",
       " '11000',\n",
       " '01000',\n",
       " '00001',\n",
       " '00011',\n",
       " '10011',\n",
       " '11111',\n",
       " '01011',\n",
       " '11110',\n",
       " '11101',\n",
       " '11011',\n",
       " '11000',\n",
       " '01000',\n",
       " '01100',\n",
       " '00111',\n",
       " '11001',\n",
       " '01001',\n",
       " '10001',\n",
       " '11011',\n",
       " '00000',\n",
       " '11001',\n",
       " '01000',\n",
       " '00011',\n",
       " '00011',\n",
       " '10101',\n",
       " '10100',\n",
       " '10111',\n",
       " '11100',\n",
       " '00100',\n",
       " '10001',\n",
       " '10010',\n",
       " '01001',\n",
       " '11100',\n",
       " '00000',\n",
       " '10010',\n",
       " '01111',\n",
       " '01000',\n",
       " '10110',\n",
       " '10101',\n",
       " '11100',\n",
       " '00000',\n",
       " '00001',\n",
       " '00101',\n",
       " '10110',\n",
       " '01010',\n",
       " '10011',\n",
       " '00111',\n",
       " '11101',\n",
       " '00100',\n",
       " '00110',\n",
       " '11010',\n",
       " '10100',\n",
       " '00101',\n",
       " '00110',\n",
       " '11111',\n",
       " '00011',\n",
       " '10001',\n",
       " '11010',\n",
       " '00101',\n",
       " '11001',\n",
       " '01111',\n",
       " '11100',\n",
       " '00101',\n",
       " '10011',\n",
       " '10010',\n",
       " '11011',\n",
       " '00101',\n",
       " '00000',\n",
       " '00100',\n",
       " '00000',\n",
       " '00001',\n",
       " '00101',\n",
       " '01011',\n",
       " '01100',\n",
       " '11000',\n",
       " '10001',\n",
       " '11100',\n",
       " '00011',\n",
       " '11111',\n",
       " '10011',\n",
       " '01101',\n",
       " '00100',\n",
       " '01101',\n",
       " '10110',\n",
       " '00101',\n",
       " '11101',\n",
       " '11100',\n",
       " '10101',\n",
       " '00110',\n",
       " '00100',\n",
       " '00101',\n",
       " '00001',\n",
       " '01101',\n",
       " '00011',\n",
       " '01000',\n",
       " '01110',\n",
       " '11101',\n",
       " '01001',\n",
       " '01110',\n",
       " '01010',\n",
       " '10011',\n",
       " '10011',\n",
       " '01010',\n",
       " '11110',\n",
       " '00001',\n",
       " '00011',\n",
       " '11101',\n",
       " '11111',\n",
       " '10110',\n",
       " '00100',\n",
       " '10100',\n",
       " '00010',\n",
       " '00101',\n",
       " '11101',\n",
       " '01010',\n",
       " '01011',\n",
       " '01000',\n",
       " '11001',\n",
       " '11100',\n",
       " '01000',\n",
       " '00100',\n",
       " '11101',\n",
       " '00000',\n",
       " '01000',\n",
       " '00000',\n",
       " '11010',\n",
       " '01110',\n",
       " '11011',\n",
       " '00111',\n",
       " '11110',\n",
       " '11000',\n",
       " '10001',\n",
       " '00000',\n",
       " '01001',\n",
       " '10110',\n",
       " '10111',\n",
       " '11110',\n",
       " '00111',\n",
       " '10101',\n",
       " '01010',\n",
       " '01000',\n",
       " '10100',\n",
       " '10110',\n",
       " '11101',\n",
       " '01100',\n",
       " '11100',\n",
       " '01010',\n",
       " '11001',\n",
       " '10000',\n",
       " '11100',\n",
       " '11001',\n",
       " '10101',\n",
       " '00010',\n",
       " '10110',\n",
       " '00011',\n",
       " '11110',\n",
       " '01010',\n",
       " '11100',\n",
       " '10001',\n",
       " '00100',\n",
       " '00011',\n",
       " '11010',\n",
       " '01000',\n",
       " '10000',\n",
       " '00111',\n",
       " '01010',\n",
       " '01001',\n",
       " '11000',\n",
       " '11111',\n",
       " '01001',\n",
       " '10011',\n",
       " '11100',\n",
       " '00100',\n",
       " '00110',\n",
       " '11110',\n",
       " '00110',\n",
       " '10110',\n",
       " '00010',\n",
       " '11011',\n",
       " '10110',\n",
       " '10100',\n",
       " '01001',\n",
       " '01110',\n",
       " '10000',\n",
       " '00001',\n",
       " '11111',\n",
       " '11000',\n",
       " '00110',\n",
       " '10011',\n",
       " '11011',\n",
       " '00001',\n",
       " '10000',\n",
       " '01110',\n",
       " '11001',\n",
       " '11001',\n",
       " '11110',\n",
       " '10101',\n",
       " '00011',\n",
       " '10010',\n",
       " '01111',\n",
       " '10101',\n",
       " '10011',\n",
       " '01001',\n",
       " '00000',\n",
       " '00001',\n",
       " '11000',\n",
       " '01111',\n",
       " '10110',\n",
       " '10010',\n",
       " '01111',\n",
       " '01100',\n",
       " '00000',\n",
       " '11110',\n",
       " '00100',\n",
       " '00110',\n",
       " '10011',\n",
       " '01101',\n",
       " '10111',\n",
       " '01000',\n",
       " '01010',\n",
       " '11010',\n",
       " '00010',\n",
       " '00110',\n",
       " '00111',\n",
       " '01111',\n",
       " '01101',\n",
       " '01111',\n",
       " '10110',\n",
       " '00011',\n",
       " '01110',\n",
       " '01100',\n",
       " '11000',\n",
       " '10001',\n",
       " '10110',\n",
       " '11010',\n",
       " '10000',\n",
       " '00110',\n",
       " '11011',\n",
       " '00100',\n",
       " '01001',\n",
       " '00000',\n",
       " '10011',\n",
       " '10001',\n",
       " '11010',\n",
       " '10001',\n",
       " '01001',\n",
       " '01100',\n",
       " '10010',\n",
       " '10101',\n",
       " '00010',\n",
       " '10010',\n",
       " '11000',\n",
       " '11100',\n",
       " '10001',\n",
       " '10001',\n",
       " '00001',\n",
       " '00011',\n",
       " '00000',\n",
       " '10001',\n",
       " '01000',\n",
       " '00101',\n",
       " '11100',\n",
       " '11010',\n",
       " '11111',\n",
       " '10001',\n",
       " '11110',\n",
       " '11110',\n",
       " '10011',\n",
       " '10000',\n",
       " '01001',\n",
       " '11100',\n",
       " '01100',\n",
       " '11000',\n",
       " '11111',\n",
       " '00000',\n",
       " '11001',\n",
       " '01111',\n",
       " '11111',\n",
       " '01010',\n",
       " '11110',\n",
       " '11100',\n",
       " '00100',\n",
       " '00010',\n",
       " '10101',\n",
       " '00000',\n",
       " '11010',\n",
       " '01110',\n",
       " '11010',\n",
       " '10101',\n",
       " '01000',\n",
       " '01101',\n",
       " '00101',\n",
       " '01011',\n",
       " '11111',\n",
       " '01011',\n",
       " '10100',\n",
       " '10111',\n",
       " '11111',\n",
       " '01010',\n",
       " '01000',\n",
       " '00111',\n",
       " '11011',\n",
       " '11100',\n",
       " '10010',\n",
       " '01100',\n",
       " '01100',\n",
       " '01000',\n",
       " '11110',\n",
       " '00100',\n",
       " '11011',\n",
       " '11000',\n",
       " '00100',\n",
       " '10011',\n",
       " '00100',\n",
       " '11110',\n",
       " '11100',\n",
       " '11111',\n",
       " '01100',\n",
       " '11010',\n",
       " '11110',\n",
       " '01000',\n",
       " '00000',\n",
       " '00110',\n",
       " '11100',\n",
       " '11010',\n",
       " '00110',\n",
       " '11110',\n",
       " '01100',\n",
       " '00001',\n",
       " '01100',\n",
       " '11111',\n",
       " '10111',\n",
       " '11011',\n",
       " '01001',\n",
       " '01001',\n",
       " '10100',\n",
       " '01110',\n",
       " '00010',\n",
       " '01101',\n",
       " '11010',\n",
       " '01100',\n",
       " '01100',\n",
       " '01010',\n",
       " '11000',\n",
       " '10011',\n",
       " '11010',\n",
       " '00001',\n",
       " '00010',\n",
       " '00011',\n",
       " '00101',\n",
       " '00110',\n",
       " '10101',\n",
       " '00111',\n",
       " '10111',\n",
       " '10111',\n",
       " '01101',\n",
       " '11010',\n",
       " '01100',\n",
       " '10000',\n",
       " '00010',\n",
       " '11000',\n",
       " '01010',\n",
       " '10001',\n",
       " '10010',\n",
       " '00000',\n",
       " '01111',\n",
       " '01010',\n",
       " '10010',\n",
       " '11010',\n",
       " '11100',\n",
       " '00001',\n",
       " '00011',\n",
       " '10111',\n",
       " '10111',\n",
       " '01110',\n",
       " '10011',\n",
       " '10010',\n",
       " '00111',\n",
       " '01011',\n",
       " '11011',\n",
       " '00111',\n",
       " '11000',\n",
       " '00000',\n",
       " '00010',\n",
       " '10100',\n",
       " '10111',\n",
       " '11111',\n",
       " '01000',\n",
       " '00110',\n",
       " '11101',\n",
       " '10011',\n",
       " '10000',\n",
       " '10000',\n",
       " '11010',\n",
       " '01101',\n",
       " '00101',\n",
       " '11011',\n",
       " '11110',\n",
       " '11010',\n",
       " '01000',\n",
       " '00000',\n",
       " '11110',\n",
       " '11010',\n",
       " '11000',\n",
       " '10110',\n",
       " '10000',\n",
       " '00010',\n",
       " '00010',\n",
       " '00101',\n",
       " '10100',\n",
       " '00100',\n",
       " '00100',\n",
       " '10010',\n",
       " '01101',\n",
       " '00011',\n",
       " '10001',\n",
       " '00000',\n",
       " '10000',\n",
       " '11011',\n",
       " '10111',\n",
       " '00011',\n",
       " '11011',\n",
       " '01010',\n",
       " '10110',\n",
       " '10001',\n",
       " '10011',\n",
       " '00101',\n",
       " '00011',\n",
       " '01101',\n",
       " '01000',\n",
       " '11100',\n",
       " '01100',\n",
       " '00000',\n",
       " '10000',\n",
       " '00100',\n",
       " '10110',\n",
       " '00101',\n",
       " '00110',\n",
       " '01111',\n",
       " '01100',\n",
       " '11100',\n",
       " '00110',\n",
       " '01001',\n",
       " '01000',\n",
       " '11111',\n",
       " '10010',\n",
       " '01001',\n",
       " '11001',\n",
       " '00100',\n",
       " '01001',\n",
       " '10000',\n",
       " '11101',\n",
       " '10011',\n",
       " '01011',\n",
       " '11111',\n",
       " '00100',\n",
       " '11110',\n",
       " '00000',\n",
       " '11000',\n",
       " '00011',\n",
       " '11000',\n",
       " '00011',\n",
       " '01110',\n",
       " '01011',\n",
       " '10001',\n",
       " '00100',\n",
       " '11100',\n",
       " '11010',\n",
       " '10010',\n",
       " '00111',\n",
       " '00100',\n",
       " '01001',\n",
       " '00100',\n",
       " '11100',\n",
       " '01001',\n",
       " '11111',\n",
       " '10001',\n",
       " '10011',\n",
       " '11100',\n",
       " '10000',\n",
       " '00100',\n",
       " '01110',\n",
       " '00010',\n",
       " '11000',\n",
       " '01101',\n",
       " '00101',\n",
       " '11001',\n",
       " '01011',\n",
       " '01000',\n",
       " '11110',\n",
       " '10100',\n",
       " '10010',\n",
       " '11110',\n",
       " '01000',\n",
       " '01001',\n",
       " '11010',\n",
       " '11000',\n",
       " '11011',\n",
       " '11000',\n",
       " '11110',\n",
       " '11101',\n",
       " '11100',\n",
       " '01111',\n",
       " '11100',\n",
       " '10010',\n",
       " '10110',\n",
       " '01010',\n",
       " '11001',\n",
       " '01111',\n",
       " '10101',\n",
       " '10001',\n",
       " '11110',\n",
       " '11010',\n",
       " '10110',\n",
       " '10010',\n",
       " '10101',\n",
       " '00010',\n",
       " '01111',\n",
       " '00010',\n",
       " '00011',\n",
       " '00011',\n",
       " '01010',\n",
       " '11011',\n",
       " '11101',\n",
       " '01101',\n",
       " '10100',\n",
       " '11001',\n",
       " '01100',\n",
       " '11010',\n",
       " '10100',\n",
       " '11110',\n",
       " '01010',\n",
       " '01000',\n",
       " '10001',\n",
       " '00000',\n",
       " '01000',\n",
       " '11011',\n",
       " '00110',\n",
       " '01000',\n",
       " '00110',\n",
       " '01110',\n",
       " '11011',\n",
       " '00000',\n",
       " '01111',\n",
       " '01010',\n",
       " '11100',\n",
       " '01011',\n",
       " '11100',\n",
       " '11010',\n",
       " '00111',\n",
       " '11011',\n",
       " '10000',\n",
       " '10000',\n",
       " '10001',\n",
       " '10111',\n",
       " '00010',\n",
       " '00111',\n",
       " '01111',\n",
       " '10101',\n",
       " '01100',\n",
       " '00111',\n",
       " '00101',\n",
       " '01111',\n",
       " '11011',\n",
       " '10100',\n",
       " '11110',\n",
       " '11111',\n",
       " '10000',\n",
       " '01100',\n",
       " '01100',\n",
       " '01101',\n",
       " '01001',\n",
       " '10011',\n",
       " '01000',\n",
       " '01101',\n",
       " '10100',\n",
       " '00010',\n",
       " '00010',\n",
       " '11101',\n",
       " '01110',\n",
       " '10110',\n",
       " '01101',\n",
       " '10011',\n",
       " '10000',\n",
       " '11100',\n",
       " '01010',\n",
       " '10101',\n",
       " '00110',\n",
       " '10111',\n",
       " '00000',\n",
       " '00010',\n",
       " '00010',\n",
       " '11110',\n",
       " '01010',\n",
       " '10010',\n",
       " '10100',\n",
       " '00111',\n",
       " '11001',\n",
       " '10111',\n",
       " '01101',\n",
       " '10100',\n",
       " '10011',\n",
       " '00010',\n",
       " '01111',\n",
       " '10010',\n",
       " '11010',\n",
       " '00010',\n",
       " '10111',\n",
       " '00110',\n",
       " '01011',\n",
       " '10011',\n",
       " '00110',\n",
       " '01100',\n",
       " '01001',\n",
       " '10010',\n",
       " '01111',\n",
       " '00110',\n",
       " '11101',\n",
       " '01110',\n",
       " '10010',\n",
       " '00011',\n",
       " '11100',\n",
       " '10111',\n",
       " '10100',\n",
       " '11010',\n",
       " '11000',\n",
       " '00101',\n",
       " '00001',\n",
       " '01111',\n",
       " '01000',\n",
       " '00111',\n",
       " '11011',\n",
       " '01111',\n",
       " '10000',\n",
       " '01110',\n",
       " '10110',\n",
       " '10111',\n",
       " '01111',\n",
       " '10100',\n",
       " '11001',\n",
       " '00010',\n",
       " '10101',\n",
       " '00110',\n",
       " '00100',\n",
       " '10001',\n",
       " '00101',\n",
       " '00010',\n",
       " '01111',\n",
       " '01111',\n",
       " '10001',\n",
       " '00101',\n",
       " '11011',\n",
       " '11010',\n",
       " '01101',\n",
       " '00101',\n",
       " '00011',\n",
       " '01011',\n",
       " '00001',\n",
       " '00101',\n",
       " '00000',\n",
       " '01100',\n",
       " '01001',\n",
       " '10001',\n",
       " '00110',\n",
       " '00011',\n",
       " '11101',\n",
       " '00100',\n",
       " '00110',\n",
       " '01011',\n",
       " '10100',\n",
       " '11000',\n",
       " '01010',\n",
       " '01110',\n",
       " '00110',\n",
       " '00001',\n",
       " '11011',\n",
       " '11111',\n",
       " '00101',\n",
       " '01100',\n",
       " '10101',\n",
       " '01100',\n",
       " '01010',\n",
       " '00010',\n",
       " '00110',\n",
       " '01100',\n",
       " '01001',\n",
       " '10101',\n",
       " '10011',\n",
       " '00101',\n",
       " '01100',\n",
       " '10000',\n",
       " '10000',\n",
       " '10100',\n",
       " '11100',\n",
       " '01000',\n",
       " '11100',\n",
       " '11101',\n",
       " '11100',\n",
       " '11001',\n",
       " '11001',\n",
       " '00101',\n",
       " '10000',\n",
       " '00111',\n",
       " '11100',\n",
       " '00101',\n",
       " '11010',\n",
       " '01010',\n",
       " '11100',\n",
       " '11001',\n",
       " '01001',\n",
       " '01001',\n",
       " '00000',\n",
       " '11110',\n",
       " '10100',\n",
       " '11110',\n",
       " '01001',\n",
       " '00100',\n",
       " '00101',\n",
       " '00100',\n",
       " '11001',\n",
       " '00000',\n",
       " '10000',\n",
       " '01000',\n",
       " '00100',\n",
       " '11110',\n",
       " '00110',\n",
       " '10010',\n",
       " '11111',\n",
       " '00110',\n",
       " '10011',\n",
       " '00101',\n",
       " '11100',\n",
       " '10011',\n",
       " '10000',\n",
       " '11000',\n",
       " '00101',\n",
       " '11001',\n",
       " '11000',\n",
       " '11100',\n",
       " '01111',\n",
       " '01111',\n",
       " '11100',\n",
       " '01101',\n",
       " '11010',\n",
       " '10000',\n",
       " '10110',\n",
       " '01010',\n",
       " '00101',\n",
       " '01000',\n",
       " '01111',\n",
       " '11011',\n",
       " '10001',\n",
       " '00011',\n",
       " '01111',\n",
       " '10011',\n",
       " '11100',\n",
       " '01110',\n",
       " '11010',\n",
       " '10111',\n",
       " '11001',\n",
       " '10110',\n",
       " '11001',\n",
       " '01101',\n",
       " '01100',\n",
       " '11100',\n",
       " '11101',\n",
       " '10100',\n",
       " '10110',\n",
       " '11111',\n",
       " '11000',\n",
       " '10100',\n",
       " '11010',\n",
       " '01110',\n",
       " '11100',\n",
       " '11001',\n",
       " '10010',\n",
       " '10100',\n",
       " '00101',\n",
       " '01100',\n",
       " '10101',\n",
       " '11100',\n",
       " '11011',\n",
       " '00011',\n",
       " '10000',\n",
       " '10111',\n",
       " '11000',\n",
       " '10110',\n",
       " '11010',\n",
       " '10010',\n",
       " '00100',\n",
       " '10010',\n",
       " '10011',\n",
       " '01010',\n",
       " '10001',\n",
       " '10011',\n",
       " '11100',\n",
       " '10011',\n",
       " '11101',\n",
       " '00000',\n",
       " '11100',\n",
       " '00111',\n",
       " '01101',\n",
       " '10011',\n",
       " '01110',\n",
       " '10110',\n",
       " '00001',\n",
       " '01101',\n",
       " '10101',\n",
       " '00111',\n",
       " '00110',\n",
       " '11101',\n",
       " '11101',\n",
       " '00000',\n",
       " '00110',\n",
       " '01000',\n",
       " '11100',\n",
       " '01001',\n",
       " '10001',\n",
       " '10010',\n",
       " '00110',\n",
       " '10110',\n",
       " '00101',\n",
       " '11111',\n",
       " '11101',\n",
       " '00111',\n",
       " '01001',\n",
       " '00111',\n",
       " '00010',\n",
       " '01101',\n",
       " '11110',\n",
       " '00100',\n",
       " '11110',\n",
       " '10101',\n",
       " '01011',\n",
       " '01010',\n",
       " '10101',\n",
       " '11000',\n",
       " '00101',\n",
       " '00010',\n",
       " '01011',\n",
       " '11111',\n",
       " '01101',\n",
       " '00101',\n",
       " '00110',\n",
       " '01000',\n",
       " '01110',\n",
       " '11100',\n",
       " '01110',\n",
       " '00011',\n",
       " '10110',\n",
       " '01101',\n",
       " '00000',\n",
       " '01011',\n",
       " '11110',\n",
       " '10001',\n",
       " '10000',\n",
       " '01110',\n",
       " '11010',\n",
       " '01100',\n",
       " '11100',\n",
       " '01111',\n",
       " '11111',\n",
       " '11010',\n",
       " '01111',\n",
       " '10010',\n",
       " '11110',\n",
       " '11100',\n",
       " '00000',\n",
       " '11111',\n",
       " '00010',\n",
       " '00010',\n",
       " '10011',\n",
       " '10111',\n",
       " '01100',\n",
       " '00100',\n",
       " '00010',\n",
       " '01110',\n",
       " '11100',\n",
       " '10000',\n",
       " '11010',\n",
       " '01001',\n",
       " '10100',\n",
       " '00000',\n",
       " '10100',\n",
       " '00111',\n",
       " '01010',\n",
       " '11000',\n",
       " '01011',\n",
       " '00000',\n",
       " '01111',\n",
       " '10110',\n",
       " '10100',\n",
       " '01110',\n",
       " '10110',\n",
       " '01100',\n",
       " '10111',\n",
       " '01101',\n",
       " '10000',\n",
       " '00000',\n",
       " '10000',\n",
       " '01110',\n",
       " '11111',\n",
       " '01010',\n",
       " '01000',\n",
       " '10111',\n",
       " '10111',\n",
       " '01010',\n",
       " '01100',\n",
       " '10111',\n",
       " '11100',\n",
       " '11000',\n",
       " '00011',\n",
       " '00110',\n",
       " '10100',\n",
       " '10001',\n",
       " '10000',\n",
       " '00000',\n",
       " '01110',\n",
       " '01010',\n",
       " '01101',\n",
       " '11010',\n",
       " '10011',\n",
       " '00101',\n",
       " '11010',\n",
       " '01000',\n",
       " '01111',\n",
       " '01100',\n",
       " '10000',\n",
       " '11001',\n",
       " '11000',\n",
       " '00100',\n",
       " '10101',\n",
       " '00010',\n",
       " '10001',\n",
       " '00000',\n",
       " '01010',\n",
       " '10100',\n",
       " '10000',\n",
       " '01101',\n",
       " '01000',\n",
       " '10110',\n",
       " '01010',\n",
       " '10110',\n",
       " '01011',\n",
       " '10101',\n",
       " '01110',\n",
       " '01100',\n",
       " '10000',\n",
       " '10001',\n",
       " '10011',\n",
       " '10000',\n",
       " '00101',\n",
       " '00011',\n",
       " '01100',\n",
       " '11000',\n",
       " '11111',\n",
       " '11101',\n",
       " '01010',\n",
       " '10110',\n",
       " '00010',\n",
       " '10010',\n",
       " '01101',\n",
       " '00010',\n",
       " '10100',\n",
       " '01101',\n",
       " '01001',\n",
       " '10101',\n",
       " '11111',\n",
       " '01011',\n",
       " '10011',\n",
       " '11111',\n",
       " '01011',\n",
       " '00001',\n",
       " ...]"
      ]
     },
     "execution_count": 47,
     "metadata": {},
     "output_type": "execute_result"
    }
   ],
   "source": [
    "results.get_memory()"
   ]
  },
  {
   "cell_type": "code",
   "execution_count": 54,
   "id": "d19f7fcf",
   "metadata": {},
   "outputs": [],
   "source": [
    "bitstring_str = \"\".join(results.get_memory())"
   ]
  },
  {
   "cell_type": "code",
   "execution_count": 56,
   "id": "ce232227",
   "metadata": {},
   "outputs": [],
   "source": [
    "data_arr = np.array(list(bitstring_str)).astype(int)"
   ]
  },
  {
   "cell_type": "code",
   "execution_count": 58,
   "id": "7258dc7b",
   "metadata": {},
   "outputs": [],
   "source": [
    "s1 = data_arr[:10000]"
   ]
  },
  {
   "cell_type": "code",
   "execution_count": 59,
   "id": "b8ca612f",
   "metadata": {},
   "outputs": [],
   "source": [
    "s2 = data_arr[10000:]"
   ]
  },
  {
   "cell_type": "code",
   "execution_count": 61,
   "id": "e1f81983",
   "metadata": {},
   "outputs": [
    {
     "data": {
      "text/plain": [
       "10000"
      ]
     },
     "execution_count": 61,
     "metadata": {},
     "output_type": "execute_result"
    }
   ],
   "source": [
    "np.size(s2)"
   ]
  },
  {
   "cell_type": "code",
   "execution_count": 64,
   "id": "40191360",
   "metadata": {},
   "outputs": [],
   "source": [
    "def postprocess(sample_1, sample_2):\n",
    "    \"\"\"\n",
    "        TODO: Von-Neumann post-processing\n",
    "    \"\"\"\n",
    "    bitstring = []\n",
    "    for bit_1, bit_2 in zip(sample_1, sample_2):\n",
    "        if bit_1 == 0 and bit_2 != 0:\n",
    "            bitstring.append(1)\n",
    "        elif  bit_1 != 0 and bit_2 == 0:\n",
    "            bitstring.append(0)\n",
    "\n",
    "    return bitstring"
   ]
  },
  {
   "cell_type": "code",
   "execution_count": 65,
   "id": "c749ca0c",
   "metadata": {},
   "outputs": [],
   "source": [
    "rng = postprocess(s1, s2)"
   ]
  },
  {
   "cell_type": "code",
   "execution_count": 67,
   "id": "ad07f365",
   "metadata": {},
   "outputs": [
    {
     "data": {
      "text/plain": [
       "5016"
      ]
     },
     "execution_count": 67,
     "metadata": {},
     "output_type": "execute_result"
    }
   ],
   "source": [
    "np.size(rng)"
   ]
  },
  {
   "cell_type": "code",
   "execution_count": 68,
   "id": "6de3c4dc",
   "metadata": {},
   "outputs": [],
   "source": [
    "def bitstring_to_8b_nbs(bitstring):\n",
    "    \"\"\"\n",
    "    Transform the 01 bitstring into char numbers (8bits)\n",
    "    \"\"\"\n",
    "    bs = np.copy(bitstring)\n",
    "    diff = 8 - (np.size(bs) % 8)\n",
    "    bs = np.pad(bs, (0, diff), 'constant', constant_values=2)\n",
    "    r = np.size(bs) // 8\n",
    "    cropped_bs = np.resize(bs, (r, 8))[:-1, :]\n",
    "    useful_r = r - 1 if diff else r \n",
    "    res = []\n",
    "    for i in range(useful_r):\n",
    "        d = int(\"\".join(cropped_bs[i, :].astype(str)), 2)    \n",
    "        res.append(d)\n",
    "    return np.array(res)"
   ]
  },
  {
   "cell_type": "code",
   "execution_count": 69,
   "id": "76087744",
   "metadata": {},
   "outputs": [],
   "source": [
    "rng_8b = bitstring_to_8b_nbs(rng)"
   ]
  },
  {
   "cell_type": "code",
   "execution_count": 73,
   "id": "7098b3e0",
   "metadata": {},
   "outputs": [],
   "source": [
    "import nistrng\n",
    "\n",
    "def nist_tests(bitstring):\n",
    "    # Check the eligibility of the test and generate an eligible battery from the default NIST-sp800-22r1a battery\n",
    "    eligible_battery: dict = nistrng.check_eligibility_all_battery(bitstring, nistrng.SP800_22R1A_BATTERY)\n",
    "    # Print the eligible tests\n",
    "    print(\"Eligible test from NIST-SP800-22r1a:\")\n",
    "    for name in eligible_battery.keys():\n",
    "        print(\"-\" + name)\n",
    "    # Test the result on the eligible tests\n",
    "    results = nistrng.run_all_battery(bitstring, eligible_battery, False)\n",
    "    # Print results one by one\n",
    "    print(\"Test results:\")\n",
    "    failed = 0\n",
    "    for result, elapsed_time in results:\n",
    "        if result.passed:\n",
    "            print(\"- PASSED - score: \" + str(np.round(result.score, 3)) + \" - \" + result.name + \" - elapsed time: \" + str(elapsed_time) + \" ms\")\n",
    "        else:\n",
    "            failed += 1\n",
    "            print(\"- FAILED - score: \" + str(np.round(result.score, 3)) + \" - \" + result.name + \" - elapsed time: \" + str(elapsed_time) + \" ms\")\n",
    "\n",
    "    print(f\"Total failed tests: {failed}/{len(eligible_battery.keys())}\")"
   ]
  },
  {
   "cell_type": "code",
   "execution_count": 72,
   "id": "e0e49cb4",
   "metadata": {},
   "outputs": [
    {
     "name": "stdout",
     "output_type": "stream",
     "text": [
      "The percentage of 1 bits: 49.04306220095694%\n"
     ]
    }
   ],
   "source": [
    "print(f\"The percentage of 1 bits: {np.sum(rng) * 100 / 5016}%\")"
   ]
  },
  {
   "cell_type": "code",
   "execution_count": 75,
   "id": "9b078d6b",
   "metadata": {},
   "outputs": [
    {
     "name": "stdout",
     "output_type": "stream",
     "text": [
      "Eligible test from NIST-SP800-22r1a:\n",
      "-monobit\n",
      "-frequency_within_block\n",
      "-runs\n",
      "-longest_run_ones_in_a_block\n",
      "-dft\n",
      "-non_overlapping_template_matching\n",
      "-serial\n",
      "-approximate_entropy\n",
      "-cumulative sums\n",
      "-random_excursion\n",
      "-random_excursion_variant\n",
      "Test results:\n",
      "- PASSED - score: 0.175 - Monobit - elapsed time: 0 ms\n",
      "- PASSED - score: 0.144 - Frequency Within Block - elapsed time: 2 ms\n",
      "- PASSED - score: 0.629 - Runs - elapsed time: 6 ms\n",
      "- PASSED - score: 0.368 - Longest Run Ones In A Block - elapsed time: 0 ms\n",
      "- PASSED - score: 0.14 - Discrete Fourier Transform - elapsed time: 5 ms\n",
      "- PASSED - score: 1.0 - Non Overlapping Template Matching - elapsed time: 22 ms\n",
      "- PASSED - score: 0.422 - Serial - elapsed time: 148 ms\n",
      "- PASSED - score: 0.181 - Approximate Entropy - elapsed time: 116 ms\n",
      "- PASSED - score: 0.198 - Cumulative Sums - elapsed time: 5 ms\n",
      "- FAILED - score: 0.079 - Random Excursion - elapsed time: 23 ms\n",
      "- PASSED - score: 0.562 - Random Excursion Variant - elapsed time: 2 ms\n",
      "Total failed tests: 1/11\n"
     ]
    }
   ],
   "source": [
    "nist_tests(np.array(rng))"
   ]
  },
  {
   "cell_type": "code",
   "execution_count": null,
   "id": "68b88660",
   "metadata": {},
   "outputs": [],
   "source": []
  },
  {
   "cell_type": "markdown",
   "id": "9a2e8e39",
   "metadata": {},
   "source": [
    "## References"
   ]
  },
  {
   "cell_type": "markdown",
   "id": "ac0d1b7e",
   "metadata": {},
   "source": [
    "1. [An Unbiased Quantum Random Number Generator Based\n",
    "on Boson Sampling](https://arxiv.org/pdf/2206.02292.pdf)\n",
    "1. [NIST SP 800-22](https://nvlpubs.nist.gov/nistpubs/legacy/sp/nistspecialpublication800-22r1a.pdf)\n",
    "1. [Provable Randomness: How to Test RNGs](https://medium.com/unitychain/provable-randomness-how-to-test-rngs-55ac6726c5a3)\n",
    "1. [On the interpretation of results from the NIST statistical test suite](https://www.researchgate.net/publication/287224641_On_the_interpretation_of_results_from_the_NIST_statistical_test_suite)\n",
    "1. [Quantum computational advantage with a programmable photonic processor](https://www.nature.com/articles/s41586-022-04725-x)"
   ]
  }
 ],
 "metadata": {
  "kernelspec": {
   "display_name": "Python 3 (ipykernel)",
   "language": "python",
   "name": "python3"
  },
  "language_info": {
   "codemirror_mode": {
    "name": "ipython",
    "version": 3
   },
   "file_extension": ".py",
   "mimetype": "text/x-python",
   "name": "python",
   "nbconvert_exporter": "python",
   "pygments_lexer": "ipython3",
   "version": "3.10.4"
  }
 },
 "nbformat": 4,
 "nbformat_minor": 5
}
