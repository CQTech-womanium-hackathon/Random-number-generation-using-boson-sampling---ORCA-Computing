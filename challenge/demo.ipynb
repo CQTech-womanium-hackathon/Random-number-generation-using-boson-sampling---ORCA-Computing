{
 "cells": [
  {
   "cell_type": "markdown",
   "id": "883406b2",
   "metadata": {},
   "source": [
    "# On Random Number Generation"
   ]
  },
  {
   "cell_type": "markdown",
   "id": "1cc5173f",
   "metadata": {},
   "source": [
    "<span style=\"font-size: 12px; color: #777; float: right;\">This cell contains Latex macros.</span>\n",
    "$$\n",
    "\\newcommand{\\ket}[1]{| #1 \\rangle}\n",
    "\\newcommand{\\bra}[1]{\\langle #1 |}\n",
    "$$"
   ]
  },
  {
   "cell_type": "code",
   "execution_count": 1,
   "id": "dda83bd7",
   "metadata": {},
   "outputs": [],
   "source": [
    "import numpy as np\n",
    "import matplotlib.pyplot as plt"
   ]
  },
  {
   "cell_type": "code",
   "execution_count": 2,
   "id": "effe7a8c",
   "metadata": {},
   "outputs": [],
   "source": [
    "from package.cqt_rng.simulators.boson_sampler import BosonSampler\n",
    "from package.cqt_rng.utils.study_boson_sampler import study_boson_sampler, plot_probs\n",
    "from package.cqt_rng.utils.constants import shi_input_dict, shi_unitary5\n",
    "from package.cqt_rng.utils.generate_haar_unitary import generate_haar_unitary"
   ]
  },
  {
   "cell_type": "markdown",
   "id": "099f6d86",
   "metadata": {},
   "source": [
    "### Content:\n",
    "* [Why do we need RNG?](#Why-do-we-need-RNG?)"
   ]
  },
  {
   "cell_type": "markdown",
   "id": "2039f061",
   "metadata": {},
   "source": [
    "## Why do we need RNG?"
   ]
  },
  {
   "cell_type": "markdown",
   "id": "2b1f0e5a",
   "metadata": {},
   "source": [
    "### Science"
   ]
  },
  {
   "cell_type": "code",
   "execution_count": null,
   "id": "c1e3178d",
   "metadata": {},
   "outputs": [],
   "source": []
  },
  {
   "cell_type": "markdown",
   "id": "56fec169",
   "metadata": {},
   "source": [
    "### Cryptography"
   ]
  },
  {
   "cell_type": "code",
   "execution_count": null,
   "id": "73fa1eee",
   "metadata": {},
   "outputs": [],
   "source": []
  },
  {
   "cell_type": "markdown",
   "id": "14601315",
   "metadata": {},
   "source": [
    "## The problem at hand"
   ]
  },
  {
   "cell_type": "markdown",
   "id": "554f5e1b",
   "metadata": {},
   "source": [
    "We saw how important it is to generate random numbers. Our task is to find a procedure that generates **uniform, unbiased, unreproducible random numbers with a sufficient rate**."
   ]
  },
  {
   "cell_type": "markdown",
   "id": "b95232ad",
   "metadata": {},
   "source": [
    "## Making an RNG device"
   ]
  },
  {
   "cell_type": "markdown",
   "id": "92812390",
   "metadata": {},
   "source": [
    "We can decompose the process of generating random numbers into two part:\n",
    "1. **Entropy source**: The entropy source generates a sample of random numbers. The sample doesn't need to be uniform, we just expect it to be **truly random** and **unreproducible**.\n",
    "1. **The post-processor**: The post-processor takes a sample of random numbers and outputs a bitstring which should be **uniform**.\n",
    "\n",
    "Applying the post-processor on the samples taken from entropy source should guarantee that our final output is: **truly random, unreproducible and uniform**."
   ]
  },
  {
   "cell_type": "markdown",
   "id": "2cbb22ed",
   "metadata": {},
   "source": [
    "### The entropy source"
   ]
  },
  {
   "cell_type": "markdown",
   "id": "2a6538d8",
   "metadata": {},
   "source": [
    "#### Classical RNG: (Pseudo-RNG)"
   ]
  },
  {
   "cell_type": "markdown",
   "id": "727fe41d",
   "metadata": {},
   "source": [
    "In python, it is fairly easy to generate random numbers thanks to package like `random` and `numpy`."
   ]
  },
  {
   "cell_type": "code",
   "execution_count": 10,
   "id": "037cc717",
   "metadata": {},
   "outputs": [
    {
     "data": {
      "text/plain": [
       "array([0, 0, 0, 0, 1, 0, 1, 0, 0, 0])"
      ]
     },
     "execution_count": 10,
     "metadata": {},
     "output_type": "execute_result"
    }
   ],
   "source": [
    "np.random.randint(0, 2, size = 10)"
   ]
  },
  {
   "cell_type": "markdown",
   "id": "535dab72",
   "metadata": {},
   "source": [
    "But, how random are these numbers? The output above looks pretty random, so did we solve our problem already? No, `numpy` and other classical solutions generate numbers which are **approximately random**. These numbers might be useful in a variety of applications but not in **critical applications** like security and science."
   ]
  },
  {
   "cell_type": "markdown",
   "id": "e7eac268",
   "metadata": {},
   "source": [
    "Let's try to understand how `numpy` generate its random numbers. For this, let's pick an [oversimplified algorithm](https://en.wikipedia.org/wiki/Pseudorandom_number_generator#Implementation)."
   ]
  },
  {
   "cell_type": "code",
   "execution_count": 65,
   "id": "b5f429e2",
   "metadata": {},
   "outputs": [],
   "source": [
    "def prng(seed, size):\n",
    "    bitstring = np.empty(size, dtype=int)\n",
    "    a, b = 17, 19 # a and b need to be prime numbers\n",
    "    \n",
    "    for i in range(size):\n",
    "        num = seed * a\n",
    "        bitstring[i] = np.round((num**3 % b) / b)\n",
    "        seed += 1\n",
    "        \n",
    "    return bitstring"
   ]
  },
  {
   "cell_type": "markdown",
   "id": "bec3464b",
   "metadata": {},
   "source": [
    "And generate a bitstring of length 95:"
   ]
  },
  {
   "cell_type": "code",
   "execution_count": 61,
   "id": "b48da3a0",
   "metadata": {},
   "outputs": [
    {
     "data": {
      "text/plain": [
       "array([0, 0, 0, 1, 0, 0, 1, 1, 0, 1, 1, 1, 0, 0, 0, 0, 1, 1, 1, 0, 0, 0,\n",
       "       1, 0, 0, 1, 1, 0, 1, 1, 1, 0, 0, 0, 0, 1, 1, 1, 0, 0, 0, 1, 0, 0,\n",
       "       1, 1, 0, 1, 1, 1, 0, 0, 0, 0, 1, 1, 1, 0, 0, 0, 1, 0, 0, 1, 1, 0,\n",
       "       1, 1, 1, 0, 0, 0, 0, 1, 1, 1, 0, 0, 0, 1, 0, 0, 1, 1, 0, 1, 1, 1,\n",
       "       0, 0, 0, 0, 1, 1, 1])"
      ]
     },
     "execution_count": 61,
     "metadata": {},
     "output_type": "execute_result"
    }
   ],
   "source": [
    "prng(42, 19 * 5)"
   ]
  },
  {
   "cell_type": "markdown",
   "id": "f545121e",
   "metadata": {},
   "source": [
    "This looks pretty random doesn't it? However, it is **not**:\n",
    "\n",
    "1. Everyone who knows your algorithm and knows the initial state (the seed) would be able to **reproduce** your results."
   ]
  },
  {
   "cell_type": "code",
   "execution_count": 68,
   "id": "eaf89c5f",
   "metadata": {},
   "outputs": [
    {
     "data": {
      "text/plain": [
       "array([0, 0, 0, 1, 0, 0, 1, 1, 0, 1, 1, 1, 0, 0, 0, 0, 1, 1, 1, 0, 0, 0,\n",
       "       1, 0, 0, 1, 1, 0, 1, 1, 1, 0, 0, 0, 0, 1, 1, 1, 0, 0, 0, 1, 0, 0,\n",
       "       1, 1, 0, 1, 1, 1, 0, 0, 0, 0, 1, 1, 1, 0, 0, 0, 1, 0, 0, 1, 1, 0,\n",
       "       1, 1, 1, 0, 0, 0, 0, 1, 1, 1, 0, 0, 0, 1, 0, 0, 1, 1, 0, 1, 1, 1,\n",
       "       0, 0, 0, 0, 1, 1, 1])"
      ]
     },
     "execution_count": 68,
     "metadata": {},
     "output_type": "execute_result"
    }
   ],
   "source": [
    "prng(42, 19 * 5) # same output"
   ]
  },
  {
   "cell_type": "markdown",
   "id": "27d72308",
   "metadata": {},
   "source": [
    "2. If you look closely you will see that their is a pattern that get's repeated:"
   ]
  },
  {
   "cell_type": "code",
   "execution_count": 62,
   "id": "ad2c3ec5",
   "metadata": {},
   "outputs": [
    {
     "data": {
      "text/plain": [
       "array([[0, 0, 0, 1, 0, 0, 1, 1, 0, 1, 1, 1, 0, 0, 0, 0, 1, 1, 1],\n",
       "       [0, 0, 0, 1, 0, 0, 1, 1, 0, 1, 1, 1, 0, 0, 0, 0, 1, 1, 1],\n",
       "       [0, 0, 0, 1, 0, 0, 1, 1, 0, 1, 1, 1, 0, 0, 0, 0, 1, 1, 1],\n",
       "       [0, 0, 0, 1, 0, 0, 1, 1, 0, 1, 1, 1, 0, 0, 0, 0, 1, 1, 1],\n",
       "       [0, 0, 0, 1, 0, 0, 1, 1, 0, 1, 1, 1, 0, 0, 0, 0, 1, 1, 1]])"
      ]
     },
     "execution_count": 62,
     "metadata": {},
     "output_type": "execute_result"
    }
   ],
   "source": [
    "np.reshape(_, (5, 19))"
   ]
  },
  {
   "cell_type": "markdown",
   "id": "289238c7",
   "metadata": {},
   "source": [
    "You can check that the same happens with numpy, let's pick the seed to be `12` and run `np.random.randint`. On my PC, I get: `array([1, 1, 0, 1, 1, 0, 1, 1, 0, 0])`. Try it on your PC, you would get the same results. This means that if their is a breach which would allow someone to know your `seed`. That person can easily reproduce all the random numbers you generate."
   ]
  },
  {
   "cell_type": "code",
   "execution_count": 43,
   "id": "66605fc5",
   "metadata": {},
   "outputs": [
    {
     "data": {
      "text/plain": [
       "array([1, 1, 0, 1, 1, 0, 1, 1, 0, 0])"
      ]
     },
     "execution_count": 43,
     "metadata": {},
     "output_type": "execute_result"
    }
   ],
   "source": [
    "np.random.seed(12)\n",
    "np.random.randint(0, 2, size = 10)"
   ]
  },
  {
   "cell_type": "markdown",
   "id": "a9f4efa6",
   "metadata": {},
   "source": [
    "Of course, there exists more advanced algorithm's to generate random numbers but generating **truly random** numbers using a classical computer is impossible. This means that we need to change paradigm. We should use a **Quantum** computer to solve our problem. \n",
    "\n",
    "Indeed, a key property of quantum system is the **randomness of the measurements** as long as the quantum state isn't in an eigenstate of the measured observable. \n",
    "\n",
    "So, to make a **truly random and unreproducible** entropy source. We should:\n",
    "1. Pick a quantum system. \n",
    "1. Make sure that the system is a superposition.\n",
    "1. Carry a measurement.\n",
    "1. And we would obtain **truly random** and **unreproducible** results.\n",
    "\n",
    "Let's see two examples of quantum systems which can be used:"
   ]
  },
  {
   "cell_type": "markdown",
   "id": "6dc78a35",
   "metadata": {},
   "source": [
    "#### Quantum RNG: Qubits"
   ]
  },
  {
   "cell_type": "markdown",
   "id": "10102310",
   "metadata": {},
   "source": [
    "A qubit is any two-states (state $\\ket{0}$ and state $\\ket{1}$) quantum system. We can apply a superposing gate on a $\\ket{0}$-state qubit (for example: the hadamard $H$ or the rotation on y-axis $R_y(\\theta)$). To obtain, a quantum state:\n",
    "\n",
    "$$\\ket{\\psi} = \\alpha \\ket{0} + \\beta \\ket{1}$$\n",
    "\n",
    "Then, after making a measurement, we would obtain $0$ with probability $|\\alpha|^2$ and $1$ with probability $|\\beta|^2$.\n",
    "\n",
    "This is a theoretically very simple schema to generate random numbers. Yet, it is complex to carry experimentally."
   ]
  },
  {
   "cell_type": "markdown",
   "id": "c4941808",
   "metadata": {},
   "source": [
    "#### Quantum RNG: Boson Sampling"
   ]
  },
  {
   "cell_type": "markdown",
   "id": "d271d29a",
   "metadata": {},
   "source": [
    "Boson sampling is reminiscent of a [Galton's board](https://en.wikipedia.org/wiki/Galton_board). A Galton's Board is a vertical board in which we drop balls from the top, let them go through an array of pegs and collect them into bins at the bottom. \n",
    "\n",
    "<img src=\"https://i.imgur.com/U05YsTk.png\" style=\"max-height: 300px;\"/>\n",
    "<span style=\"font-size: 12px; float: right;\"><a href=\"https://research.ibm.com/haifa/ponderthis/challenges/December2021.html\">source</a></span>"
   ]
  },
  {
   "cell_type": "markdown",
   "id": "68cceaa7",
   "metadata": {},
   "source": [
    "In a boson sampling experiment, we send a single photon (or more) into an $M$-mode interferometer (which is an array of phase gates and beamsplitters), and then we measure from where it leaves the interferometer.\n",
    "\n",
    "<img src=\"https://i.imgur.com/jEdggIq.png/\" style=\"max-height: 300px;\">\n",
    "<span style=\"font-size: 12px; float: right;\"><a href=\"https://quantum-journal.org/papers/q-2019-08-05-169/\">source</a></span>"
   ]
  },
  {
   "cell_type": "markdown",
   "id": "049800e0",
   "metadata": {},
   "source": [
    "The photon(s) at the end of the interferometer is(are) _generally_ in a superposition of states. The probability to find $n$-photons at the $m$-detector is a [computationally complex problem](https://strawberryfields.ai/photonics/demos/run_boson_sampling.html) but we know that (apart from some exceptions) the probability is not uniform as you can see from the following figure. The advantage of the boson sampling approach is that it is a rather simple experiment as it only requires phase gates and beamsplitters in comparaison to a gate-based approach."
   ]
  },
  {
   "cell_type": "code",
   "execution_count": 4,
   "id": "cc604099",
   "metadata": {},
   "outputs": [
    {
     "data": {
      "image/png": "[encoded data removed]",
      "text/plain": [
       "<Figure size 432x288 with 1 Axes>"
      ]
     },
     "metadata": {
      "needs_background": "light"
     },
     "output_type": "display_data"
    }
   ],
   "source": [
    "# Probability distribution of sending a photon in the 1st mode through a haar random unitary\n",
    "probs_bs1 = BosonSampler.get_theo_prob({\"100\": 1}, generate_haar_unitary(3))\n",
    "plot_probs(probs_bs1)"
   ]
  },
  {
   "cell_type": "markdown",
   "id": "749c79d1",
   "metadata": {},
   "source": [
    "### The post-processing"
   ]
  },
  {
   "cell_type": "markdown",
   "id": "8e69117f",
   "metadata": {},
   "source": [
    "As we already stated above, the output of the entropy source is not expected to be uniform (e.g: the boson sampling experiment). So, we need to carry a post-processing to obtain a uniform and unbiased random output."
   ]
  },
  {
   "cell_type": "markdown",
   "id": "fc2fe124",
   "metadata": {},
   "source": [
    "#### The post-processing steps:"
   ]
  },
  {
   "cell_type": "markdown",
   "id": "d221f003",
   "metadata": {},
   "source": [
    "Given two samples $s_1$ and $s_2$. We would build our uniform bitstring by:\n",
    "1. Appending $0$ to our bitstring whenever the i-th element of the sample $s_1$ is greater or equal $1$ and the i-th element of the sample $s_2$ is equal to $0$.\n",
    "2. Appending $1$ to our bitstring whenever the i-th element of the sample $s_1$ is equal to $1$ and the i-th element of the sample $s_2$ is greater or equal $1$."
   ]
  },
  {
   "cell_type": "markdown",
   "id": "1591175a",
   "metadata": {},
   "source": [
    "#### The theory behind post-processing: independent elements"
   ]
  },
  {
   "cell_type": "markdown",
   "id": "aec6c328",
   "metadata": {},
   "source": [
    "Let's assume that we have sample $S$  from an arbitrary (discrete) distribution. The probability that an element of $S$ is equal to 0 is noted $p$. The probability that an element of $S$ is not equal to $0$ is then $1 - p$. Every element from the sample is independent from the others.\n",
    "\n",
    "\n",
    "We can split that sample $S$ into two samples $V$ and $W$. We know that the samples $V$ and $W$ **should follow the same distribution** as the sample $S$.\n",
    "\n",
    "##### The probability of appending 0 to the bitstring:\n",
    "\n",
    "To append $0$ to the bitstring the $V_i \\geq 1$ and $W_i = 0$. Where the $i$-th subscript indicates the $i$-th element of $V$, $W$ respectively.\n",
    "\n",
    "$$ P(V_i \\geq 1) = 1 - p \\quad P(W_i = 0) = p$$\n",
    "\n",
    "\n",
    "Thus, the probability to append $0$ is:\n",
    "\n",
    "$$ P(V_i \\geq 1 \\text{ and } W_i = 0) = (1 - p) \\; p$$\n",
    "\n",
    "##### The probability of appending 1 to the bitstring:\n",
    "\n",
    "To append $1$ to the bitstring the $V_i = 0$ and $W_i \\geq 1$. Where the $i$-th subscript indicates the $i$-th element of $V$, $W$ respectively.\n",
    "\n",
    "$$ P(V_i  = 0) = p \\quad P(W_i \\geq 0) = 1 - p$$\n",
    "\n",
    "\n",
    "Thus, the probability to append $1$ is:\n",
    "\n",
    "$$ P(V_i  = 0 \\text{ and } W_i \\geq 0) = (1 - p) \\; p$$\n",
    "\n",
    "\n",
    "We can see that the probability that we append $0$ is equal to the probability to append $1$ and thus despite starting with a distribution far from being uniform. We can reach a uniform one.\n",
    "\n",
    "$$ P(\\text{ append } 0) =  P(\\text{ append } 1) = (1 - p) \\; p$$\n",
    "\n",
    "##### The probability of discarding the i-th element:\n",
    "We are also interested in knowing the probability of discarding the $i$-th element as this would impact the rate and cost of our random number generator.\n",
    "\n",
    "$$ P(\\text{ discarding the i-th element }) =  1 - P(\\text{ appending } 0) - P(\\text{ appending } 1) = 1 - 2p + 2p^2$$\n",
    "\n",
    "To minimize this probability, We need: $p = 0.5$. As can be checked by looking at the following plot:"
   ]
  },
  {
   "cell_type": "code",
   "execution_count": 93,
   "id": "9078b3bd",
   "metadata": {},
   "outputs": [
    {
     "data": {
      "image/png": "[encoded data removed]",
      "text/plain": [
       "<Figure size 432x288 with 1 Axes>"
      ]
     },
     "metadata": {
      "needs_background": "light"
     },
     "output_type": "display_data"
    }
   ],
   "source": [
    "p = np.linspace(0, 1)\n",
    "plt.plot(p, 1 - 2 * p + 2 * p**2)\n",
    "plt.grid()\n",
    "plt.xticks(np.arange(0, 1.1, 0.1))\n",
    "plt.yticks(np.arange(0, 1.1, 0.1))\n",
    "plt.xlim([0, 1])\n",
    "plt.ylim([0, 1])\n",
    "plt.xlabel(r\"$p$\")\n",
    "plt.ylabel(r\"Probability of discarding the $i$-th element\")\n",
    "plt.show()"
   ]
  },
  {
   "cell_type": "markdown",
   "id": "0289bec1",
   "metadata": {},
   "source": [
    "Knowing this, we can for example try to maximize the efficienty of our random number generator by configuring it (as long as it is possible) to have $p = 0.5$."
   ]
  },
  {
   "cell_type": "markdown",
   "id": "bc10b714",
   "metadata": {},
   "source": [
    "For the Qubit-based system, this can be done by applying the hadamard gate on our initial $\\ket{0}$ qubit. We would obtain:\n",
    "\n",
    "$$p = P(0) = P(1) = 0.5$$\n",
    "\n",
    "And we would be able to harness half of our generated sample to get a random bitstring."
   ]
  },
  {
   "cell_type": "markdown",
   "id": "469ab73c",
   "metadata": {},
   "source": [
    "If we apply an $R_y$ gate, for example, with angle $\\pi / 5$, we would have:"
   ]
  },
  {
   "cell_type": "code",
   "execution_count": 86,
   "id": "89872cf2",
   "metadata": {},
   "outputs": [],
   "source": [
    "p = np.cos(np.pi / 10)**2"
   ]
  },
  {
   "cell_type": "markdown",
   "id": "5b57f29a",
   "metadata": {},
   "source": [
    "$$p = P(0) = \\cos\\left(\\frac{\\pi / 5}{2}\\right)^2 \\approx 0.90 $$"
   ]
  },
  {
   "cell_type": "code",
   "execution_count": 87,
   "id": "672a457f",
   "metadata": {},
   "outputs": [
    {
     "data": {
      "text/plain": [
       "0.8272542485937366"
      ]
     },
     "execution_count": 87,
     "metadata": {},
     "output_type": "execute_result"
    }
   ],
   "source": [
    "1 - 2 * p + 2 * p**2"
   ]
  },
  {
   "cell_type": "markdown",
   "id": "f6881254",
   "metadata": {},
   "source": [
    "And we would loose 82.7% of our sample, which is a considerable lost."
   ]
  },
  {
   "cell_type": "markdown",
   "id": "25a9b6c5",
   "metadata": {},
   "source": [
    "#### Post-processing: dependent elements"
   ]
  },
  {
   "cell_type": "markdown",
   "id": "3ca58563",
   "metadata": {},
   "source": [
    "Let's now assume that the element of our sample $S$ are not independent from one another, in this case the theory becomes more complicated. So, in the interest of time and clarity, let's proceed through examples and observations."
   ]
  },
  {
   "cell_type": "markdown",
   "id": "752c8933",
   "metadata": {},
   "source": [
    "##### Example 01:"
   ]
  },
  {
   "cell_type": "markdown",
   "id": "12b5c4ce",
   "metadata": {},
   "source": [
    "Let's assume that we are carrying a boson sampling experiment by sending 2 photons through a 2-mode interferometer.\n",
    "\n",
    "The possible output that can be detected are: $[1, 1], [2, 0], [0, 2]$ where the first number in the list indicates the number of photons detected in the first detector and the second number indicates the number of photons detected in the second detector.\n",
    "\n",
    "Let's also assume that the probability to obtain $[1, 1]$ is noted $p_1$, the probability to obtain $[2, 0]$ is $p_2$ and the probability to obtain $[0, 2]$ is $p_3$."
   ]
  },
  {
   "cell_type": "markdown",
   "id": "017a5f53",
   "metadata": {},
   "source": [
    "Let's assume that we carried a series of this experiement and obtain a sample of results $S$ and we are interested in the probability to append $0$ and $1$ if we follow the post-processing discussed above.\n",
    "\n",
    "| $V_i$    | $W_i$    | Probability | Post-processed bitstring |\n",
    "|----------|----------|-------------|--------------------------|\n",
    "| $[1, 1]$ | $[1, 1]$ | $p_1^2$     | $[]$                     |\n",
    "| $[1, 1]$ | $[2, 0]$ | $p_1 p_2$   | $[0]$                    |\n",
    "| $[1, 1]$ | $[0, 2]$ | $p_1 p_3$   | $[0]$                    |\n",
    "| $[2, 0]$ | $[1, 1]$ | $p_2 p_1$   | $[1]$                    |\n",
    "| $[2, 0]$ | $[2, 0]$ | $p_2^2$     | $[]$                     |\n",
    "| $[2, 0]$ | $[0, 2]$ | $p_2 p_3$   | $[0, 1]$                 |\n",
    "| $[0, 2]$ | $[1, 1]$ | $p_3 p_1$   | $[1]$                    |\n",
    "| $[0, 2]$ | $[2, 0]$ | $p_3 p_2$   | $[1, 0]$                 |\n",
    "| $[0, 2]$ | $[0, 2]$ | $p_3^2$     | $[]$                     |"
   ]
  },
  {
   "cell_type": "markdown",
   "id": "f7750801",
   "metadata": {},
   "source": [
    "As we can see, we can append $0$ and $1$ to our bitstring, but we can also append $01$ or $10$. \n",
    "\n",
    "Now, for the bitstring to be truly unbiased the probability of having $0$ or $1$ should be equal BUT ALSO the probability to have $00$, $01$, $10$, $11$ should be equal (and the same applies for longer combinations of 0,1).  An illustration of a bitstring where the $P(0) = P(1)$ but the bitstring is not random is this $01010101$. We can see that $P(0) = P(1)$ but given that we know that the $i$-th is $0$ we are guaranteed that the $i+1$-th bit is 1 and vice versa. A bias might be more suble where given that we know that the $i$-th is a certain value there is unequal probabilities for $i+1$-th bit to be $0$ or $1$.\n",
    "\n",
    "**Is $P(00) = P(01)$ for the sampling experiment above?**\n",
    "\n",
    "$$P(0) = p_1 p_2 + p_1 p_3 - p_1 p_2 p_3 \\qquad P(1) = p_2 p_1 + p_3 p_1 - p_1 p_2 p_3$$\n",
    "\n",
    "So, $$P(0) = P(1)$$. Let's check $P(00)$ and $P(01)$:\n",
    "$$P(00) = P(0) \\; P(0) \\qquad P(01) = P(0) \\; P(1) + p_2 p_3$$"
   ]
  },
  {
   "cell_type": "code",
   "execution_count": 94,
   "id": "bbd1bf2e",
   "metadata": {},
   "outputs": [],
   "source": [
    "def p_0(p1, p2):\n",
    "    p3 = 1 - p1 - p2\n",
    "    return p1 * p2 + p2 * p3 - p1 * p2 * p3"
   ]
  },
  {
   "cell_type": "code",
   "execution_count": 95,
   "id": "b6ab62da",
   "metadata": {},
   "outputs": [],
   "source": [
    "def p_1(p1, p2):\n",
    "    p3 = 1 - p1 - p2\n",
    "    return p1 * p2 + p2 * p3 - p1 * p2 * p3"
   ]
  },
  {
   "cell_type": "code",
   "execution_count": 96,
   "id": "76679101",
   "metadata": {},
   "outputs": [],
   "source": [
    "def p_00(p1, p2):\n",
    "    return p_0(p1, p2)**2"
   ]
  },
  {
   "cell_type": "code",
   "execution_count": 97,
   "id": "95a52a15",
   "metadata": {},
   "outputs": [],
   "source": [
    "def p_01(p1, p2):\n",
    "    p3 = 1 - p1 - p2\n",
    "    return p_0(p1, p2) * p_1(p1, p2) + p2 * p3"
   ]
  },
  {
   "cell_type": "code",
   "execution_count": 105,
   "id": "f2eb3b26",
   "metadata": {},
   "outputs": [],
   "source": [
    "def diff_p00_p01(p1, p2):\n",
    "    return  p_00(p1, p2) - p_01(p1, p2)"
   ]
  },
  {
   "cell_type": "code",
   "execution_count": 106,
   "id": "19707f2e",
   "metadata": {},
   "outputs": [],
   "source": [
    "p1 = np.linspace(0, 1)\n",
    "p2 = np.linspace(0, 1)\n",
    "mp1, mp2 = np.meshgrid(p1, p2)"
   ]
  },
  {
   "cell_type": "code",
   "execution_count": 121,
   "id": "cf5683f3",
   "metadata": {},
   "outputs": [
    {
     "data": {
      "image/png": "[encoded data removed]",
      "text/plain": [
       "<Figure size 432x288 with 2 Axes>"
      ]
     },
     "metadata": {
      "needs_background": "light"
     },
     "output_type": "display_data"
    }
   ],
   "source": [
    "plt.contour(mp1, mp2, diff_p00_p01(mp1, mp2), levels=10)\n",
    "plt.colorbar()\n",
    "plt.xlabel(\"$p_1$\")\n",
    "plt.ylabel(\"$p_2$\")\n",
    "plt.title(\"$P(00) - P(01)$\")\n",
    "plt.show()"
   ]
  },
  {
   "cell_type": "markdown",
   "id": "055dfd8d",
   "metadata": {},
   "source": [
    "As we can see unless the $p_i$ are fine-tuned, the probabilities of having $00$, $01$ in this example are unequal, which introduces some bias. "
   ]
  },
  {
   "cell_type": "markdown",
   "id": "d286ea0d",
   "metadata": {},
   "source": [
    "Let's now see what is the probability of not appending anything to our bitstring."
   ]
  },
  {
   "cell_type": "markdown",
   "id": "ec006a86",
   "metadata": {},
   "source": [
    "##### Example 02:"
   ]
  },
  {
   "cell_type": "markdown",
   "id": "599c9964",
   "metadata": {},
   "source": [
    "Let's try to go a level harder and try to understand the output (after post-processing) of the [Shi et al. experiment](#References).\n",
    "\n",
    "In this experiment (and as far as we understood), we are sending two photons into a 5-mode interferometer and collecting the results. We implemented a boson sampling simulator which we can use to to carry this experiment and study the output."
   ]
  },
  {
   "cell_type": "code",
   "execution_count": 2,
   "id": "44be9680",
   "metadata": {},
   "outputs": [],
   "source": [
    "probs_ex2 = BosonSampler.get_theo_prob(shi_input_dict, shi_unitary5)"
   ]
  },
  {
   "cell_type": "code",
   "execution_count": 3,
   "id": "3bf8b93c",
   "metadata": {},
   "outputs": [
    {
     "data": {
      "image/png": "[encoded data removed]",
      "text/plain": [
       "<Figure size 432x288 with 1 Axes>"
      ]
     },
     "metadata": {
      "needs_background": "light"
     },
     "output_type": "display_data"
    }
   ],
   "source": [
    "plot_probs(probs_ex2)"
   ]
  },
  {
   "cell_type": "markdown",
   "id": "1e73ac33",
   "metadata": {},
   "source": [
    "As you can see, we retrieve the same probability distribution as in figure 4. (a). Now, let's see what we would obtain we we draw random samples from this distribution and postprocess them:"
   ]
  },
  {
   "cell_type": "code",
   "execution_count": 4,
   "id": "4fe67495",
   "metadata": {},
   "outputs": [
    {
     "data": {
      "text/plain": [
       "{'': 0.11076034842265559,\n",
       " '01': 0.15623248357924951,\n",
       " '0011': 0.014224687736575177,\n",
       " '1': 0.086276322351524,\n",
       " '011': 0.046932874437632034,\n",
       " '10': 0.15623248357924951,\n",
       " '0101': 0.026827344664134764,\n",
       " '101': 0.047270433235091926,\n",
       " '0110': 0.04746315783366155,\n",
       " '110': 0.01938995085106701,\n",
       " '1001': 0.04746315783366155,\n",
       " '1010': 0.026827344664134764,\n",
       " '1100': 0.014224687736575177,\n",
       " '0': 0.08627632235152402,\n",
       " '001': 0.019389950851067008,\n",
       " '010': 0.047270433235091926,\n",
       " '100': 0.046932874437632034}"
      ]
     },
     "execution_count": 4,
     "metadata": {},
     "output_type": "execute_result"
    }
   ],
   "source": [
    "study_boson_sampler(probs_ex2)"
   ]
  },
  {
   "cell_type": "markdown",
   "id": "6aa8dc6f",
   "metadata": {},
   "source": [
    "The function `study_boson_sampler` takes the output of `BosonSampler.get_theo_prob` and output a dictionnary whose keys are bitstrings and the values are the probabilities that the bitstring gets appended to our final bitstring. \n",
    "\n",
    "As we can see the probability that nothing gets appended to the bitstring is very low 11% compared the minimal 50% for previous case. But, this comes at price which is that in the general case unless we choose our unitary very carefully there would be a small bias in our final bitstring because if we calculate."
   ]
  },
  {
   "cell_type": "markdown",
   "id": "410d35ad",
   "metadata": {},
   "source": [
    "##### Example 03:"
   ]
  },
  {
   "cell_type": "markdown",
   "id": "20f42ec9",
   "metadata": {},
   "source": [
    "Let's look at another example in which the bias is more clear. Let's pick a 10-mode interferometer and send either two-photons in the 5th and 6th mode or in the 4th and 7th mode with probability 50% for each (look at the `ex3_input` below)."
   ]
  },
  {
   "cell_type": "code",
   "execution_count": 5,
   "id": "fb327abe",
   "metadata": {},
   "outputs": [],
   "source": [
    "from scipy.linalg import block_diag\n",
    "ex3_input = {\"0000110000\": 0.5, \"0001001000\": 0.5}\n",
    "ex3_unitary = block_diag(shi_unitary5[:, ::-1], shi_unitary5)"
   ]
  },
  {
   "cell_type": "code",
   "execution_count": 7,
   "id": "f9070685",
   "metadata": {},
   "outputs": [],
   "source": [
    "probs_ex3 = BosonSampler.get_theo_prob(ex3_input, ex3_unitary)"
   ]
  },
  {
   "cell_type": "code",
   "execution_count": 8,
   "id": "1ed6c6e3",
   "metadata": {},
   "outputs": [
    {
     "data": {
      "text/plain": [
       "{'': 0.0582240772333743,\n",
       " '01': 0.1830735048886352,\n",
       " '0101': 0.14390914285283732,\n",
       " '10': 0.1830735048886353,\n",
       " '0110': 0.14390914285283737,\n",
       " '1001': 0.14390914285283737,\n",
       " '1010': 0.14390914285283732}"
      ]
     },
     "execution_count": 8,
     "metadata": {},
     "output_type": "execute_result"
    }
   ],
   "source": [
    "study_boson_sampler(probs_ex3)"
   ]
  },
  {
   "cell_type": "markdown",
   "id": "1570a464",
   "metadata": {},
   "source": [
    "As you can see here, the bias in the bitstring would be more obvious in this case. Given a bitstring generated with such an input and unitary. If we have $00$, we are certain that the next bit would be a $1$ and vice versa."
   ]
  },
  {
   "cell_type": "markdown",
   "id": "1605b1d6",
   "metadata": {},
   "source": [
    "#### Post-processing: dependent elements, the unbiased way"
   ]
  },
  {
   "cell_type": "markdown",
   "id": "5cc0aacf",
   "metadata": {},
   "source": [
    "As we just saw, if we have a sample whose elements are dependent, we can generate bitstrings with less losses but at the cost of introducing suble (or less suble) biases. If we only care about having an unbiased bitstring at the cost of rate. We would make two postprocessings. In the first one, we would obtain results similar to the postprocessing described above, then if the obtain bitstring starts with a $0$ we would append $0$ to our final bitstring and if the bitstring starts with $1$, we would append $1$ to our final bitstring.\n",
    "\n",
    "This way, we guarentee that our final bitstring is free from all biases."
   ]
  },
  {
   "cell_type": "markdown",
   "id": "da1c7442",
   "metadata": {},
   "source": [
    "## Testing the randomness"
   ]
  },
  {
   "cell_type": "markdown",
   "id": "e62dbc64",
   "metadata": {},
   "source": [
    "## The CQT RNG package"
   ]
  },
  {
   "cell_type": "markdown",
   "id": "089e96f8",
   "metadata": {},
   "source": [
    "### The package architecture"
   ]
  },
  {
   "cell_type": "code",
   "execution_count": null,
   "id": "e0a409c0",
   "metadata": {},
   "outputs": [],
   "source": []
  },
  {
   "cell_type": "code",
   "execution_count": null,
   "id": "ea8d1164",
   "metadata": {},
   "outputs": [],
   "source": []
  },
  {
   "cell_type": "markdown",
   "id": "f058287c",
   "metadata": {},
   "source": [
    "### Shi et al. Simulator(s)"
   ]
  },
  {
   "cell_type": "markdown",
   "id": "dd7f7678",
   "metadata": {},
   "source": [
    "### Qubits-based Simulator"
   ]
  },
  {
   "cell_type": "markdown",
   "id": "b6e3dc1f",
   "metadata": {},
   "source": [
    "### Real Devices: IBMQ"
   ]
  },
  {
   "cell_type": "markdown",
   "id": "355f229b",
   "metadata": {},
   "source": [
    "### Real Devices: Borealis"
   ]
  },
  {
   "cell_type": "markdown",
   "id": "4dce31fc",
   "metadata": {},
   "source": [
    "## Conclusions"
   ]
  },
  {
   "cell_type": "code",
   "execution_count": null,
   "id": "96d4becc",
   "metadata": {},
   "outputs": [],
   "source": []
  },
  {
   "cell_type": "code",
   "execution_count": null,
   "id": "e499619b",
   "metadata": {},
   "outputs": [],
   "source": []
  },
  {
   "cell_type": "code",
   "execution_count": null,
   "id": "0996a48c",
   "metadata": {},
   "outputs": [],
   "source": []
  },
  {
   "cell_type": "code",
   "execution_count": null,
   "id": "54aa199c",
   "metadata": {},
   "outputs": [],
   "source": []
  },
  {
   "cell_type": "code",
   "execution_count": null,
   "id": "109f495c",
   "metadata": {},
   "outputs": [],
   "source": []
  },
  {
   "cell_type": "code",
   "execution_count": 10,
   "id": "1c7478e7",
   "metadata": {},
   "outputs": [],
   "source": [
    "from package.cqt_rng.base.rng import RNG"
   ]
  },
  {
   "cell_type": "code",
   "execution_count": 11,
   "id": "c631df88",
   "metadata": {},
   "outputs": [],
   "source": [
    "from package.cqt_rng.simulators.qubits_sampler import QubitsSampler"
   ]
  },
  {
   "cell_type": "code",
   "execution_count": 12,
   "id": "741353e5",
   "metadata": {},
   "outputs": [],
   "source": [
    "from package.cqt_rng.simulators.shi_sampler import ShiSampler"
   ]
  },
  {
   "cell_type": "code",
   "execution_count": 13,
   "id": "09f3d90f",
   "metadata": {},
   "outputs": [],
   "source": [
    "from scipy.linalg import block_diag"
   ]
  },
  {
   "cell_type": "code",
   "execution_count": 14,
   "id": "a032c57b",
   "metadata": {},
   "outputs": [],
   "source": [
    "rng1 = RNG(entropy_source=QubitsSampler())"
   ]
  },
  {
   "cell_type": "code",
   "execution_count": 15,
   "id": "c9d62ee7",
   "metadata": {},
   "outputs": [
    {
     "name": "stderr",
     "output_type": "stream",
     "text": [
      "27it [00:00, 192.62it/s]                                                        \n"
     ]
    },
    {
     "data": {
      "text/plain": [
       "array([1, 1, 1, 1, 1, 0, 0, 0, 0, 1, 1, 0, 0, 1, 0, 1, 1, 0, 0, 1, 1, 0,\n",
       "       1, 0])"
      ]
     },
     "execution_count": 15,
     "metadata": {},
     "output_type": "execute_result"
    }
   ],
   "source": [
    "rng1.generate(24)"
   ]
  },
  {
   "cell_type": "code",
   "execution_count": 16,
   "id": "4b126bfe",
   "metadata": {},
   "outputs": [],
   "source": [
    "unitary5 = ShiSampler.generate_haar_unitary(5)\n",
    "unitary10 = block_diag(unitary5, unitary5.T)"
   ]
  },
  {
   "cell_type": "code",
   "execution_count": 17,
   "id": "63192ab1",
   "metadata": {},
   "outputs": [],
   "source": [
    "# rng2 = RNG(entropy_source=ShiSampler(unitary = unitary10))"
   ]
  },
  {
   "cell_type": "code",
   "execution_count": 18,
   "id": "c091db6a",
   "metadata": {},
   "outputs": [],
   "source": [
    "# rng2.generate(10)"
   ]
  },
  {
   "cell_type": "code",
   "execution_count": 19,
   "id": "e8733a62",
   "metadata": {},
   "outputs": [],
   "source": [
    "unitary3 = ShiSampler.generate_haar_unitary(3)"
   ]
  },
  {
   "cell_type": "code",
   "execution_count": 20,
   "id": "d8fa1d04",
   "metadata": {},
   "outputs": [],
   "source": [
    "rng3 = RNG(entropy_source=ShiSampler(with_sf = True, unitary = unitary3))"
   ]
  },
  {
   "cell_type": "code",
   "execution_count": 21,
   "id": "7768b774",
   "metadata": {},
   "outputs": [],
   "source": [
    "# rng3.generate(20)"
   ]
  },
  {
   "cell_type": "code",
   "execution_count": 37,
   "id": "4e1167ad",
   "metadata": {},
   "outputs": [],
   "source": [
    "from qiskit import IBMQ, Aer\n",
    "from qiskit.providers.ibmq import least_busy\n",
    "from qiskit import QuantumCircuit, assemble, transpile\n",
    "from qiskit.tools.monitor import job_monitor"
   ]
  },
  {
   "cell_type": "code",
   "execution_count": 38,
   "id": "8ae045c8",
   "metadata": {},
   "outputs": [
    {
     "name": "stderr",
     "output_type": "stream",
     "text": [
      "ibmqfactory.load_account:WARNING:2022-08-17 22:08:17,913: Credentials are already in use. The existing account in the session will be replaced.\n"
     ]
    },
    {
     "name": "stdout",
     "output_type": "stream",
     "text": [
      "least busy backend:  ibmq_manila\n"
     ]
    }
   ],
   "source": [
    "IBMQ.load_account()\n",
    "provider = IBMQ.get_provider(hub='ibm-q')\n",
    "backend = least_busy(provider.backends(filters=lambda x: x.configuration().n_qubits >= 1 and\n",
    "                                   not x.configuration().simulator and x.status().operational==True))\n",
    "print(\"least busy backend: \", backend)"
   ]
  },
  {
   "cell_type": "code",
   "execution_count": 39,
   "id": "37c88177",
   "metadata": {},
   "outputs": [
    {
     "name": "stdout",
     "output_type": "stream",
     "text": [
      "Running the job on ibmq_manila with 5 qubits!\n"
     ]
    }
   ],
   "source": [
    "nb_qubits = backend.configuration().n_qubits\n",
    "\n",
    "print(f\"Running the job on {backend} with {nb_qubits} qubits!\")\n",
    "\n",
    "qc = QuantumCircuit(nb_qubits)\n",
    "\n",
    "for i in range(nb_qubits):\n",
    "    qc.h(i)\n",
    "    \n",
    "qc.measure_all()"
   ]
  },
  {
   "cell_type": "code",
   "execution_count": 45,
   "id": "7e5c7c70",
   "metadata": {},
   "outputs": [
    {
     "name": "stdout",
     "output_type": "stream",
     "text": [
      "Job Status: job has successfully run\n"
     ]
    }
   ],
   "source": [
    "transpiled_qc = transpile(qc, backend, optimization_level=3)\n",
    "job = backend.run(transpiled_qc, memory=True)\n",
    "job_monitor(job, interval=2)"
   ]
  },
  {
   "cell_type": "code",
   "execution_count": 46,
   "id": "e9f187ad",
   "metadata": {},
   "outputs": [],
   "source": [
    "results = job.result()"
   ]
  },
  {
   "cell_type": "code",
   "execution_count": 47,
   "id": "601d8a28",
   "metadata": {},
   "outputs": [
    {
     "data": {
      "text/plain": [
       "['10100',\n",
       " '00101',\n",
       " '01000',\n",
       " '00100',\n",
       " '10110',\n",
       " '10100',\n",
       " '01100',\n",
       " '10010',\n",
       " '10010',\n",
       " '11001',\n",
       " '11010',\n",
       " '10000',\n",
       " '00100',\n",
       " '10110',\n",
       " '10110',\n",
       " '01010',\n",
       " '11010',\n",
       " '10100',\n",
       " '00001',\n",
       " '01010',\n",
       " '11010',\n",
       " '11100',\n",
       " '10110',\n",
       " '01111',\n",
       " '01001',\n",
       " '00111',\n",
       " '11111',\n",
       " '10010',\n",
       " '11000',\n",
       " '01000',\n",
       " '00001',\n",
       " '00011',\n",
       " '10011',\n",
       " '11111',\n",
       " '01011',\n",
       " '11110',\n",
       " '11101',\n",
       " '11011',\n",
       " '11000',\n",
       " '01000',\n",
       " '01100',\n",
       " '00111',\n",
       " '11001',\n",
       " '01001',\n",
       " '10001',\n",
       " '11011',\n",
       " '00000',\n",
       " '11001',\n",
       " '01000',\n",
       " '00011',\n",
       " '00011',\n",
       " '10101',\n",
       " '10100',\n",
       " '10111',\n",
       " '11100',\n",
       " '00100',\n",
       " '10001',\n",
       " '10010',\n",
       " '01001',\n",
       " '11100',\n",
       " '00000',\n",
       " '10010',\n",
       " '01111',\n",
       " '01000',\n",
       " '10110',\n",
       " '10101',\n",
       " '11100',\n",
       " '00000',\n",
       " '00001',\n",
       " '00101',\n",
       " '10110',\n",
       " '01010',\n",
       " '10011',\n",
       " '00111',\n",
       " '11101',\n",
       " '00100',\n",
       " '00110',\n",
       " '11010',\n",
       " '10100',\n",
       " '00101',\n",
       " '00110',\n",
       " '11111',\n",
       " '00011',\n",
       " '10001',\n",
       " '11010',\n",
       " '00101',\n",
       " '11001',\n",
       " '01111',\n",
       " '11100',\n",
       " '00101',\n",
       " '10011',\n",
       " '10010',\n",
       " '11011',\n",
       " '00101',\n",
       " '00000',\n",
       " '00100',\n",
       " '00000',\n",
       " '00001',\n",
       " '00101',\n",
       " '01011',\n",
       " '01100',\n",
       " '11000',\n",
       " '10001',\n",
       " '11100',\n",
       " '00011',\n",
       " '11111',\n",
       " '10011',\n",
       " '01101',\n",
       " '00100',\n",
       " '01101',\n",
       " '10110',\n",
       " '00101',\n",
       " '11101',\n",
       " '11100',\n",
       " '10101',\n",
       " '00110',\n",
       " '00100',\n",
       " '00101',\n",
       " '00001',\n",
       " '01101',\n",
       " '00011',\n",
       " '01000',\n",
       " '01110',\n",
       " '11101',\n",
       " '01001',\n",
       " '01110',\n",
       " '01010',\n",
       " '10011',\n",
       " '10011',\n",
       " '01010',\n",
       " '11110',\n",
       " '00001',\n",
       " '00011',\n",
       " '11101',\n",
       " '11111',\n",
       " '10110',\n",
       " '00100',\n",
       " '10100',\n",
       " '00010',\n",
       " '00101',\n",
       " '11101',\n",
       " '01010',\n",
       " '01011',\n",
       " '01000',\n",
       " '11001',\n",
       " '11100',\n",
       " '01000',\n",
       " '00100',\n",
       " '11101',\n",
       " '00000',\n",
       " '01000',\n",
       " '00000',\n",
       " '11010',\n",
       " '01110',\n",
       " '11011',\n",
       " '00111',\n",
       " '11110',\n",
       " '11000',\n",
       " '10001',\n",
       " '00000',\n",
       " '01001',\n",
       " '10110',\n",
       " '10111',\n",
       " '11110',\n",
       " '00111',\n",
       " '10101',\n",
       " '01010',\n",
       " '01000',\n",
       " '10100',\n",
       " '10110',\n",
       " '11101',\n",
       " '01100',\n",
       " '11100',\n",
       " '01010',\n",
       " '11001',\n",
       " '10000',\n",
       " '11100',\n",
       " '11001',\n",
       " '10101',\n",
       " '00010',\n",
       " '10110',\n",
       " '00011',\n",
       " '11110',\n",
       " '01010',\n",
       " '11100',\n",
       " '10001',\n",
       " '00100',\n",
       " '00011',\n",
       " '11010',\n",
       " '01000',\n",
       " '10000',\n",
       " '00111',\n",
       " '01010',\n",
       " '01001',\n",
       " '11000',\n",
       " '11111',\n",
       " '01001',\n",
       " '10011',\n",
       " '11100',\n",
       " '00100',\n",
       " '00110',\n",
       " '11110',\n",
       " '00110',\n",
       " '10110',\n",
       " '00010',\n",
       " '11011',\n",
       " '10110',\n",
       " '10100',\n",
       " '01001',\n",
       " '01110',\n",
       " '10000',\n",
       " '00001',\n",
       " '11111',\n",
       " '11000',\n",
       " '00110',\n",
       " '10011',\n",
       " '11011',\n",
       " '00001',\n",
       " '10000',\n",
       " '01110',\n",
       " '11001',\n",
       " '11001',\n",
       " '11110',\n",
       " '10101',\n",
       " '00011',\n",
       " '10010',\n",
       " '01111',\n",
       " '10101',\n",
       " '10011',\n",
       " '01001',\n",
       " '00000',\n",
       " '00001',\n",
       " '11000',\n",
       " '01111',\n",
       " '10110',\n",
       " '10010',\n",
       " '01111',\n",
       " '01100',\n",
       " '00000',\n",
       " '11110',\n",
       " '00100',\n",
       " '00110',\n",
       " '10011',\n",
       " '01101',\n",
       " '10111',\n",
       " '01000',\n",
       " '01010',\n",
       " '11010',\n",
       " '00010',\n",
       " '00110',\n",
       " '00111',\n",
       " '01111',\n",
       " '01101',\n",
       " '01111',\n",
       " '10110',\n",
       " '00011',\n",
       " '01110',\n",
       " '01100',\n",
       " '11000',\n",
       " '10001',\n",
       " '10110',\n",
       " '11010',\n",
       " '10000',\n",
       " '00110',\n",
       " '11011',\n",
       " '00100',\n",
       " '01001',\n",
       " '00000',\n",
       " '10011',\n",
       " '10001',\n",
       " '11010',\n",
       " '10001',\n",
       " '01001',\n",
       " '01100',\n",
       " '10010',\n",
       " '10101',\n",
       " '00010',\n",
       " '10010',\n",
       " '11000',\n",
       " '11100',\n",
       " '10001',\n",
       " '10001',\n",
       " '00001',\n",
       " '00011',\n",
       " '00000',\n",
       " '10001',\n",
       " '01000',\n",
       " '00101',\n",
       " '11100',\n",
       " '11010',\n",
       " '11111',\n",
       " '10001',\n",
       " '11110',\n",
       " '11110',\n",
       " '10011',\n",
       " '10000',\n",
       " '01001',\n",
       " '11100',\n",
       " '01100',\n",
       " '11000',\n",
       " '11111',\n",
       " '00000',\n",
       " '11001',\n",
       " '01111',\n",
       " '11111',\n",
       " '01010',\n",
       " '11110',\n",
       " '11100',\n",
       " '00100',\n",
       " '00010',\n",
       " '10101',\n",
       " '00000',\n",
       " '11010',\n",
       " '01110',\n",
       " '11010',\n",
       " '10101',\n",
       " '01000',\n",
       " '01101',\n",
       " '00101',\n",
       " '01011',\n",
       " '11111',\n",
       " '01011',\n",
       " '10100',\n",
       " '10111',\n",
       " '11111',\n",
       " '01010',\n",
       " '01000',\n",
       " '00111',\n",
       " '11011',\n",
       " '11100',\n",
       " '10010',\n",
       " '01100',\n",
       " '01100',\n",
       " '01000',\n",
       " '11110',\n",
       " '00100',\n",
       " '11011',\n",
       " '11000',\n",
       " '00100',\n",
       " '10011',\n",
       " '00100',\n",
       " '11110',\n",
       " '11100',\n",
       " '11111',\n",
       " '01100',\n",
       " '11010',\n",
       " '11110',\n",
       " '01000',\n",
       " '00000',\n",
       " '00110',\n",
       " '11100',\n",
       " '11010',\n",
       " '00110',\n",
       " '11110',\n",
       " '01100',\n",
       " '00001',\n",
       " '01100',\n",
       " '11111',\n",
       " '10111',\n",
       " '11011',\n",
       " '01001',\n",
       " '01001',\n",
       " '10100',\n",
       " '01110',\n",
       " '00010',\n",
       " '01101',\n",
       " '11010',\n",
       " '01100',\n",
       " '01100',\n",
       " '01010',\n",
       " '11000',\n",
       " '10011',\n",
       " '11010',\n",
       " '00001',\n",
       " '00010',\n",
       " '00011',\n",
       " '00101',\n",
       " '00110',\n",
       " '10101',\n",
       " '00111',\n",
       " '10111',\n",
       " '10111',\n",
       " '01101',\n",
       " '11010',\n",
       " '01100',\n",
       " '10000',\n",
       " '00010',\n",
       " '11000',\n",
       " '01010',\n",
       " '10001',\n",
       " '10010',\n",
       " '00000',\n",
       " '01111',\n",
       " '01010',\n",
       " '10010',\n",
       " '11010',\n",
       " '11100',\n",
       " '00001',\n",
       " '00011',\n",
       " '10111',\n",
       " '10111',\n",
       " '01110',\n",
       " '10011',\n",
       " '10010',\n",
       " '00111',\n",
       " '01011',\n",
       " '11011',\n",
       " '00111',\n",
       " '11000',\n",
       " '00000',\n",
       " '00010',\n",
       " '10100',\n",
       " '10111',\n",
       " '11111',\n",
       " '01000',\n",
       " '00110',\n",
       " '11101',\n",
       " '10011',\n",
       " '10000',\n",
       " '10000',\n",
       " '11010',\n",
       " '01101',\n",
       " '00101',\n",
       " '11011',\n",
       " '11110',\n",
       " '11010',\n",
       " '01000',\n",
       " '00000',\n",
       " '11110',\n",
       " '11010',\n",
       " '11000',\n",
       " '10110',\n",
       " '10000',\n",
       " '00010',\n",
       " '00010',\n",
       " '00101',\n",
       " '10100',\n",
       " '00100',\n",
       " '00100',\n",
       " '10010',\n",
       " '01101',\n",
       " '00011',\n",
       " '10001',\n",
       " '00000',\n",
       " '10000',\n",
       " '11011',\n",
       " '10111',\n",
       " '00011',\n",
       " '11011',\n",
       " '01010',\n",
       " '10110',\n",
       " '10001',\n",
       " '10011',\n",
       " '00101',\n",
       " '00011',\n",
       " '01101',\n",
       " '01000',\n",
       " '11100',\n",
       " '01100',\n",
       " '00000',\n",
       " '10000',\n",
       " '00100',\n",
       " '10110',\n",
       " '00101',\n",
       " '00110',\n",
       " '01111',\n",
       " '01100',\n",
       " '11100',\n",
       " '00110',\n",
       " '01001',\n",
       " '01000',\n",
       " '11111',\n",
       " '10010',\n",
       " '01001',\n",
       " '11001',\n",
       " '00100',\n",
       " '01001',\n",
       " '10000',\n",
       " '11101',\n",
       " '10011',\n",
       " '01011',\n",
       " '11111',\n",
       " '00100',\n",
       " '11110',\n",
       " '00000',\n",
       " '11000',\n",
       " '00011',\n",
       " '11000',\n",
       " '00011',\n",
       " '01110',\n",
       " '01011',\n",
       " '10001',\n",
       " '00100',\n",
       " '11100',\n",
       " '11010',\n",
       " '10010',\n",
       " '00111',\n",
       " '00100',\n",
       " '01001',\n",
       " '00100',\n",
       " '11100',\n",
       " '01001',\n",
       " '11111',\n",
       " '10001',\n",
       " '10011',\n",
       " '11100',\n",
       " '10000',\n",
       " '00100',\n",
       " '01110',\n",
       " '00010',\n",
       " '11000',\n",
       " '01101',\n",
       " '00101',\n",
       " '11001',\n",
       " '01011',\n",
       " '01000',\n",
       " '11110',\n",
       " '10100',\n",
       " '10010',\n",
       " '11110',\n",
       " '01000',\n",
       " '01001',\n",
       " '11010',\n",
       " '11000',\n",
       " '11011',\n",
       " '11000',\n",
       " '11110',\n",
       " '11101',\n",
       " '11100',\n",
       " '01111',\n",
       " '11100',\n",
       " '10010',\n",
       " '10110',\n",
       " '01010',\n",
       " '11001',\n",
       " '01111',\n",
       " '10101',\n",
       " '10001',\n",
       " '11110',\n",
       " '11010',\n",
       " '10110',\n",
       " '10010',\n",
       " '10101',\n",
       " '00010',\n",
       " '01111',\n",
       " '00010',\n",
       " '00011',\n",
       " '00011',\n",
       " '01010',\n",
       " '11011',\n",
       " '11101',\n",
       " '01101',\n",
       " '10100',\n",
       " '11001',\n",
       " '01100',\n",
       " '11010',\n",
       " '10100',\n",
       " '11110',\n",
       " '01010',\n",
       " '01000',\n",
       " '10001',\n",
       " '00000',\n",
       " '01000',\n",
       " '11011',\n",
       " '00110',\n",
       " '01000',\n",
       " '00110',\n",
       " '01110',\n",
       " '11011',\n",
       " '00000',\n",
       " '01111',\n",
       " '01010',\n",
       " '11100',\n",
       " '01011',\n",
       " '11100',\n",
       " '11010',\n",
       " '00111',\n",
       " '11011',\n",
       " '10000',\n",
       " '10000',\n",
       " '10001',\n",
       " '10111',\n",
       " '00010',\n",
       " '00111',\n",
       " '01111',\n",
       " '10101',\n",
       " '01100',\n",
       " '00111',\n",
       " '00101',\n",
       " '01111',\n",
       " '11011',\n",
       " '10100',\n",
       " '11110',\n",
       " '11111',\n",
       " '10000',\n",
       " '01100',\n",
       " '01100',\n",
       " '01101',\n",
       " '01001',\n",
       " '10011',\n",
       " '01000',\n",
       " '01101',\n",
       " '10100',\n",
       " '00010',\n",
       " '00010',\n",
       " '11101',\n",
       " '01110',\n",
       " '10110',\n",
       " '01101',\n",
       " '10011',\n",
       " '10000',\n",
       " '11100',\n",
       " '01010',\n",
       " '10101',\n",
       " '00110',\n",
       " '10111',\n",
       " '00000',\n",
       " '00010',\n",
       " '00010',\n",
       " '11110',\n",
       " '01010',\n",
       " '10010',\n",
       " '10100',\n",
       " '00111',\n",
       " '11001',\n",
       " '10111',\n",
       " '01101',\n",
       " '10100',\n",
       " '10011',\n",
       " '00010',\n",
       " '01111',\n",
       " '10010',\n",
       " '11010',\n",
       " '00010',\n",
       " '10111',\n",
       " '00110',\n",
       " '01011',\n",
       " '10011',\n",
       " '00110',\n",
       " '01100',\n",
       " '01001',\n",
       " '10010',\n",
       " '01111',\n",
       " '00110',\n",
       " '11101',\n",
       " '01110',\n",
       " '10010',\n",
       " '00011',\n",
       " '11100',\n",
       " '10111',\n",
       " '10100',\n",
       " '11010',\n",
       " '11000',\n",
       " '00101',\n",
       " '00001',\n",
       " '01111',\n",
       " '01000',\n",
       " '00111',\n",
       " '11011',\n",
       " '01111',\n",
       " '10000',\n",
       " '01110',\n",
       " '10110',\n",
       " '10111',\n",
       " '01111',\n",
       " '10100',\n",
       " '11001',\n",
       " '00010',\n",
       " '10101',\n",
       " '00110',\n",
       " '00100',\n",
       " '10001',\n",
       " '00101',\n",
       " '00010',\n",
       " '01111',\n",
       " '01111',\n",
       " '10001',\n",
       " '00101',\n",
       " '11011',\n",
       " '11010',\n",
       " '01101',\n",
       " '00101',\n",
       " '00011',\n",
       " '01011',\n",
       " '00001',\n",
       " '00101',\n",
       " '00000',\n",
       " '01100',\n",
       " '01001',\n",
       " '10001',\n",
       " '00110',\n",
       " '00011',\n",
       " '11101',\n",
       " '00100',\n",
       " '00110',\n",
       " '01011',\n",
       " '10100',\n",
       " '11000',\n",
       " '01010',\n",
       " '01110',\n",
       " '00110',\n",
       " '00001',\n",
       " '11011',\n",
       " '11111',\n",
       " '00101',\n",
       " '01100',\n",
       " '10101',\n",
       " '01100',\n",
       " '01010',\n",
       " '00010',\n",
       " '00110',\n",
       " '01100',\n",
       " '01001',\n",
       " '10101',\n",
       " '10011',\n",
       " '00101',\n",
       " '01100',\n",
       " '10000',\n",
       " '10000',\n",
       " '10100',\n",
       " '11100',\n",
       " '01000',\n",
       " '11100',\n",
       " '11101',\n",
       " '11100',\n",
       " '11001',\n",
       " '11001',\n",
       " '00101',\n",
       " '10000',\n",
       " '00111',\n",
       " '11100',\n",
       " '00101',\n",
       " '11010',\n",
       " '01010',\n",
       " '11100',\n",
       " '11001',\n",
       " '01001',\n",
       " '01001',\n",
       " '00000',\n",
       " '11110',\n",
       " '10100',\n",
       " '11110',\n",
       " '01001',\n",
       " '00100',\n",
       " '00101',\n",
       " '00100',\n",
       " '11001',\n",
       " '00000',\n",
       " '10000',\n",
       " '01000',\n",
       " '00100',\n",
       " '11110',\n",
       " '00110',\n",
       " '10010',\n",
       " '11111',\n",
       " '00110',\n",
       " '10011',\n",
       " '00101',\n",
       " '11100',\n",
       " '10011',\n",
       " '10000',\n",
       " '11000',\n",
       " '00101',\n",
       " '11001',\n",
       " '11000',\n",
       " '11100',\n",
       " '01111',\n",
       " '01111',\n",
       " '11100',\n",
       " '01101',\n",
       " '11010',\n",
       " '10000',\n",
       " '10110',\n",
       " '01010',\n",
       " '00101',\n",
       " '01000',\n",
       " '01111',\n",
       " '11011',\n",
       " '10001',\n",
       " '00011',\n",
       " '01111',\n",
       " '10011',\n",
       " '11100',\n",
       " '01110',\n",
       " '11010',\n",
       " '10111',\n",
       " '11001',\n",
       " '10110',\n",
       " '11001',\n",
       " '01101',\n",
       " '01100',\n",
       " '11100',\n",
       " '11101',\n",
       " '10100',\n",
       " '10110',\n",
       " '11111',\n",
       " '11000',\n",
       " '10100',\n",
       " '11010',\n",
       " '01110',\n",
       " '11100',\n",
       " '11001',\n",
       " '10010',\n",
       " '10100',\n",
       " '00101',\n",
       " '01100',\n",
       " '10101',\n",
       " '11100',\n",
       " '11011',\n",
       " '00011',\n",
       " '10000',\n",
       " '10111',\n",
       " '11000',\n",
       " '10110',\n",
       " '11010',\n",
       " '10010',\n",
       " '00100',\n",
       " '10010',\n",
       " '10011',\n",
       " '01010',\n",
       " '10001',\n",
       " '10011',\n",
       " '11100',\n",
       " '10011',\n",
       " '11101',\n",
       " '00000',\n",
       " '11100',\n",
       " '00111',\n",
       " '01101',\n",
       " '10011',\n",
       " '01110',\n",
       " '10110',\n",
       " '00001',\n",
       " '01101',\n",
       " '10101',\n",
       " '00111',\n",
       " '00110',\n",
       " '11101',\n",
       " '11101',\n",
       " '00000',\n",
       " '00110',\n",
       " '01000',\n",
       " '11100',\n",
       " '01001',\n",
       " '10001',\n",
       " '10010',\n",
       " '00110',\n",
       " '10110',\n",
       " '00101',\n",
       " '11111',\n",
       " '11101',\n",
       " '00111',\n",
       " '01001',\n",
       " '00111',\n",
       " '00010',\n",
       " '01101',\n",
       " '11110',\n",
       " '00100',\n",
       " '11110',\n",
       " '10101',\n",
       " '01011',\n",
       " '01010',\n",
       " '10101',\n",
       " '11000',\n",
       " '00101',\n",
       " '00010',\n",
       " '01011',\n",
       " '11111',\n",
       " '01101',\n",
       " '00101',\n",
       " '00110',\n",
       " '01000',\n",
       " '01110',\n",
       " '11100',\n",
       " '01110',\n",
       " '00011',\n",
       " '10110',\n",
       " '01101',\n",
       " '00000',\n",
       " '01011',\n",
       " '11110',\n",
       " '10001',\n",
       " '10000',\n",
       " '01110',\n",
       " '11010',\n",
       " '01100',\n",
       " '11100',\n",
       " '01111',\n",
       " '11111',\n",
       " '11010',\n",
       " '01111',\n",
       " '10010',\n",
       " '11110',\n",
       " '11100',\n",
       " '00000',\n",
       " '11111',\n",
       " '00010',\n",
       " '00010',\n",
       " '10011',\n",
       " '10111',\n",
       " '01100',\n",
       " '00100',\n",
       " '00010',\n",
       " '01110',\n",
       " '11100',\n",
       " '10000',\n",
       " '11010',\n",
       " '01001',\n",
       " '10100',\n",
       " '00000',\n",
       " '10100',\n",
       " '00111',\n",
       " '01010',\n",
       " '11000',\n",
       " '01011',\n",
       " '00000',\n",
       " '01111',\n",
       " '10110',\n",
       " '10100',\n",
       " '01110',\n",
       " '10110',\n",
       " '01100',\n",
       " '10111',\n",
       " '01101',\n",
       " '10000',\n",
       " '00000',\n",
       " '10000',\n",
       " '01110',\n",
       " '11111',\n",
       " '01010',\n",
       " '01000',\n",
       " '10111',\n",
       " '10111',\n",
       " '01010',\n",
       " '01100',\n",
       " '10111',\n",
       " '11100',\n",
       " '11000',\n",
       " '00011',\n",
       " '00110',\n",
       " '10100',\n",
       " '10001',\n",
       " '10000',\n",
       " '00000',\n",
       " '01110',\n",
       " '01010',\n",
       " '01101',\n",
       " '11010',\n",
       " '10011',\n",
       " '00101',\n",
       " '11010',\n",
       " '01000',\n",
       " '01111',\n",
       " '01100',\n",
       " '10000',\n",
       " '11001',\n",
       " '11000',\n",
       " '00100',\n",
       " '10101',\n",
       " '00010',\n",
       " '10001',\n",
       " '00000',\n",
       " '01010',\n",
       " '10100',\n",
       " '10000',\n",
       " '01101',\n",
       " '01000',\n",
       " '10110',\n",
       " '01010',\n",
       " '10110',\n",
       " '01011',\n",
       " '10101',\n",
       " '01110',\n",
       " '01100',\n",
       " '10000',\n",
       " '10001',\n",
       " '10011',\n",
       " '10000',\n",
       " '00101',\n",
       " '00011',\n",
       " '01100',\n",
       " '11000',\n",
       " '11111',\n",
       " '11101',\n",
       " '01010',\n",
       " '10110',\n",
       " '00010',\n",
       " '10010',\n",
       " '01101',\n",
       " '00010',\n",
       " '10100',\n",
       " '01101',\n",
       " '01001',\n",
       " '10101',\n",
       " '11111',\n",
       " '01011',\n",
       " '10011',\n",
       " '11111',\n",
       " '01011',\n",
       " '00001',\n",
       " ...]"
      ]
     },
     "execution_count": 47,
     "metadata": {},
     "output_type": "execute_result"
    }
   ],
   "source": [
    "results.get_memory()"
   ]
  },
  {
   "cell_type": "code",
   "execution_count": 54,
   "id": "d19f7fcf",
   "metadata": {},
   "outputs": [],
   "source": [
    "bitstring_str = \"\".join(results.get_memory())"
   ]
  },
  {
   "cell_type": "code",
   "execution_count": 56,
   "id": "ce232227",
   "metadata": {},
   "outputs": [],
   "source": [
    "data_arr = np.array(list(bitstring_str)).astype(int)"
   ]
  },
  {
   "cell_type": "code",
   "execution_count": 58,
   "id": "7258dc7b",
   "metadata": {},
   "outputs": [],
   "source": [
    "s1 = data_arr[:10000]"
   ]
  },
  {
   "cell_type": "code",
   "execution_count": 59,
   "id": "b8ca612f",
   "metadata": {},
   "outputs": [],
   "source": [
    "s2 = data_arr[10000:]"
   ]
  },
  {
   "cell_type": "code",
   "execution_count": 61,
   "id": "e1f81983",
   "metadata": {},
   "outputs": [
    {
     "data": {
      "text/plain": [
       "10000"
      ]
     },
     "execution_count": 61,
     "metadata": {},
     "output_type": "execute_result"
    }
   ],
   "source": [
    "np.size(s2)"
   ]
  },
  {
   "cell_type": "code",
   "execution_count": 64,
   "id": "40191360",
   "metadata": {},
   "outputs": [],
   "source": [
    "def postprocess(sample_1, sample_2):\n",
    "    \"\"\"\n",
    "        TODO: Von-Neumann post-processing\n",
    "    \"\"\"\n",
    "    bitstring = []\n",
    "    for bit_1, bit_2 in zip(sample_1, sample_2):\n",
    "        if bit_1 == 0 and bit_2 != 0:\n",
    "            bitstring.append(1)\n",
    "        elif  bit_1 != 0 and bit_2 == 0:\n",
    "            bitstring.append(0)\n",
    "\n",
    "    return bitstring"
   ]
  },
  {
   "cell_type": "code",
   "execution_count": 65,
   "id": "c749ca0c",
   "metadata": {},
   "outputs": [],
   "source": [
    "rng = postprocess(s1, s2)"
   ]
  },
  {
   "cell_type": "code",
   "execution_count": 67,
   "id": "ad07f365",
   "metadata": {},
   "outputs": [
    {
     "data": {
      "text/plain": [
       "5016"
      ]
     },
     "execution_count": 67,
     "metadata": {},
     "output_type": "execute_result"
    }
   ],
   "source": [
    "np.size(rng)"
   ]
  },
  {
   "cell_type": "code",
   "execution_count": 68,
   "id": "6de3c4dc",
   "metadata": {},
   "outputs": [],
   "source": [
    "def bitstring_to_8b_nbs(bitstring):\n",
    "    \"\"\"\n",
    "    Transform the 01 bitstring into char numbers (8bits)\n",
    "    \"\"\"\n",
    "    bs = np.copy(bitstring)\n",
    "    diff = 8 - (np.size(bs) % 8)\n",
    "    bs = np.pad(bs, (0, diff), 'constant', constant_values=2)\n",
    "    r = np.size(bs) // 8\n",
    "    cropped_bs = np.resize(bs, (r, 8))[:-1, :]\n",
    "    useful_r = r - 1 if diff else r \n",
    "    res = []\n",
    "    for i in range(useful_r):\n",
    "        d = int(\"\".join(cropped_bs[i, :].astype(str)), 2)    \n",
    "        res.append(d)\n",
    "    return np.array(res)"
   ]
  },
  {
   "cell_type": "code",
   "execution_count": 69,
   "id": "76087744",
   "metadata": {},
   "outputs": [],
   "source": [
    "rng_8b = bitstring_to_8b_nbs(rng)"
   ]
  },
  {
   "cell_type": "code",
   "execution_count": 73,
   "id": "7098b3e0",
   "metadata": {},
   "outputs": [],
   "source": [
    "import nistrng\n",
    "\n",
    "def nist_tests(bitstring):\n",
    "    # Check the eligibility of the test and generate an eligible battery from the default NIST-sp800-22r1a battery\n",
    "    eligible_battery: dict = nistrng.check_eligibility_all_battery(bitstring, nistrng.SP800_22R1A_BATTERY)\n",
    "    # Print the eligible tests\n",
    "    print(\"Eligible test from NIST-SP800-22r1a:\")\n",
    "    for name in eligible_battery.keys():\n",
    "        print(\"-\" + name)\n",
    "    # Test the result on the eligible tests\n",
    "    results = nistrng.run_all_battery(bitstring, eligible_battery, False)\n",
    "    # Print results one by one\n",
    "    print(\"Test results:\")\n",
    "    failed = 0\n",
    "    for result, elapsed_time in results:\n",
    "        if result.passed:\n",
    "            print(\"- PASSED - score: \" + str(np.round(result.score, 3)) + \" - \" + result.name + \" - elapsed time: \" + str(elapsed_time) + \" ms\")\n",
    "        else:\n",
    "            failed += 1\n",
    "            print(\"- FAILED - score: \" + str(np.round(result.score, 3)) + \" - \" + result.name + \" - elapsed time: \" + str(elapsed_time) + \" ms\")\n",
    "\n",
    "    print(f\"Total failed tests: {failed}/{len(eligible_battery.keys())}\")"
   ]
  },
  {
   "cell_type": "code",
   "execution_count": 72,
   "id": "e0e49cb4",
   "metadata": {},
   "outputs": [
    {
     "name": "stdout",
     "output_type": "stream",
     "text": [
      "The percentage of 1 bits: 49.04306220095694%\n"
     ]
    }
   ],
   "source": [
    "print(f\"The percentage of 1 bits: {np.sum(rng) * 100 / 5016}%\")"
   ]
  },
  {
   "cell_type": "code",
   "execution_count": 75,
   "id": "9b078d6b",
   "metadata": {},
   "outputs": [
    {
     "name": "stdout",
     "output_type": "stream",
     "text": [
      "Eligible test from NIST-SP800-22r1a:\n",
      "-monobit\n",
      "-frequency_within_block\n",
      "-runs\n",
      "-longest_run_ones_in_a_block\n",
      "-dft\n",
      "-non_overlapping_template_matching\n",
      "-serial\n",
      "-approximate_entropy\n",
      "-cumulative sums\n",
      "-random_excursion\n",
      "-random_excursion_variant\n",
      "Test results:\n",
      "- PASSED - score: 0.175 - Monobit - elapsed time: 0 ms\n",
      "- PASSED - score: 0.144 - Frequency Within Block - elapsed time: 2 ms\n",
      "- PASSED - score: 0.629 - Runs - elapsed time: 6 ms\n",
      "- PASSED - score: 0.368 - Longest Run Ones In A Block - elapsed time: 0 ms\n",
      "- PASSED - score: 0.14 - Discrete Fourier Transform - elapsed time: 5 ms\n",
      "- PASSED - score: 1.0 - Non Overlapping Template Matching - elapsed time: 22 ms\n",
      "- PASSED - score: 0.422 - Serial - elapsed time: 148 ms\n",
      "- PASSED - score: 0.181 - Approximate Entropy - elapsed time: 116 ms\n",
      "- PASSED - score: 0.198 - Cumulative Sums - elapsed time: 5 ms\n",
      "- FAILED - score: 0.079 - Random Excursion - elapsed time: 23 ms\n",
      "- PASSED - score: 0.562 - Random Excursion Variant - elapsed time: 2 ms\n",
      "Total failed tests: 1/11\n"
     ]
    }
   ],
   "source": [
    "nist_tests(np.array(rng))"
   ]
  },
  {
   "cell_type": "code",
   "execution_count": null,
   "id": "68b88660",
   "metadata": {},
   "outputs": [],
   "source": []
  },
  {
   "cell_type": "markdown",
   "id": "9a2e8e39",
   "metadata": {},
   "source": [
    "## References"
   ]
  },
  {
   "cell_type": "code",
   "execution_count": null,
   "id": "641501f8",
   "metadata": {},
   "outputs": [],
   "source": []
  }
 ],
 "metadata": {
  "kernelspec": {
   "display_name": "Python 3 (ipykernel)",
   "language": "python",
   "name": "python3"
  },
  "language_info": {
   "codemirror_mode": {
    "name": "ipython",
    "version": 3
   },
   "file_extension": ".py",
   "mimetype": "text/x-python",
   "name": "python",
   "nbconvert_exporter": "python",
   "pygments_lexer": "ipython3",
   "version": "3.10.4"
  }
 },
 "nbformat": 4,
 "nbformat_minor": 5
}
