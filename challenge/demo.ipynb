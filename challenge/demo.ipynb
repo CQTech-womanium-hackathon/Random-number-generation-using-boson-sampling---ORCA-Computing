{
 "cells": [
  {
   "cell_type": "markdown",
   "id": "883406b2",
   "metadata": {},
   "source": [
    "# On Random Number Generation"
   ]
  },
  {
   "cell_type": "markdown",
   "id": "1cc5173f",
   "metadata": {},
   "source": [
    "<span style=\"font-size: 12px; color: #777; float: right;\">This cell contains Latex macros.</span>\n",
    "$$\n",
    "\\newcommand{\\ket}[1]{| #1 \\rangle}\n",
    "\\newcommand{\\bra}[1]{\\langle #1 |}\n",
    "$$"
   ]
  },
  {
   "cell_type": "markdown",
   "id": "4a55516e",
   "metadata": {},
   "source": [
    "[![Open In Colab](https://colab.research.google.com/assets/colab-badge.svg)](http://colab.research.google.com/github/CQTech-womanium-hackathon/Random-number-generation-using-boson-sampling---ORCA-Computing/blob/main/challenge/demo.ipynb)"
   ]
  },
  {
   "cell_type": "markdown",
   "id": "23f7af56",
   "metadata": {},
   "source": [
    "This is `Constantine Quantum Technologies`'s solution to ORCA Computing's challenge `Random number generation using boson sampling`."
   ]
  },
  {
   "cell_type": "markdown",
   "id": "423ede7e",
   "metadata": {},
   "source": [
    "### Team\n",
    "\n",
    "- Abdellah Tounsi\n",
    "- Amina Sadik\n",
    "- Mohamed Messaoud Louamri\n",
    "- Nacer eddine Belaloui\n",
    "- Wafa Makhlouf"
   ]
  },
  {
   "cell_type": "markdown",
   "id": "099f6d86",
   "metadata": {},
   "source": [
    "### Content:\n",
    "* [Why do we need RNG?](#Why-do-we-need-RNG?)\n",
    "    * [Science](#Science)\n",
    "    * [Security](#Security)\n",
    "* [The problem at hand](#The-problem-at-hand)\n",
    "* [Making an RNG device](#Making-an-RNG-device)\n",
    "    * [The (quantum) entropy source(s)](#The-(quantum)-entropy-source(s))\n",
    "        * [Quantum RNG: Qubits](#Quantum-RNG:-Qubits)\n",
    "        * [Quantum RNG: Boson Sampling](#Quantum-RNG:-Boson-Sampling)\n",
    "    * [The post-processing](#The-post-processing)\n",
    "        * [The Von Neumann post processing steps](#The-Von-Neumann-post-processing-steps:)\n",
    "        * [The theory behind the Von Neumann post processing: independent elements](#The-theory-behind-the-Von-Neumann-post-processing:-independent-elements)\n",
    "        * [the Von Neumann Post processing: dependent elements](#the-Von-Neumann-Post-processing:-dependent-elements)\n",
    "        * [Post-processing: dependent elements, the unbiased way](#Post-processing:-dependent-elements,-the-unbiased-way)\n",
    "* [Testing the randomness](#Testing-the-randomness)\n",
    "* [The CQT RNG package](#The-CQT-RNG-package)\n",
    "    * [Qubits-based Simulator](#Qubits-based-Simulator)\n",
    "    * [Shi et al. Simulator(s)](#Shi-et-al.-Simulator(s))\n",
    "    * [Real Devices: IBMQ](#Real-Devices:-IBMQ)\n",
    "    * [Real Devices: Borealis](#Real-Devices:-Borealis)\n",
    "* [Conclusion](#Conclusion)\n",
    "* [References](#References)"
   ]
  },
  {
   "cell_type": "markdown",
   "id": "8274e5e4",
   "metadata": {},
   "source": [
    "### Installation"
   ]
  },
  {
   "cell_type": "markdown",
   "id": "a3e3f5ee",
   "metadata": {},
   "source": [
    "To download and install our package, uncomment and run the following command:"
   ]
  },
  {
   "cell_type": "code",
   "execution_count": 1,
   "id": "007106b5",
   "metadata": {},
   "outputs": [],
   "source": [
    "# !pip install cqt_rng==0.0.2 "
   ]
  },
  {
   "cell_type": "markdown",
   "id": "3e281d01",
   "metadata": {},
   "source": [
    "To install NIST testsuite"
   ]
  },
  {
   "cell_type": "code",
   "execution_count": null,
   "id": "f84193bc",
   "metadata": {},
   "outputs": [],
   "source": [
    "# !pip install nistrng"
   ]
  },
  {
   "cell_type": "markdown",
   "id": "d5f7e373",
   "metadata": {},
   "source": [
    "To download and import all the necessary scripts and packages. Run the following cells:"
   ]
  },
  {
   "cell_type": "code",
   "execution_count": 2,
   "id": "94525651",
   "metadata": {},
   "outputs": [],
   "source": [
    "import requests\n",
    "import glob\n",
    "import os"
   ]
  },
  {
   "cell_type": "code",
   "execution_count": 3,
   "id": "dda83bd7",
   "metadata": {},
   "outputs": [],
   "source": [
    "import numpy as np\n",
    "import matplotlib.pyplot as plt"
   ]
  },
  {
   "cell_type": "code",
   "execution_count": 4,
   "id": "67208c18",
   "metadata": {},
   "outputs": [],
   "source": [
    "if not os.path.isdir(\"./scripts/\"):\n",
    "    os.mkdir(\"./scripts/\")"
   ]
  },
  {
   "cell_type": "code",
   "execution_count": 5,
   "id": "4e9685f1",
   "metadata": {},
   "outputs": [],
   "source": [
    "available_scripts = glob.glob(\"scripts/*\")\n",
    "required_scripts = [\"metrics.py\", \"constants.py\", \"study_boson_sampler.py\"]\n",
    "scripts_url = \"https://raw.githubusercontent.com/CQTech-womanium-hackathon/Random-number-generation-using-boson-sampling---ORCA-Computing/main/challenge/scripts/\"\n",
    "\n",
    "for rs in required_scripts:\n",
    "    if os.path.join(\"scripts\", rs) not in available_scripts:\n",
    "        print(\"Downloading the script:\", rs)\n",
    "        s = requests.get(scripts_url + rs)\n",
    "        open(os.path.join(\"scripts\", rs), \"wb\").write(s.content)"
   ]
  },
  {
   "cell_type": "code",
   "execution_count": 6,
   "id": "fff4daf6",
   "metadata": {},
   "outputs": [],
   "source": [
    "%run scripts/study_boson_sampler.py"
   ]
  },
  {
   "cell_type": "code",
   "execution_count": 7,
   "id": "18ebce1c",
   "metadata": {},
   "outputs": [],
   "source": [
    "%run scripts/constants.py"
   ]
  },
  {
   "cell_type": "code",
   "execution_count": 8,
   "id": "fe4d78a5",
   "metadata": {},
   "outputs": [],
   "source": [
    "%run scripts/metrics.py"
   ]
  },
  {
   "cell_type": "markdown",
   "id": "2039f061",
   "metadata": {},
   "source": [
    "## Why do we need RNG?"
   ]
  },
  {
   "cell_type": "markdown",
   "id": "2b1f0e5a",
   "metadata": {},
   "source": [
    "### Science"
   ]
  },
  {
   "cell_type": "markdown",
   "id": "a6725bef",
   "metadata": {},
   "source": [
    "When, we think about science we think about it being deterministic and systematic both in the results and the methods. It might look strange that randomness has anything to do with science. Yet, there exist a whole class of [randomized algorithms](https://en.wikipedia.org/wiki/Randomized_algorithm) used in the scientic realm which are based on randomness. The most populars of these algorithms are called the [Monte Carlo algorithms](https://en.wikipedia.org/wiki/Monte_Carlo_algorithm). An example of such an algorithm used to determine the value of π (which is 3.1415..., in case you forgot 😄) is shown below:"
   ]
  },
  {
   "cell_type": "markdown",
   "id": "feb36697",
   "metadata": {},
   "source": [
    "The algorithm is as follows:\n",
    "1. We throw random \"darts\" on a 1x1 square.\n",
    "1. We calculate the number of \"darts\" that hit the interior of a circle whose center is the point (0.5, 0.5) and whose radius is 0.5.\n",
    "1. The estimated value of π would be: 4 * Number of darts inside the circle / Total number of darts thrown.\n",
    "\n",
    "An animation of the process is given below, in the beginning we will send darts one by one (so that you can visualize the steps) and after 50 darts we will send rounds of 1000 darts (so that we can reach a higher number of darts thrown).  "
   ]
  },
  {
   "cell_type": "markdown",
   "id": "a59e94e2",
   "metadata": {},
   "source": [
    "<img src=\"https://s4.gifyu.com/images/montecarlo_pi_good.gif\" style=\"height: 300px\" />"
   ]
  },
  {
   "cell_type": "markdown",
   "id": "5a927228",
   "metadata": {},
   "source": [
    "As you can see, we are converging towards the known value of π, how is this possible? Let's try to understand it.\n",
    "\n",
    "The area of the circle is  $0.5^2 \\pi$, and the area of the square is $1$. If we send darts uniformly (which is what we are doing). The probability that a dart ends inside the circle is $P =\\text{Area of the circle} / \\text{Area of the square} = 0.5^2 \\pi/1 = \\pi/4$. We can approximate this probability by sending a very large number of darts on the square $P \\approx \\text{Number of darts inside the circle}/\\text{Total number of darts}$ and then we would find that: \n",
    "\n",
    "$$\\pi = 4 P \\approx 4  \\frac{\\text{Number of darts inside the circle}}{\\text{Total number of darts}}$$"
   ]
  },
  {
   "cell_type": "markdown",
   "id": "2490bc68",
   "metadata": {},
   "source": [
    "Let's see what we would get if there was biasness in the darts we threw (ie: the probability that a darts ends in a certain area is higher than the probability that it ends in another area):"
   ]
  },
  {
   "cell_type": "markdown",
   "id": "603419f1",
   "metadata": {},
   "source": [
    "<img src=\"https://s4.gifyu.com/images/montecarlo_pi_bad.gif\" style=\"height: 300px\"/>"
   ]
  },
  {
   "cell_type": "markdown",
   "id": "7e38c459",
   "metadata": {},
   "source": [
    "As you can see from this animation, the darts are not uniformly thrown (they are sent closer to the center of the square). The value of π that we get is wrong 3.46 instead of 3.14."
   ]
  },
  {
   "cell_type": "markdown",
   "id": "ae6d2c7d",
   "metadata": {},
   "source": [
    "We just saw how biasness in random numbers could lead to wrong results. Obviously, this is just a trivial example. Now, imagine that we had to use such an randomized algorithm to develop a drug for example. A small bias in the random numbers would lead to wrong results which would lead to dramatic results. This shows how important it is to generate **unbiased** random numbers."
   ]
  },
  {
   "cell_type": "markdown",
   "id": "ecf314ae",
   "metadata": {},
   "source": [
    "If you want to know more on the impact of RNGs on scientific results, we recommend reading these 2 papers:\n",
    "\n",
    "1. [Quality of random number generators significantly affects results of Monte Carlo simulations for organic and biological systems](https://pubmed.ncbi.nlm.nih.gov/20734313/)\n",
    "1. [Random numbers for simulation](https://dl.acm.org/doi/10.1145/84537.84555)"
   ]
  },
  {
   "cell_type": "markdown",
   "id": "56fec169",
   "metadata": {},
   "source": [
    "### Security"
   ]
  },
  {
   "cell_type": "markdown",
   "id": "9eceb867",
   "metadata": {},
   "source": [
    "Another critical application of random numbers generators is in cryptography. As we know, sensitive data should be stored and sent encrypted so that if it is intercepted by a malicious person. It would be impossible (or at least hard and tedious) to utilize it.\n",
    "\n",
    "To encrypt a sensitive data, we need an [algorithm](https://en.wikipedia.org/wiki/Symmetric-key_algorithm) and a key. The key should be chosen by a random number generator.\n",
    "\n",
    "Obviously, the best-case scenario is that the malicious person doesn't know the algorithm, the encrypted data, the key length, the key value or any information about the key. But, to maximize security, the encrypted data should still be \"safe\" even if the the algorithm, the  encrypted data, the key-length, and some information about the key is leaked.\n",
    "\n",
    "What we mean by \"safe\" here is that it would take a very long time (up to multiple centuries) for a malicious person to crack the encryption using [Brute-force attack](https://en.wikipedia.org/wiki/Brute-force_attack). Beside the algorithm, the key is the second most important factor that influences the safety of our data. Obviously, a longer key would be a safer one but is there other factors that influence whether a key is less safe than another?"
   ]
  },
  {
   "cell_type": "markdown",
   "id": "6a1b2d50",
   "metadata": {},
   "source": [
    "#### Entropy"
   ]
  },
  {
   "cell_type": "markdown",
   "id": "623315d5",
   "metadata": {},
   "source": [
    "Let's assume someone (who we will call Bob) captured an encrypted message that you sent. Bob knows which algorithm that you used to encrypt the message, he also knows the length of the key. Let's also assume that he knows the proportions of 0s and 1s in the key but Bob doesn't know the key itself. \n",
    "\n",
    "To crack your message, he decided to use a bruteforce method (i.e: test every single possible key which matches the proportions which he is aware of). Finally, let's assume that to bruteforce the message. He uses a computer which can test one key every hour.\n",
    "\n",
    "\n",
    "##### Example 1:\n",
    "For the sake of simplicity, let's consider that the key has 4 bits and that its made of 1 0-bits and 3 1-bits.\n",
    "What are all the possible keys that Bob needs to test to crack the message? How many keys made of 4 bits have 1 zero and 3 ones? Let's count:\n",
    "\n",
    "```\n",
    "0111\n",
    "1011\n",
    "1101\n",
    "1110\n",
    "```\n",
    "\n",
    "There are four possibilities. So, it would take up to 4 hours for bob to crack your encrypted message.\n",
    "\n",
    "What if the keys was made of 2 0-bits and 2 1-bits?\n",
    "\n",
    "Let's count:\n",
    "\n",
    "```\n",
    "0011\n",
    "0101\n",
    "0110\n",
    "1001\n",
    "1010\n",
    "1100\n",
    "```\n",
    "\n",
    "There are four possibilities. So, it would take up to 6 hours for bob to crack your encrypted message.\n",
    "\n",
    "It appears that the second-key (2 0-bits and 2 1-bits) is \"safer\"."
   ]
  },
  {
   "cell_type": "markdown",
   "id": "e3b63fad",
   "metadata": {},
   "source": [
    "##### Example 2:\n",
    "Let's consider that the key has 16 bits. And see what proportion of bits leads to a higher number of keys $N$.\n",
    "\n",
    "Instead of counting the possible keys manually, their exist a general method to find the number of keys $N$ of length $n$ with $r$ zeros is to use the formula (more details can be found in any [combinatorics](https://en.wikipedia.org/wiki/Combinatorics) course):\n",
    "\n",
    "$$N = nCr = \\frac{n!}{r! (n - r)!}$$ \n",
    "\n",
    "_This function is available in python's [scipy library](https://docs.scipy.org/doc/scipy/reference/generated/scipy.special.comb.html)._"
   ]
  },
  {
   "cell_type": "code",
   "execution_count": 9,
   "id": "c56f129e",
   "metadata": {},
   "outputs": [
    {
     "name": "stdout",
     "output_type": "stream",
     "text": [
      "The number of keys of length 16 with  0-zeros and 16-ones is:     1\n",
      "The number of keys of length 16 with  1-zeros and 15-ones is:    16\n",
      "The number of keys of length 16 with  2-zeros and 14-ones is:   120\n",
      "The number of keys of length 16 with  3-zeros and 13-ones is:   560\n",
      "The number of keys of length 16 with  4-zeros and 12-ones is:  1820\n",
      "The number of keys of length 16 with  5-zeros and 11-ones is:  4368\n",
      "The number of keys of length 16 with  6-zeros and 10-ones is:  8008\n",
      "The number of keys of length 16 with  7-zeros and  9-ones is: 11440\n",
      "The number of keys of length 16 with  8-zeros and  8-ones is: 12870\n",
      "The number of keys of length 16 with  9-zeros and  7-ones is: 11440\n",
      "The number of keys of length 16 with 10-zeros and  6-ones is:  8008\n",
      "The number of keys of length 16 with 11-zeros and  5-ones is:  4368\n",
      "The number of keys of length 16 with 12-zeros and  4-ones is:  1820\n",
      "The number of keys of length 16 with 13-zeros and  3-ones is:   560\n",
      "The number of keys of length 16 with 14-zeros and  2-ones is:   120\n",
      "The number of keys of length 16 with 15-zeros and  1-ones is:    16\n",
      "The number of keys of length 16 with 16-zeros and  0-ones is:     1\n"
     ]
    }
   ],
   "source": [
    "from scipy.special import comb\n",
    "\n",
    "for i in range(0, 17):\n",
    "    print(f\"The number of keys of length {16} with {i:2d}-zeros and {16-i:2d}-ones is: {int(comb(16, i)):5d}\")"
   ]
  },
  {
   "cell_type": "markdown",
   "id": "00a62570",
   "metadata": {},
   "source": [
    "As you can see, the number of possible keys is at his highest when the proportion of 0s and 1s is of 50%. And this is a general result no matter the length of the key $n$, the number of possible keys is at its highest whenever the proportion is of 50%. In physics, we call these \"more numerous possibilities\": states of higher entropy. We implemented a method to calculate the entropy:"
   ]
  },
  {
   "cell_type": "code",
   "execution_count": 10,
   "id": "a71880b5",
   "metadata": {},
   "outputs": [
    {
     "name": "stdout",
     "output_type": "stream",
     "text": [
      "The entropy of the keys of length 16 with  0-zeros and 16-ones is: 0.000\n",
      "The entropy of the keys of length 16 with  1-zeros and 15-ones is: 0.337\n",
      "The entropy of the keys of length 16 with  2-zeros and 14-ones is: 0.544\n",
      "The entropy of the keys of length 16 with  3-zeros and 13-ones is: 0.696\n",
      "The entropy of the keys of length 16 with  4-zeros and 12-ones is: 0.811\n",
      "The entropy of the keys of length 16 with  5-zeros and 11-ones is: 0.896\n",
      "The entropy of the keys of length 16 with  6-zeros and 10-ones is: 0.954\n",
      "The entropy of the keys of length 16 with  7-zeros and  9-ones is: 0.989\n",
      "The entropy of the keys of length 16 with  8-zeros and  8-ones is: 1.000\n",
      "The entropy of the keys of length 16 with  9-zeros and  7-ones is: 0.989\n",
      "The entropy of the keys of length 16 with 10-zeros and  6-ones is: 0.954\n",
      "The entropy of the keys of length 16 with 11-zeros and  5-ones is: 0.896\n",
      "The entropy of the keys of length 16 with 12-zeros and  4-ones is: 0.811\n",
      "The entropy of the keys of length 16 with 13-zeros and  3-ones is: 0.696\n",
      "The entropy of the keys of length 16 with 14-zeros and  2-ones is: 0.544\n",
      "The entropy of the keys of length 16 with 15-zeros and  1-ones is: 0.337\n",
      "The entropy of the keys of length 16 with 16-zeros and  0-ones is: 0.000\n"
     ]
    }
   ],
   "source": [
    "for i in range(0, 17):\n",
    "    arr = np.append(np.full(i, 0), np.full(16 - i, 1))\n",
    "    entrp = calculate_entropy(arr, type = \"bits\")\n",
    "    print(f\"The entropy of the keys of length {len(arr)} with {i:2d}-zeros and {16-i:2d}-ones is: {entrp:.3f}\")"
   ]
  },
  {
   "cell_type": "markdown",
   "id": "c2db611c",
   "metadata": {},
   "source": [
    "As you can see states with higher entropy have a more uniform distribution of bits. **BUT ARE NOT** necessarily more random, the bitstring 0000000011111111 has entropy 1 and the bitstring 1011110101011 has ~0.5. Despite the fact that the second looks more random than the first. We will see other tests to measure randomness [below](#Testing-the-randomness)."
   ]
  },
  {
   "cell_type": "markdown",
   "id": "a34baeeb",
   "metadata": {},
   "source": [
    "We just demonstrated that if a malicious person intercepted our encrypted data and that he knew some information about the key (like the length and the distribution of bits). It would be harder for him to crack the encryption if the key has higher entropy (the 0, 1 bits are more uniformly distributed)."
   ]
  },
  {
   "cell_type": "markdown",
   "id": "df8b98ec",
   "metadata": {},
   "source": [
    "**Note**: The point made above was made for the sake of illustration, a highly biased key might be safer because an attacker would expected the key to have a uniform distribution and thus would waste time looking at brute-forcing more uniformly distributed keys. The final choice of the key and its distribution is up to ___ to choose. We will just emphasizes that given a uniform distributed bitstring, a key with any distribution can be built. So, the most important aspect of the RNGs is to give truly uniform and unreproducible bitstrings."
   ]
  },
  {
   "cell_type": "markdown",
   "id": "14601315",
   "metadata": {},
   "source": [
    "## The problem at hand"
   ]
  },
  {
   "cell_type": "markdown",
   "id": "554f5e1b",
   "metadata": {},
   "source": [
    "We saw how important it is to generate random numbers. Our task is to find a procedure that generates **uniform, unbiased, unreproducible random numbers with a sufficient rate**."
   ]
  },
  {
   "cell_type": "markdown",
   "id": "36bd3b3b",
   "metadata": {},
   "source": [
    "The problem might look simple. If you used `python`, you probably know that we have whole packages (`random`, `np.random`, ...) to generate random numbers. Let's take a look at `numpy`random number generator:"
   ]
  },
  {
   "cell_type": "markdown",
   "id": "2a6538d8",
   "metadata": {},
   "source": [
    "#### Pseudo-RNG"
   ]
  },
  {
   "cell_type": "markdown",
   "id": "bbbbb7d6",
   "metadata": {},
   "source": [
    "Let's see how to generate a random bitstring in python."
   ]
  },
  {
   "cell_type": "code",
   "execution_count": 11,
   "id": "037cc717",
   "metadata": {},
   "outputs": [
    {
     "data": {
      "text/plain": [
       "array([1, 1, 1, 0, 0, 1, 0, 1, 1, 1])"
      ]
     },
     "execution_count": 11,
     "metadata": {},
     "output_type": "execute_result"
    }
   ],
   "source": [
    "np.random.randint(0, 2, size = 10)"
   ]
  },
  {
   "cell_type": "markdown",
   "id": "535dab72",
   "metadata": {},
   "source": [
    "That was easy as \"py\". But, how random are these numbers? The output above looks pretty random, so did we solve our problem already? Was it so trivial? No, `numpy` (and other prng) generate numbers which are **approximately random** using arithmetical methods. These numbers might be useful in a variety of applications but not in **critical applications** like security and science."
   ]
  },
  {
   "cell_type": "markdown",
   "id": "e7eac268",
   "metadata": {},
   "source": [
    "Let's try to understand how `numpy` generate its random numbers. For this, let's pick an [oversimplified algorithm](https://en.wikipedia.org/wiki/Pseudorandom_number_generator#Implementation)."
   ]
  },
  {
   "cell_type": "code",
   "execution_count": 12,
   "id": "b5f429e2",
   "metadata": {},
   "outputs": [],
   "source": [
    "def prng(seed, size):\n",
    "    bitstring = np.empty(size, dtype=int)\n",
    "    a, b = 17, 19 # a and b need to be prime numbers\n",
    "    \n",
    "    for i in range(size):\n",
    "        num = seed * a\n",
    "        bitstring[i] = np.round((num**3 % b) / b)\n",
    "        seed += 1\n",
    "        \n",
    "    return bitstring"
   ]
  },
  {
   "cell_type": "markdown",
   "id": "bec3464b",
   "metadata": {},
   "source": [
    "And generate a bitstring of length 95:"
   ]
  },
  {
   "cell_type": "code",
   "execution_count": 13,
   "id": "b48da3a0",
   "metadata": {},
   "outputs": [
    {
     "data": {
      "text/plain": [
       "array([0, 0, 0, 1, 0, 0, 1, 1, 0, 1, 1, 1, 0, 0, 0, 0, 1, 1, 1, 0, 0, 0,\n",
       "       1, 0, 0, 1, 1, 0, 1, 1, 1, 0, 0, 0, 0, 1, 1, 1, 0, 0, 0, 1, 0, 0,\n",
       "       1, 1, 0, 1, 1, 1, 0, 0, 0, 0, 1, 1, 1, 0, 0, 0, 1, 0, 0, 1, 1, 0,\n",
       "       1, 1, 1, 0, 0, 0, 0, 1, 1, 1, 0, 0, 0, 1, 0, 0, 1, 1, 0, 1, 1, 1,\n",
       "       0, 0, 0, 0, 1, 1, 1])"
      ]
     },
     "execution_count": 13,
     "metadata": {},
     "output_type": "execute_result"
    }
   ],
   "source": [
    "prng(42, 19 * 5)"
   ]
  },
  {
   "cell_type": "markdown",
   "id": "f545121e",
   "metadata": {},
   "source": [
    "This looks pretty random doesn't it? However, it is **not**:\n",
    "\n",
    "1. Everyone who knows your algorithm and knows the initial state (the seed) would be able to **reproduce** your results."
   ]
  },
  {
   "cell_type": "code",
   "execution_count": 14,
   "id": "eaf89c5f",
   "metadata": {},
   "outputs": [
    {
     "data": {
      "text/plain": [
       "array([0, 0, 0, 1, 0, 0, 1, 1, 0, 1, 1, 1, 0, 0, 0, 0, 1, 1, 1, 0, 0, 0,\n",
       "       1, 0, 0, 1, 1, 0, 1, 1, 1, 0, 0, 0, 0, 1, 1, 1, 0, 0, 0, 1, 0, 0,\n",
       "       1, 1, 0, 1, 1, 1, 0, 0, 0, 0, 1, 1, 1, 0, 0, 0, 1, 0, 0, 1, 1, 0,\n",
       "       1, 1, 1, 0, 0, 0, 0, 1, 1, 1, 0, 0, 0, 1, 0, 0, 1, 1, 0, 1, 1, 1,\n",
       "       0, 0, 0, 0, 1, 1, 1])"
      ]
     },
     "execution_count": 14,
     "metadata": {},
     "output_type": "execute_result"
    }
   ],
   "source": [
    "prng(42, 19 * 5) # same output"
   ]
  },
  {
   "cell_type": "markdown",
   "id": "27d72308",
   "metadata": {},
   "source": [
    "2. If you look closely you will see that their is a pattern that get's repeated:"
   ]
  },
  {
   "cell_type": "code",
   "execution_count": 15,
   "id": "ad2c3ec5",
   "metadata": {},
   "outputs": [
    {
     "data": {
      "text/plain": [
       "array([[0, 0, 0, 1, 0, 0, 1, 1, 0, 1, 1, 1, 0, 0, 0, 0, 1, 1, 1],\n",
       "       [0, 0, 0, 1, 0, 0, 1, 1, 0, 1, 1, 1, 0, 0, 0, 0, 1, 1, 1],\n",
       "       [0, 0, 0, 1, 0, 0, 1, 1, 0, 1, 1, 1, 0, 0, 0, 0, 1, 1, 1],\n",
       "       [0, 0, 0, 1, 0, 0, 1, 1, 0, 1, 1, 1, 0, 0, 0, 0, 1, 1, 1],\n",
       "       [0, 0, 0, 1, 0, 0, 1, 1, 0, 1, 1, 1, 0, 0, 0, 0, 1, 1, 1]])"
      ]
     },
     "execution_count": 15,
     "metadata": {},
     "output_type": "execute_result"
    }
   ],
   "source": [
    "np.reshape(_, (5, 19))"
   ]
  },
  {
   "cell_type": "markdown",
   "id": "289238c7",
   "metadata": {},
   "source": [
    "You can check that the same happens with numpy, let's pick the seed to be `12` and run `np.random.randint`. On my PC, I get: `array([1, 1, 0, 1, 1, 0, 1, 1, 0, 0])`. Try it on your PC, you would get the same results. This means that if their is a breach which would allow someone to know your `seed`. That person can easily reproduce all the random numbers you generate."
   ]
  },
  {
   "cell_type": "code",
   "execution_count": 16,
   "id": "66605fc5",
   "metadata": {},
   "outputs": [
    {
     "data": {
      "text/plain": [
       "array([1, 1, 0, 1, 1, 0, 1, 1, 0, 0])"
      ]
     },
     "execution_count": 16,
     "metadata": {},
     "output_type": "execute_result"
    }
   ],
   "source": [
    "np.random.seed(12)\n",
    "np.random.randint(0, 2, size = 10)"
   ]
  },
  {
   "cell_type": "markdown",
   "id": "a9f4efa6",
   "metadata": {},
   "source": [
    "Of course, there exists more advanced algorithm's to generate random numbers but generating **truly random** numbers using a classical computer or a classical system is impossible. This means that we need to change paradigm. We should use a **Quantum** computer to solve our problem. \n",
    "\n",
    "Indeed, a key property of quantum system is the **randomness of the measurements** as long as the quantum state isn't in an eigenstate of the measured observable. \n",
    "\n",
    "> In quantum mechanics, a (quantum) system is said to be in a particular quantum state. For example, an electron can be in a spin up state ⬆️, we would write $\\ket{Electron State} = \\ket{⬆️}$. If we measure it, we will **with certainty** find its spin to be up. In this case, we say that the electron is in an eigenstate of the observable $S_z$. The electron could also be in a **superposition** of spin up ⬆️ and spin down ⬇️, we would write $\\ket{Electron State} = \\alpha\\ket{⬆️} + \\beta\\ket{⬇️}$. In this case, the electron is not in an eigestate of the obserbable $S_z$ and a measurement has probability $|\\alpha|^2$ to yield spin up ⬆️ and $|\\beta|^2$ to yield spin down ⬇️.\n",
    "\n",
    "So, to make a **truly random and unreproducible** entropy source. We should:\n",
    "1. Pick a quantum system. \n",
    "1. Make sure that the system's state is an superposition.\n",
    "1. Carry a measurement.\n",
    "1. And we would obtain **truly random** and **unreproducible** results.\n",
    "\n",
    "Let's see two examples of quantum systems which can be used:"
   ]
  },
  {
   "cell_type": "markdown",
   "id": "b95232ad",
   "metadata": {},
   "source": [
    "## Making an RNG device"
   ]
  },
  {
   "cell_type": "markdown",
   "id": "92812390",
   "metadata": {},
   "source": [
    "We can decompose the process of generating random numbers into two part:\n",
    "1. **Entropy source**: The entropy source generates a sample of random numbers. The sample doesn't need to be uniform, we just expect it to be **truly random** and **unreproducible**.\n",
    "1. **The post-processor**: The post-processor takes a sample of random numbers and outputs a bitstring which should be **uniform**.\n",
    "\n",
    "Applying the post-processor on the samples taken from entropy source should guarantee that our final output is: **truly random, unreproducible and uniform**."
   ]
  },
  {
   "cell_type": "markdown",
   "id": "2cbb22ed",
   "metadata": {},
   "source": [
    "### The (quantum) entropy source(s)"
   ]
  },
  {
   "cell_type": "markdown",
   "id": "6dc78a35",
   "metadata": {},
   "source": [
    "#### Quantum RNG: Qubits"
   ]
  },
  {
   "cell_type": "markdown",
   "id": "10102310",
   "metadata": {},
   "source": [
    "A qubit is any two-states (state $\\ket{0}$ and state $\\ket{1}$) quantum system. We can apply a superposing gate on a $\\ket{0}$-state qubit (for example: the hadamard $H$ or the rotation on y-axis $R_y(\\theta)$). To obtain, a quantum state:\n",
    "\n",
    "$$\\ket{\\psi} = \\alpha \\ket{0} + \\beta \\ket{1}$$\n",
    "\n",
    "Then, after making a measurement, we would obtain $0$ with probability $|\\alpha|^2$ and $1$ with probability $|\\beta|^2$.\n",
    "\n",
    "This is a theoretically very simple schema to generate random numbers. Yet, it is complex to carry experimentally."
   ]
  },
  {
   "cell_type": "markdown",
   "id": "c4941808",
   "metadata": {},
   "source": [
    "#### Quantum RNG: Boson Sampling"
   ]
  },
  {
   "cell_type": "markdown",
   "id": "d271d29a",
   "metadata": {},
   "source": [
    "Boson sampling is reminiscent of a [Galton's board](https://en.wikipedia.org/wiki/Galton_board). A Galton's Board is a vertical board in which we drop balls from the top, let them go through an array of pegs and collect them into bins at the bottom. \n",
    "\n",
    "<img src=\"https://i.imgur.com/U05YsTk.png\" style=\"max-height: 300px;\"/>\n",
    "<span style=\"font-size: 12px; float: right;\"><a href=\"https://research.ibm.com/haifa/ponderthis/challenges/December2021.html\">source</a></span>"
   ]
  },
  {
   "cell_type": "markdown",
   "id": "68cceaa7",
   "metadata": {},
   "source": [
    "In a boson sampling experiment, we send a single photon (or more) into an $M$-mode interferometer (which is an array of phase gates and beamsplitters), and then we measure from where it leaves the interferometer.\n",
    "\n",
    "<img src=\"https://i.imgur.com/jEdggIq.png/\" style=\"max-height: 300px;\">\n",
    "<span style=\"font-size: 12px; float: right;\"><a href=\"https://quantum-journal.org/papers/q-2019-08-05-169/\">source</a></span>"
   ]
  },
  {
   "cell_type": "markdown",
   "id": "049800e0",
   "metadata": {},
   "source": [
    "The photon(s) at the end of the interferometer is(are) _generally_ in a superposition of states. The probability to find $n$-photons at the $m$-detector is a [computationally complex problem](https://strawberryfields.ai/photonics/demos/run_boson_sampling.html) but we know that (apart from some exceptions) the probability is not uniform as you can see from the following figure. The advantage of the boson sampling approach is that it is a rather simple experiment as it only requires phase gates and beamsplitters in comparaison to a gate-based approach."
   ]
  },
  {
   "cell_type": "code",
   "execution_count": 17,
   "id": "39556f8d",
   "metadata": {},
   "outputs": [],
   "source": [
    "from cqt_rng.entropy_sources import BosonSampler\n",
    "from cqt_rng.utils import generate_haar_unitary"
   ]
  },
  {
   "cell_type": "code",
   "execution_count": 18,
   "id": "cc604099",
   "metadata": {},
   "outputs": [
    {
     "data": {
      "image/png": "[encoded data removed]",
      "text/plain": [
       "<Figure size 432x288 with 1 Axes>"
      ]
     },
     "metadata": {
      "needs_background": "light"
     },
     "output_type": "display_data"
    }
   ],
   "source": [
    "# Probability distribution of sending a photon in the 1st mode \n",
    "# through a (3, 3) haar random unitary (3-mode interferometer)\n",
    "probs_bs1 = BosonSampler.get_theo_prob({\"100\": 1}, generate_haar_unitary(3))\n",
    "plot_probs(probs_bs1)"
   ]
  },
  {
   "cell_type": "markdown",
   "id": "749c79d1",
   "metadata": {},
   "source": [
    "### The post-processing"
   ]
  },
  {
   "cell_type": "markdown",
   "id": "8e69117f",
   "metadata": {},
   "source": [
    "As we already stated above, the output of the entropy source is not expected to be uniform (e.g: the boson sampling experiment). So, we need to carry a post-processing to obtain a uniform and unbiased random output."
   ]
  },
  {
   "cell_type": "markdown",
   "id": "fc2fe124",
   "metadata": {},
   "source": [
    "#### The Von Neumann post-processing steps:"
   ]
  },
  {
   "cell_type": "markdown",
   "id": "d221f003",
   "metadata": {},
   "source": [
    "Given two samples $s_1$ and $s_2$. We would build our uniform bitstring by:\n",
    "1. Appending $0$ to our bitstring whenever the i-th element of the sample $s_1$ is greater or equal $1$ and the i-th element of the sample $s_2$ is equal to $0$.\n",
    "2. Appending $1$ to our bitstring whenever the i-th element of the sample $s_1$ is equal to $1$ and the i-th element of the sample $s_2$ is greater or equal $1$."
   ]
  },
  {
   "cell_type": "markdown",
   "id": "1591175a",
   "metadata": {},
   "source": [
    "#### The theory behind the Von Neumann post-processing: independent elements"
   ]
  },
  {
   "cell_type": "markdown",
   "id": "aec6c328",
   "metadata": {},
   "source": [
    "Let's assume that we have sample $S$  from an arbitrary (discrete) distribution. The probability that an element of $S$ is equal to 0 is noted $p$. The probability that an element of $S$ is not equal to $0$ is then $1 - p$. Every element from the sample is independent from the others.\n",
    "\n",
    "\n",
    "We can split that sample $S$ into two samples $V$ and $W$. We know that the samples $V$ and $W$ **should follow the same distribution** as the sample $S$.\n",
    "\n",
    "##### The probability of appending 0 to the bitstring:\n",
    "\n",
    "To append $0$ to the bitstring, we should have $V_i \\geq 1$ and $W_i = 0$ where the $i$-th subscript indicates the $i$-th element of $V$, $W$ respectively.\n",
    "\n",
    "$$ P(V_i \\geq 1) = 1 - p \\quad P(W_i = 0) = p$$\n",
    "\n",
    "\n",
    "Thus, the probability to append $0$ is:\n",
    "\n",
    "$$ P(V_i \\geq 1 \\text{ and } W_i = 0) = (1 - p) \\; p$$\n",
    "\n",
    "##### The probability of appending 1 to the bitstring:\n",
    "\n",
    "To append $1$ to the bitstring, we should have $V_i = 0$ and $W_i \\geq 1$ where the $i$-th subscript indicates the $i$-th element of $V$, $W$ respectively.\n",
    "\n",
    "$$ P(V_i  = 0) = p \\quad P(W_i \\geq 0) = 1 - p$$\n",
    "\n",
    "\n",
    "Thus, the probability to append $1$ is:\n",
    "\n",
    "$$ P(V_i  = 0 \\text{ and } W_i \\geq 0) = (1 - p) \\; p$$\n",
    "\n",
    "\n",
    "We can see that the probability that we append $0$ is equal to the probability to append $1$ and thus despite starting with a distribution far from being uniform. We can reach a uniform one.\n",
    "\n",
    "$$ P(\\text{ append } 0) =  P(\\text{ append } 1) = (1 - p) \\; p$$\n",
    "\n",
    "##### The probability of discarding the i-th element:\n",
    "We are also interested in knowing the probability of discarding the $i$-th element as this would impact the rate and cost of our random number generator.\n",
    "\n",
    "$$ P(\\text{ discarding the i-th element }) =  1 - P(\\text{ appending } 0) - P(\\text{ appending } 1) = 1 - 2p + 2p^2$$\n",
    "\n",
    "To minimize this probability, We need: $p = 0.5$. As can be checked by looking at the following plot:"
   ]
  },
  {
   "cell_type": "code",
   "execution_count": 19,
   "id": "9078b3bd",
   "metadata": {},
   "outputs": [
    {
     "data": {
      "image/png": "[encoded data removed]",
      "text/plain": [
       "<Figure size 432x288 with 1 Axes>"
      ]
     },
     "metadata": {
      "needs_background": "light"
     },
     "output_type": "display_data"
    }
   ],
   "source": [
    "p = np.linspace(0, 1)\n",
    "plt.plot(p, 1 - 2 * p + 2 * p**2)\n",
    "plt.grid()\n",
    "plt.xticks(np.arange(0, 1.1, 0.1))\n",
    "plt.yticks(np.arange(0, 1.1, 0.1))\n",
    "plt.xlim([0, 1])\n",
    "plt.ylim([0, 1])\n",
    "plt.xlabel(r\"$p$\")\n",
    "plt.ylabel(r\"Probability of discarding the $i$-th element\")\n",
    "plt.show()"
   ]
  },
  {
   "cell_type": "markdown",
   "id": "0289bec1",
   "metadata": {},
   "source": [
    "Knowing this, we can for example try to maximize the efficienty of our random number generator by configuring it (as long as it is possible) to have $p = 0.5$."
   ]
  },
  {
   "cell_type": "markdown",
   "id": "bc10b714",
   "metadata": {},
   "source": [
    "For the Qubit-based system, this can be done by applying the hadamard gate on our initial $\\ket{0}$ qubit. We would obtain:\n",
    "\n",
    "$$p = P(0) = P(1) = 0.5$$\n",
    "\n",
    "And we would be able to harness half of our generated sample to get a random bitstring. \n",
    "\n",
    "**Note:** If you have the guarantee that your sample is random and uniform (p = 0.5), you actually don't need to do any post-processing."
   ]
  },
  {
   "cell_type": "markdown",
   "id": "469ab73c",
   "metadata": {},
   "source": [
    "If we apply an $R_y$ gate, for example, with angle $\\pi / 5$, we would have:"
   ]
  },
  {
   "cell_type": "code",
   "execution_count": 20,
   "id": "89872cf2",
   "metadata": {},
   "outputs": [],
   "source": [
    "p = np.cos(np.pi / 10)**2"
   ]
  },
  {
   "cell_type": "markdown",
   "id": "5b57f29a",
   "metadata": {},
   "source": [
    "$$p = P(0) = \\cos\\left(\\frac{\\pi / 5}{2}\\right)^2 \\approx 0.90 $$"
   ]
  },
  {
   "cell_type": "code",
   "execution_count": 21,
   "id": "672a457f",
   "metadata": {},
   "outputs": [
    {
     "data": {
      "text/plain": [
       "0.8272542485937366"
      ]
     },
     "execution_count": 21,
     "metadata": {},
     "output_type": "execute_result"
    }
   ],
   "source": [
    "1 - 2 * p + 2 * p**2"
   ]
  },
  {
   "cell_type": "markdown",
   "id": "f6881254",
   "metadata": {},
   "source": [
    "And we would loose 82.7% of our sample, which is a considerable lost."
   ]
  },
  {
   "cell_type": "markdown",
   "id": "25a9b6c5",
   "metadata": {},
   "source": [
    "#### the Von Neumann Post-processing: dependent elements"
   ]
  },
  {
   "cell_type": "markdown",
   "id": "3ca58563",
   "metadata": {},
   "source": [
    "Let's now assume that the element of our sample $S$ are not independent from one another, in this case the theory becomes more complicated. So, in the interest of time and clarity, let's proceed through examples and observations."
   ]
  },
  {
   "cell_type": "markdown",
   "id": "752c8933",
   "metadata": {},
   "source": [
    "##### Example 01:"
   ]
  },
  {
   "cell_type": "markdown",
   "id": "12b5c4ce",
   "metadata": {},
   "source": [
    "Let's assume that we are carrying a boson sampling experiment by sending 2 photons through a 2-mode interferometer.\n",
    "\n",
    "The possible output that can be detected are: $[1, 1], [2, 0], [0, 2]$ where the first number in the list indicates the number of photons detected in the first detector and the second number indicates the number of photons detected in the second detector.\n",
    "\n",
    "Let's also assume that the probability to obtain $[1, 1]$ is noted $p_1$, the probability to obtain $[2, 0]$ is $p_2$ and the probability to obtain $[0, 2]$ is $p_3$."
   ]
  },
  {
   "cell_type": "markdown",
   "id": "017a5f53",
   "metadata": {},
   "source": [
    "Let's assume that we carried a series of this experiement and obtain a sample of results $S$ and we are interested in the probability to append $0$ and $1$ if we follow the post-processing discussed above.\n",
    "\n",
    "| $V_i$    | $W_i$    | Probability | Post-processed bitstring |\n",
    "|----------|----------|-------------|--------------------------|\n",
    "| $[1, 1]$ | $[1, 1]$ | $p_1^2$     | $[]$                     |\n",
    "| $[1, 1]$ | $[2, 0]$ | $p_1 p_2$   | $[0]$                    |\n",
    "| $[1, 1]$ | $[0, 2]$ | $p_1 p_3$   | $[0]$                    |\n",
    "| $[2, 0]$ | $[1, 1]$ | $p_2 p_1$   | $[1]$                    |\n",
    "| $[2, 0]$ | $[2, 0]$ | $p_2^2$     | $[]$                     |\n",
    "| $[2, 0]$ | $[0, 2]$ | $p_2 p_3$   | $[0, 1]$                 |\n",
    "| $[0, 2]$ | $[1, 1]$ | $p_3 p_1$   | $[1]$                    |\n",
    "| $[0, 2]$ | $[2, 0]$ | $p_3 p_2$   | $[1, 0]$                 |\n",
    "| $[0, 2]$ | $[0, 2]$ | $p_3^2$     | $[]$                     |"
   ]
  },
  {
   "cell_type": "markdown",
   "id": "f7750801",
   "metadata": {},
   "source": [
    "As we can see, we can append $0$ and $1$ to our bitstring, but we can also append the \"words\" $01$ or $10$. \n",
    "\n",
    "> Word: A predefined substring consisting of a fixed pattern/template (e.g., 010,\n",
    "0110) ([source](https://nvlpubs.nist.gov/nistpubs/legacy/sp/nistspecialpublication800-22r1a.pdf))\n",
    "\n",
    "Now, for the bitstring to be truly unbiased the probability of having $0$ or $1$ should be equal BUT ALSO the probability to have $00$, $01$, $10$, $11$ should be equal (and the same applies for longer combinations of 0,1).  An illustration of a bitstring where the $P(0) = P(1)$ but the bitstring is not random is this $01010101$. We can see that $P(0) = P(1)$ but given that we know that the $i$-th is $0$ we are guaranteed that the $i+1$-th bit is 1 and vice versa. A bias might be more suble where given that we know that the $i$-th is a certain value there is unequal probabilities for $i+1$-th bit to be $0$ or $1$.\n",
    "\n",
    "**Is $P(00) = P(01)$ for the sampling experiment above?**\n",
    "\n",
    "$$P(0) = p_1 p_2 + p_1 p_3  \\qquad P(1) = p_2 p_1 + p_3 p_1$$\n",
    "\n",
    "So, $$P(0) = P(1)$$. Let's check $P(00)$ and $P(01)$:\n",
    "\n",
    "00 can be built by assembling the words : `0` `0`, `10` `01`, `0` `01`, `10` `0`.\n",
    "\n",
    "And the 01 can be built by assemebly the words: `01`, `0` `1`, `10` `1`\n",
    "<!-- $$P(00) = P(0) \\; P(0) \\qquad P(01) = P(0) \\; P(1) + p_2 p_3$$ -->"
   ]
  },
  {
   "cell_type": "code",
   "execution_count": 22,
   "id": "bbd1bf2e",
   "metadata": {},
   "outputs": [],
   "source": [
    "def ex1_p_0(p1, p2):\n",
    "    p3 = 1 - p1 - p2\n",
    "    p3 = np.where(p3 < 0, np.nan, p3)\n",
    "    return p1 * p2 + p2 * p3"
   ]
  },
  {
   "cell_type": "code",
   "execution_count": 23,
   "id": "b6ab62da",
   "metadata": {},
   "outputs": [],
   "source": [
    "def ex1_p_1(p1, p2):\n",
    "    p3 = 1 - p1 - p2\n",
    "    p3 = np.where(p3 < 0, np.nan, p3)\n",
    "    return p1 * p2 + p2 * p3"
   ]
  },
  {
   "cell_type": "code",
   "execution_count": 24,
   "id": "76679101",
   "metadata": {},
   "outputs": [],
   "source": [
    "def ex1_p_00(p1, p2):\n",
    "    p3 = 1 - p1 - p2\n",
    "    p3 = np.where(p3 < 0, np.nan, p3)\n",
    "    return ex1_p_0(p1, p2)**2 + 2 * ex1_p_0(p1, p2) * p2 * p3 + p2**2 * p3**2 "
   ]
  },
  {
   "cell_type": "code",
   "execution_count": 25,
   "id": "95a52a15",
   "metadata": {},
   "outputs": [],
   "source": [
    "def ex1_p_01(p1, p2):\n",
    "    p3 = 1 - p1 - p2\n",
    "    p3 = np.where(p3 < 0, np.nan, p3)\n",
    "    return ex1_p_0(p1, p2) * ex1_p_1(p1, p2) + p2 * p3 + p2 * p3 * ex1_p_1(p1, p2)"
   ]
  },
  {
   "cell_type": "code",
   "execution_count": 26,
   "id": "f2eb3b26",
   "metadata": {},
   "outputs": [],
   "source": [
    "def ex1_diff_p00_p01(p1, p2):\n",
    "    return  ex1_p_00(p1, p2) - ex1_p_01(p1, p2)"
   ]
  },
  {
   "cell_type": "code",
   "execution_count": 27,
   "id": "19707f2e",
   "metadata": {},
   "outputs": [],
   "source": [
    "p1 = np.linspace(0, 1)\n",
    "p2 = np.linspace(0, 1)\n",
    "mp1, mp2 = np.meshgrid(p1, p2)"
   ]
  },
  {
   "cell_type": "code",
   "execution_count": 28,
   "id": "cf5683f3",
   "metadata": {},
   "outputs": [
    {
     "data": {
      "image/png": "[encoded data removed]",
      "text/plain": [
       "<Figure size 432x288 with 2 Axes>"
      ]
     },
     "metadata": {
      "needs_background": "light"
     },
     "output_type": "display_data"
    }
   ],
   "source": [
    "plt.contourf(mp1, mp2, ex1_diff_p00_p01(mp1, mp2), levels=100)\n",
    "plt.colorbar()\n",
    "plt.xlabel(\"$p_1$\")\n",
    "plt.ylabel(\"$p_2$\")\n",
    "plt.title(\"$P(00) - P(01)$\")\n",
    "plt.show()"
   ]
  },
  {
   "cell_type": "markdown",
   "id": "055dfd8d",
   "metadata": {},
   "source": [
    "As we can see unless the $p_i$ are fine-tuned, the probabilities of having $00$, $01$ in this example (and in general) are unequal, which would introduce some bias. "
   ]
  },
  {
   "cell_type": "markdown",
   "id": "d286ea0d",
   "metadata": {},
   "source": [
    "Let's now see what is the probability of not appending anything to our bitstring. \n",
    "\n",
    "$$P(\\text{not appending}) = p_1^2 + p_2^2 + p_3^2$$"
   ]
  },
  {
   "cell_type": "code",
   "execution_count": 29,
   "id": "e35ec020",
   "metadata": {},
   "outputs": [],
   "source": [
    "def ex1_p_not_appending(p1, p2):\n",
    "    p3 = 1 - p1 - p2\n",
    "    p3 = np.where(p3 < 0, np.nan, p3)\n",
    "    return p1**2 + p2**2 + p3**2"
   ]
  },
  {
   "cell_type": "code",
   "execution_count": 30,
   "id": "309f05fe",
   "metadata": {},
   "outputs": [
    {
     "data": {
      "image/png": "[encoded data removed]",
      "text/plain": [
       "<Figure size 432x288 with 2 Axes>"
      ]
     },
     "metadata": {
      "needs_background": "light"
     },
     "output_type": "display_data"
    }
   ],
   "source": [
    "plt.contourf(mp1, mp2, ex1_p_not_appending(mp1, mp2), levels=100)\n",
    "plt.colorbar()\n",
    "plt.xlabel(\"$p_1$\")\n",
    "plt.ylabel(\"$p_2$\")\n",
    "plt.title(\"$P($not appending$)$\")\n",
    "plt.show()"
   ]
  },
  {
   "cell_type": "markdown",
   "id": "b2b5a8e2",
   "metadata": {},
   "source": [
    "We can see that the advantage of having dependent elements in our sample is that we can reach smaller probabilities of not appending anything to our bitstring, which means that we would have less waste and longer bitstrings."
   ]
  },
  {
   "cell_type": "markdown",
   "id": "ec006a86",
   "metadata": {},
   "source": [
    "##### Example 02:"
   ]
  },
  {
   "cell_type": "markdown",
   "id": "599c9964",
   "metadata": {},
   "source": [
    "Let's try to go a level harder and try to carry a boson sampling experiment like the one describe in section (3.2) of [Shi et al.](#References).\n",
    "\n",
    "In this experiment, we are sending two photons into a 5-mode interferometer and collecting the results. We implemented a boson sampling simulator which we can use to to carry this experiment and study the output."
   ]
  },
  {
   "cell_type": "code",
   "execution_count": 31,
   "id": "44be9680",
   "metadata": {},
   "outputs": [],
   "source": [
    "probs_ex2 = BosonSampler.get_theo_prob(shi_input_dict_fig4, shi_unitary5)"
   ]
  },
  {
   "cell_type": "code",
   "execution_count": 32,
   "id": "3bf8b93c",
   "metadata": {},
   "outputs": [
    {
     "data": {
      "image/png": "[encoded data removed]",
      "text/plain": [
       "<Figure size 432x288 with 1 Axes>"
      ]
     },
     "metadata": {
      "needs_background": "light"
     },
     "output_type": "display_data"
    }
   ],
   "source": [
    "plot_probs(probs_ex2)"
   ]
  },
  {
   "cell_type": "markdown",
   "id": "1e73ac33",
   "metadata": {},
   "source": [
    "As you can see, we retrieve the same probability distribution as in figure 4. (a). Now, let's see what we would obtain when we draw random samples from this distribution and postprocess them:"
   ]
  },
  {
   "cell_type": "code",
   "execution_count": 33,
   "id": "4fe67495",
   "metadata": {},
   "outputs": [
    {
     "data": {
      "text/plain": [
       "{'': 0.44304139369062234,\n",
       " '01': 0.6249299343169981,\n",
       " '0011': 0.05689875094630071,\n",
       " '1': 0.345105289406096,\n",
       " '011': 0.18773149775052814,\n",
       " '10': 0.6249299343169981,\n",
       " '0101': 0.10730937865653906,\n",
       " '101': 0.1890817329403677,\n",
       " '0110': 0.1898526313346462,\n",
       " '110': 0.07755980340426805,\n",
       " '1001': 0.1898526313346462,\n",
       " '1010': 0.10730937865653906,\n",
       " '1100': 0.05689875094630071,\n",
       " '0': 0.3451052894060961,\n",
       " '001': 0.07755980340426803,\n",
       " '010': 0.1890817329403677,\n",
       " '100': 0.18773149775052814}"
      ]
     },
     "execution_count": 33,
     "metadata": {},
     "output_type": "execute_result"
    }
   ],
   "source": [
    "study_boson_sampler(probs_ex2)"
   ]
  },
  {
   "cell_type": "markdown",
   "id": "6aa8dc6f",
   "metadata": {},
   "source": [
    "The function `study_boson_sampler` takes the output of `BosonSampler.get_theo_prob` and output a dictionnary whose keys are \"words\" and the values are the probabilities that these \"words\" gets appended to our final bitstring. \n",
    "\n",
    "As we can see the probability that nothing gets appended to the bitstring is very low 11% compared the minimal 50% for independent elements case. \n",
    "\n",
    "But, as we saw in the previous example, this comes at price which is that in the general case unless we choose our unitary very carefully there would be a small bias in our final bitstring as the probability of to have certain words in our bitstring is higher to the probability of having other words."
   ]
  },
  {
   "cell_type": "markdown",
   "id": "410d35ad",
   "metadata": {},
   "source": [
    "##### Example 03:"
   ]
  },
  {
   "cell_type": "markdown",
   "id": "20f42ec9",
   "metadata": {},
   "source": [
    "Let's look at another example in which the bias is more clear. Let's pick a 10-mode interferometer and send either one photon in each of the 5th and 6th mode or one photon in each of the 4th and 7th mode with probability 50% for each (look at the `ex3_input` below)."
   ]
  },
  {
   "cell_type": "code",
   "execution_count": 34,
   "id": "fb327abe",
   "metadata": {},
   "outputs": [],
   "source": [
    "from scipy.linalg import block_diag\n",
    "ex3_input = {\"0000110000\": 0.5, \"0001001000\": 0.5}\n",
    "ex3_unitary = block_diag(generate_haar_unitary(5), shi_unitary5)"
   ]
  },
  {
   "cell_type": "code",
   "execution_count": 35,
   "id": "f9070685",
   "metadata": {},
   "outputs": [],
   "source": [
    "probs_ex3 = BosonSampler.get_theo_prob(ex3_input, ex3_unitary)"
   ]
  },
  {
   "cell_type": "code",
   "execution_count": 36,
   "id": "1ed6c6e3",
   "metadata": {},
   "outputs": [
    {
     "data": {
      "text/plain": [
       "{'': 0.06971700961878208,\n",
       " '01': 0.19539514484448495,\n",
       " '0101': 0.13487413247397828,\n",
       " '10': 0.1953951448444849,\n",
       " '0110': 0.1348741324739783,\n",
       " '1001': 0.13487413247397828,\n",
       " '1010': 0.13487413247397825}"
      ]
     },
     "execution_count": 36,
     "metadata": {},
     "output_type": "execute_result"
    }
   ],
   "source": [
    "study_boson_sampler(probs_ex3)"
   ]
  },
  {
   "cell_type": "markdown",
   "id": "1570a464",
   "metadata": {},
   "source": [
    "As you can see here, the bias in the bitstring would be more obvious in this case. Given a bitstring generated with such an input and unitary. If we have $00$, we are certain that the next bit would be a $1$ and vice versa (if you are unsure why this is the case, try to pick any random two \"words\" from the results above and try to construct a bitstring with 3 consecutive $0$ or $1$, it is impossible!!!)"
   ]
  },
  {
   "cell_type": "markdown",
   "id": "1605b1d6",
   "metadata": {},
   "source": [
    "#### Post-processing: dependent elements, the unbiased way"
   ]
  },
  {
   "cell_type": "markdown",
   "id": "5cc0aacf",
   "metadata": {},
   "source": [
    "As we just saw, if we have a sample whose elements are dependent, we can generate bitstrings with less losses but at the cost of introducing suble (or less suble) biases. \n",
    "\n",
    "In what follows, we propose a post-processing schema to generate an unbiased bitstring from a sample with dependent elements.\n",
    "\n",
    "First lets. observe that in the example 2 and example 3, the probabilities to append a word which starts with a $0$ is similar to the probability of appending a word which starts with a $0$. (for example (2): the probabilities are ~ 44.46% and for example (3): the probabilities are 47%)\n",
    "\n",
    "\n",
    "1. We pass the sample through the Von Neumann post-processing.\n",
    "2. Instead of appending the words produced in the previous step to the bitstring, we append a $0$ to the bitstring if the word starts with $0$ and $1$ if the word starts with a $1$. "
   ]
  },
  {
   "cell_type": "markdown",
   "id": "ada8a485",
   "metadata": {},
   "source": [
    "#### Conclusion:\n",
    "\n",
    "We found two methods to postprocess the random output of the entropy source. Both the methods are similar for samples with independent elements but for samples with dependent element the Von Neumann method offers a higher rate but (in general) introduces some biasness. The [CQT method](#Post-processing:-dependent-elements,-the-unbiased-way) offers an unbiased output but at a slower rate.\n"
   ]
  },
  {
   "cell_type": "markdown",
   "id": "da1c7442",
   "metadata": {},
   "source": [
    "## Testing the randomness"
   ]
  },
  {
   "cell_type": "markdown",
   "id": "9e0aa9f2",
   "metadata": {},
   "source": [
    "<img src=\"https://i.imgur.com/dmhKrL3.jpg\" style=\"height: 200px\" />\n",
    "\n",
    "Now, that we have methods to generate random numbers. We need a test to measure how random they are. As we saw in the previous sections, looking for the frequencies of $0$s and $1$s (entropy) is not enough. We should also look for repeating words, patterns, and etc. In what follows, we will assess the randomness of our bitstring by the using the [nistrng package](https://pypi.org/project/nistrng/), which is a python package implementing the 15 tests of the [NIST SP 800-22](https://nvlpubs.nist.gov/nistpubs/legacy/sp/nistspecialpublication800-22r1a.pdf) test-suite. A pedagogical review of some the tests can be found [here](https://medium.com/unitychain/provable-randomness-how-to-test-rngs-55ac6726c5a3). "
   ]
  },
  {
   "cell_type": "markdown",
   "id": "419b66fd",
   "metadata": {},
   "source": [
    "For the interpretation of the NIST results, we will refer to the [this paper](https://www.researchgate.net/publication/287224641_On_the_interpretation_of_results_from_the_NIST_statistical_test_suite). "
   ]
  },
  {
   "cell_type": "markdown",
   "id": "8036ea7a",
   "metadata": {},
   "source": [
    "Beside that, we will also plot the distribution of the different BITs, BYTEs (8-bits) and possibly WORDs (16-bits), and DWORDs (32-bits) so that reader can have an simple visual representation of how unbiased (or biased) the outputs are.\n",
    "\n",
    "For example, lets generate a very biased bitstring `a` and a less biased one `b`."
   ]
  },
  {
   "cell_type": "code",
   "execution_count": 37,
   "id": "b2df7151",
   "metadata": {},
   "outputs": [
    {
     "name": "stdout",
     "output_type": "stream",
     "text": [
      "[0 1 1 0 1 0 1 1 0 1 0 1 1 0 1 0 1 1 0 1]\n"
     ]
    }
   ],
   "source": [
    "a = np.tile([0, 1, 1, 0, 1], 30_000)\n",
    "print(a[:20])"
   ]
  },
  {
   "cell_type": "code",
   "execution_count": 38,
   "id": "a30b0f92",
   "metadata": {},
   "outputs": [
    {
     "data": {
      "image/png": "[encoded data removed]",
      "text/plain": [
       "<Figure size 432x288 with 1 Axes>"
      ]
     },
     "metadata": {
      "needs_background": "light"
     },
     "output_type": "display_data"
    }
   ],
   "source": [
    "draw_distribution(a)"
   ]
  },
  {
   "cell_type": "code",
   "execution_count": 39,
   "id": "4633460d",
   "metadata": {},
   "outputs": [
    {
     "name": "stdout",
     "output_type": "stream",
     "text": [
      "[1 0 1 0 0 0 1 0 0 1 1 0 1 1 0 1 1 1 0 1]\n"
     ]
    }
   ],
   "source": [
    "b = np.random.randint(0, 2, size = 100_000)\n",
    "print(b[:20])"
   ]
  },
  {
   "cell_type": "code",
   "execution_count": 40,
   "id": "973d12b8",
   "metadata": {},
   "outputs": [
    {
     "data": {
      "image/png": "[encoded data removed]",
      "text/plain": [
       "<Figure size 432x288 with 1 Axes>"
      ]
     },
     "metadata": {
      "needs_background": "light"
     },
     "output_type": "display_data"
    }
   ],
   "source": [
    "draw_distribution(b)"
   ]
  },
  {
   "cell_type": "markdown",
   "id": "6b4afdfd",
   "metadata": {},
   "source": [
    "As you can the `a` bitstring is just the word `01101` repeated. When we construct a bytestring of it, we observe that the distribution of bytes is far from uniform.\n",
    "\n",
    "On the hand, the `b` bitstring is the output of `numpy`'s rng. And we observe that the bytes are more uniformly distributed."
   ]
  },
  {
   "cell_type": "markdown",
   "id": "58973ab1",
   "metadata": {},
   "source": [
    "We can quantify the distribution of bytes by using the same method as for the distribution of bits (by using the entropy)."
   ]
  },
  {
   "cell_type": "code",
   "execution_count": 41,
   "id": "ad985721",
   "metadata": {},
   "outputs": [
    {
     "data": {
      "text/plain": [
       "0.29024101186092033"
      ]
     },
     "execution_count": 41,
     "metadata": {},
     "output_type": "execute_result"
    }
   ],
   "source": [
    "calculate_entropy(a, type = \"bytes\")"
   ]
  },
  {
   "cell_type": "code",
   "execution_count": 42,
   "id": "a2a8865d",
   "metadata": {},
   "outputs": [
    {
     "data": {
      "text/plain": [
       "0.9980966409119127"
      ]
     },
     "execution_count": 42,
     "metadata": {},
     "output_type": "execute_result"
    }
   ],
   "source": [
    "calculate_entropy(b, type = \"bytes\")"
   ]
  },
  {
   "cell_type": "markdown",
   "id": "e62dbc64",
   "metadata": {},
   "source": [
    "## The CQT RNG package"
   ]
  },
  {
   "cell_type": "markdown",
   "id": "8290115d",
   "metadata": {},
   "source": [
    "<img src=\"https://i.ibb.co/p1r35Zr/CQT-RNG-3.jpg\" />"
   ]
  },
  {
   "cell_type": "markdown",
   "id": "65c2cd8e",
   "metadata": {},
   "source": [
    "We gathered all the necessary code to generate a random bitstring and developped a package that was designed to be simple and extendable. The core of the package are three classes. The `RNG`, `EntropySource`, and `PostProcessor` classes. \n",
    "\n",
    "The `RNG` classes takes an entropy source and a postprocessor. The entropy source should be a subclass of the `EntropySource` abstract class and the postprocessor should be a subclass of the `PostProcessor` abstract class. \n",
    "\n",
    "This leaves plenty of room for the end-user to add his own entropy sources and post processors.\n",
    "\n",
    "We also provide some entropy sources:\n",
    "* `UniversalQCSampler`: Based on the [Qubit approach](#Quantum-RNG:-Qubits), simulated on qiskit's [aer_simulator](https://qiskit.org/documentation/stubs/qiskit.providers.aer.AerSimulator.html).\n",
    "* `ShiSFSampler`: Based on the approach described in [Shi et al.](https://arxiv.org/pdf/2206.02292.pdf), simulated on Strawberry Fields' [fock backend](https://strawberryfields.readthedocs.io/en/stable/code/api/strawberryfields.backends.FockBackend.html).\n",
    "* `BosonSampler`: Simulates a boson sampling experiment. Default arguments simulate the Shi et al. circuit. Faster than the Strawberry fields simulator.\n",
    "* `IBMQSampler`: Based on the [Qubit approach](#Quantum-RNG:-Qubits), experiment carried on [IBMQ hardware](https://www.ibm.com/quantum).\n",
    "* `BorealisSampler`: Based on Gaussian Boson Sampling, experiments carried on [Xanadu hardware](https://cloud.xanadu.ai/).\n",
    "* `Loader`: An entropy source which delivers samples from data inputted as `np.array`.\n",
    "\n",
    "We also provide three postprocessors:\n",
    "* `VonNeumannPP`: Based on the [Von Neumann postprocessing](#The-Von-Neumann-post-processing-steps:)\n",
    "* `CQTPP`: Based on the approach described [here](#Post-processing:-dependent-elements,-the-unbiased-way)\n",
    "* `NoPostProcess`: Doesn't carry any postprocessing. Just appends the two samples.\n",
    "\n",
    "_For more example, please refer to the [documentation](https://cqtrng.readthedocs.io/en/latest/)._"
   ]
  },
  {
   "cell_type": "markdown",
   "id": "dd7f7678",
   "metadata": {},
   "source": [
    "### Qubits-based Simulator"
   ]
  },
  {
   "cell_type": "markdown",
   "id": "b7a8b44c",
   "metadata": {},
   "source": [
    "To generate a bitstring of length 100 using the [Qubit-based approach](#Quantum-RNG:-Qubits) as an entropy source and the [Von Neumann postprocessor](#The-Von-Neumann-post-processing-steps:):"
   ]
  },
  {
   "cell_type": "code",
   "execution_count": 43,
   "id": "ea8d1164",
   "metadata": {},
   "outputs": [],
   "source": [
    "from cqt_rng import RNG\n",
    "from cqt_rng.entropy_sources import UniversalQCSampler\n",
    "from cqt_rng.post_processors import VonNeumannPP"
   ]
  },
  {
   "cell_type": "code",
   "execution_count": 44,
   "id": "b5c6070a",
   "metadata": {},
   "outputs": [],
   "source": [
    "es1 = UniversalQCSampler(nb_qubits = 5)\n",
    "rng1 = RNG(entropy_source=es1, postprocessor=VonNeumannPP())"
   ]
  },
  {
   "cell_type": "code",
   "execution_count": 45,
   "id": "704c87ae",
   "metadata": {},
   "outputs": [
    {
     "name": "stderr",
     "output_type": "stream",
     "text": [
      "100001it [00:00, 101142.01it/s]                                                                                                                                           \n"
     ]
    }
   ],
   "source": [
    "bs1 = rng1.generate(100_000)"
   ]
  },
  {
   "cell_type": "markdown",
   "id": "94a01f83",
   "metadata": {},
   "source": [
    "Fairly easy isn't it? Let's pass the output through some tests"
   ]
  },
  {
   "cell_type": "code",
   "execution_count": 46,
   "id": "a1c33c6d",
   "metadata": {},
   "outputs": [
    {
     "data": {
      "image/png": "[encoded data removed]",
      "text/plain": [
       "<Figure size 432x288 with 1 Axes>"
      ]
     },
     "metadata": {
      "needs_background": "light"
     },
     "output_type": "display_data"
    }
   ],
   "source": [
    "draw_distribution(bs1)"
   ]
  },
  {
   "cell_type": "code",
   "execution_count": 47,
   "id": "03d6a643",
   "metadata": {},
   "outputs": [
    {
     "data": {
      "text/plain": [
       "0.9999964449079601"
      ]
     },
     "execution_count": 47,
     "metadata": {},
     "output_type": "execute_result"
    }
   ],
   "source": [
    "calculate_entropy(bs1, type = \"bits\")"
   ]
  },
  {
   "cell_type": "code",
   "execution_count": 48,
   "id": "2a8b977d",
   "metadata": {},
   "outputs": [
    {
     "data": {
      "text/plain": [
       "0.9980139821442039"
      ]
     },
     "execution_count": 48,
     "metadata": {},
     "output_type": "execute_result"
    }
   ],
   "source": [
    "calculate_entropy(bs1, type=\"bytes\")"
   ]
  },
  {
   "cell_type": "code",
   "execution_count": 49,
   "id": "c2202e22",
   "metadata": {},
   "outputs": [
    {
     "name": "stdout",
     "output_type": "stream",
     "text": [
      "Eligible test from NIST-SP800-22r1a:\n",
      "-monobit\n",
      "-frequency_within_block\n",
      "-runs\n",
      "-longest_run_ones_in_a_block\n",
      "-binary_matrix_rank\n",
      "-dft\n",
      "-non_overlapping_template_matching\n",
      "-serial\n",
      "-approximate_entropy\n",
      "-cumulative sums\n",
      "Test results:\n",
      "- PASSED - score: 0.483 - Monobit - elapsed time: 0 ms\n",
      "- PASSED - score: 0.178 - Frequency Within Block - elapsed time: 2 ms\n",
      "- PASSED - score: 0.838 - Runs - elapsed time: 40 ms\n",
      "- PASSED - score: 0.271 - Longest Run Ones In A Block - elapsed time: 18 ms\n",
      "- PASSED - score: 0.134 - Binary Matrix Rank - elapsed time: 540 ms\n",
      "- FAILED - score: 0.0 - Discrete Fourier Transform - elapsed time: 6 ms\n",
      "- FAILED - score: 0.0 - Non Overlapping Template Matching - elapsed time: 282 ms\n",
      "- FAILED - score: 0.0 - Serial - elapsed time: 3405 ms\n",
      "- FAILED - score: 0.0 - Approximate Entropy - elapsed time: 5633 ms\n",
      "- FAILED - score: 0.0 - Cumulative Sums - elapsed time: 93 ms\n",
      "Total failed tests: 5/10\n"
     ]
    }
   ],
   "source": [
    "nist_tests(bs1)"
   ]
  },
  {
   "cell_type": "markdown",
   "id": "6bac1dd5",
   "metadata": {},
   "source": [
    "Now, let's try to check the point we made in [here](#The-probability-of-discarding-the-i-th-element:)"
   ]
  },
  {
   "cell_type": "code",
   "execution_count": 50,
   "id": "c9c0955d",
   "metadata": {},
   "outputs": [],
   "source": [
    "es2 = UniversalQCSampler(nb_qubits = 5, operation=\"hadamard\")"
   ]
  },
  {
   "cell_type": "code",
   "execution_count": 51,
   "id": "870eea16",
   "metadata": {},
   "outputs": [],
   "source": [
    "sample2 = es2.sample(100_000)"
   ]
  },
  {
   "cell_type": "code",
   "execution_count": 52,
   "id": "26576bae",
   "metadata": {},
   "outputs": [],
   "source": [
    "a = sample2[:50_000]\n",
    "b = sample2[50_000:]"
   ]
  },
  {
   "cell_type": "code",
   "execution_count": 53,
   "id": "7eba411a",
   "metadata": {},
   "outputs": [
    {
     "data": {
      "text/plain": [
       "25172"
      ]
     },
     "execution_count": 53,
     "metadata": {},
     "output_type": "execute_result"
    }
   ],
   "source": [
    "len(VonNeumannPP().postprocess(a, b))"
   ]
  },
  {
   "cell_type": "markdown",
   "id": "e61fc297",
   "metadata": {},
   "source": [
    "We can see that after postprocessing, we lost ~50% of sample `a`'s size. We went from 50k to 25k. As predicted in the theoretical part. Now, let's try a rotation with angle $\\pi / 5$."
   ]
  },
  {
   "cell_type": "code",
   "execution_count": 54,
   "id": "c349d0aa",
   "metadata": {},
   "outputs": [],
   "source": [
    "es3 = UniversalQCSampler(nb_qubits = 5, operation = \"rotation\", angle = np.pi / 5)"
   ]
  },
  {
   "cell_type": "code",
   "execution_count": 55,
   "id": "240f985e",
   "metadata": {},
   "outputs": [],
   "source": [
    "sample3 = es3.sample(100_000)"
   ]
  },
  {
   "cell_type": "code",
   "execution_count": 56,
   "id": "13989ba7",
   "metadata": {},
   "outputs": [],
   "source": [
    "a = sample3[:50_000]\n",
    "b = sample3[50_000:]"
   ]
  },
  {
   "cell_type": "code",
   "execution_count": 57,
   "id": "31a504f9",
   "metadata": {},
   "outputs": [
    {
     "name": "stdout",
     "output_type": "stream",
     "text": [
      "8655\n"
     ]
    }
   ],
   "source": [
    "len3 = len(VonNeumannPP().postprocess(a, b))\n",
    "print(len3)"
   ]
  },
  {
   "cell_type": "code",
   "execution_count": 58,
   "id": "1e05cf8a",
   "metadata": {},
   "outputs": [
    {
     "data": {
      "text/plain": [
       "82.69"
      ]
     },
     "execution_count": 58,
     "metadata": {},
     "output_type": "execute_result"
    }
   ],
   "source": [
    "np.round(100 * (50_000 - len3) / 50_000, 2)"
   ]
  },
  {
   "cell_type": "markdown",
   "id": "e35180fa",
   "metadata": {},
   "source": [
    "Which means that we lost ~ 82% in the post-process as predicted above."
   ]
  },
  {
   "cell_type": "markdown",
   "id": "f058287c",
   "metadata": {},
   "source": [
    "### Shi et al. Simulator(s)"
   ]
  },
  {
   "cell_type": "markdown",
   "id": "f2822c9a",
   "metadata": {},
   "source": [
    "In the Shi et al. paper, we send two photons through one of two 5-mode interferometer arbitrarily. The experiment can be simulater either with the `ShiSFSampler` which uses Strawberry Fields or the `BosonSampler` which uses a custom simulator and is way faster than strawberry fields. \n",
    "\n",
    "Let's try both:"
   ]
  },
  {
   "cell_type": "markdown",
   "id": "9be2a13e",
   "metadata": {},
   "source": [
    "#### Strawberry Fields:"
   ]
  },
  {
   "cell_type": "code",
   "execution_count": 59,
   "id": "1dffef04",
   "metadata": {},
   "outputs": [],
   "source": [
    "from cqt_rng.entropy_sources import ShiSFSampler"
   ]
  },
  {
   "cell_type": "code",
   "execution_count": 60,
   "id": "a67de949",
   "metadata": {},
   "outputs": [],
   "source": [
    "rng2 = RNG(ShiSFSampler(), VonNeumannPP())"
   ]
  },
  {
   "cell_type": "code",
   "execution_count": 61,
   "id": "a9e93627",
   "metadata": {},
   "outputs": [
    {
     "name": "stderr",
     "output_type": "stream",
     "text": [
      "103it [24:25, 14.23s/it]                                                                                                                                                  \n"
     ]
    }
   ],
   "source": [
    "bs2 = rng2.generate(100)"
   ]
  },
  {
   "cell_type": "code",
   "execution_count": 62,
   "id": "b4437004",
   "metadata": {},
   "outputs": [
    {
     "data": {
      "image/png": "[encoded data removed]",
      "text/plain": [
       "<Figure size 432x288 with 1 Axes>"
      ]
     },
     "metadata": {
      "needs_background": "light"
     },
     "output_type": "display_data"
    }
   ],
   "source": [
    "draw_distribution(bs2)"
   ]
  },
  {
   "cell_type": "code",
   "execution_count": 63,
   "id": "fa4aba9f",
   "metadata": {},
   "outputs": [
    {
     "data": {
      "text/plain": [
       "0.9974015885677396"
      ]
     },
     "execution_count": 63,
     "metadata": {},
     "output_type": "execute_result"
    }
   ],
   "source": [
    "calculate_entropy(bs2, type=\"bits\")"
   ]
  },
  {
   "cell_type": "code",
   "execution_count": 64,
   "id": "f08f371b",
   "metadata": {},
   "outputs": [
    {
     "data": {
      "text/plain": [
       "0.4481203125901446"
      ]
     },
     "execution_count": 64,
     "metadata": {},
     "output_type": "execute_result"
    }
   ],
   "source": [
    "calculate_entropy(bs2, type=\"bytes\")"
   ]
  },
  {
   "cell_type": "markdown",
   "id": "21a0eeb3",
   "metadata": {},
   "source": [
    "The distribution is highly non-uniform because the bitstring is very small (100 bits)."
   ]
  },
  {
   "cell_type": "code",
   "execution_count": 65,
   "id": "70612cde",
   "metadata": {},
   "outputs": [
    {
     "name": "stdout",
     "output_type": "stream",
     "text": [
      "Eligible test from NIST-SP800-22r1a:\n",
      "-monobit\n",
      "-frequency_within_block\n",
      "-runs\n",
      "-non_overlapping_template_matching\n",
      "-serial\n",
      "-approximate_entropy\n",
      "-cumulative sums\n",
      "Test results:\n",
      "- PASSED - score: 0.549 - Monobit - elapsed time: 0 ms\n",
      "- PASSED - score: 0.963 - Frequency Within Block - elapsed time: 1 ms\n",
      "- PASSED - score: 0.298 - Runs - elapsed time: 1 ms\n",
      "- PASSED - score: 0.622 - Non Overlapping Template Matching - elapsed time: 0 ms\n",
      "- PASSED - score: 0.324 - Serial - elapsed time: 8 ms\n",
      "- PASSED - score: 0.105 - Approximate Entropy - elapsed time: 6 ms\n",
      "- PASSED - score: 0.722 - Cumulative Sums - elapsed time: 1 ms\n",
      "Total failed tests: 0/7\n"
     ]
    }
   ],
   "source": [
    "nist_tests(bs2)"
   ]
  },
  {
   "cell_type": "markdown",
   "id": "a5c31edf",
   "metadata": {},
   "source": [
    "#### Custom simulator:"
   ]
  },
  {
   "cell_type": "markdown",
   "id": "64e47a0b",
   "metadata": {},
   "source": [
    "Let's try to carry a similar experiment on our custom simulator. And let's try to confirm that the Shi et al. method (which uses the Von Neumann Post Processing) should give longer but more biased bitstrings compared to the post processing method proposed in  [here](#Post-processing:-dependent-elements,-the-unbiased-way)"
   ]
  },
  {
   "cell_type": "code",
   "execution_count": 66,
   "id": "2bd40e08",
   "metadata": {},
   "outputs": [],
   "source": [
    "from cqt_rng.entropy_sources import BosonSampler\n",
    "from cqt_rng.post_processors import CQTPP"
   ]
  },
  {
   "cell_type": "code",
   "execution_count": 67,
   "id": "1771de31",
   "metadata": {},
   "outputs": [],
   "source": [
    "sample = BosonSampler().sample(5_000_000)"
   ]
  },
  {
   "cell_type": "code",
   "execution_count": 68,
   "id": "239a4490",
   "metadata": {},
   "outputs": [],
   "source": [
    "a = sample[:2_500_000]\n",
    "b = sample[2_500_000:]"
   ]
  },
  {
   "cell_type": "code",
   "execution_count": 69,
   "id": "63d88ce9",
   "metadata": {},
   "outputs": [],
   "source": [
    "bs_vpp = VonNeumannPP().postprocess(a, b)"
   ]
  },
  {
   "cell_type": "code",
   "execution_count": 70,
   "id": "3d79a93e",
   "metadata": {},
   "outputs": [
    {
     "data": {
      "text/plain": [
       "673062"
      ]
     },
     "execution_count": 70,
     "metadata": {},
     "output_type": "execute_result"
    }
   ],
   "source": [
    "len(bs_vpp)"
   ]
  },
  {
   "cell_type": "code",
   "execution_count": 71,
   "id": "df823a1a",
   "metadata": {},
   "outputs": [],
   "source": [
    "bs_cqtpp = CQTPP(dep_seq_len = 10).postprocess(a, b)"
   ]
  },
  {
   "cell_type": "code",
   "execution_count": 72,
   "id": "89d6c0fd",
   "metadata": {},
   "outputs": [
    {
     "data": {
      "text/plain": [
       "233650"
      ]
     },
     "execution_count": 72,
     "metadata": {},
     "output_type": "execute_result"
    }
   ],
   "source": [
    "len(bs_cqtpp)"
   ]
  },
  {
   "cell_type": "code",
   "execution_count": 73,
   "id": "b6b17b16",
   "metadata": {},
   "outputs": [
    {
     "data": {
      "image/png": "[encoded data removed]",
      "text/plain": [
       "<Figure size 432x288 with 1 Axes>"
      ]
     },
     "metadata": {
      "needs_background": "light"
     },
     "output_type": "display_data"
    }
   ],
   "source": [
    "draw_distribution(bs_vpp)"
   ]
  },
  {
   "cell_type": "code",
   "execution_count": 74,
   "id": "3825af11",
   "metadata": {},
   "outputs": [
    {
     "data": {
      "text/plain": [
       "0.9999999755162593"
      ]
     },
     "execution_count": 74,
     "metadata": {},
     "output_type": "execute_result"
    }
   ],
   "source": [
    "calculate_entropy(bs_vpp, type = \"bits\")"
   ]
  },
  {
   "cell_type": "code",
   "execution_count": 75,
   "id": "d49fb729",
   "metadata": {},
   "outputs": [
    {
     "data": {
      "text/plain": [
       "0.9297438659421419"
      ]
     },
     "execution_count": 75,
     "metadata": {},
     "output_type": "execute_result"
    }
   ],
   "source": [
    "calculate_entropy(bs_vpp, type = \"bytes\")"
   ]
  },
  {
   "cell_type": "code",
   "execution_count": 76,
   "id": "44c8997b",
   "metadata": {},
   "outputs": [
    {
     "data": {
      "image/png": "[encoded data removed]",
      "text/plain": [
       "<Figure size 432x288 with 1 Axes>"
      ]
     },
     "metadata": {
      "needs_background": "light"
     },
     "output_type": "display_data"
    }
   ],
   "source": [
    "draw_distribution(bs_cqtpp)"
   ]
  },
  {
   "cell_type": "code",
   "execution_count": 77,
   "id": "4908626c",
   "metadata": {},
   "outputs": [
    {
     "data": {
      "text/plain": [
       "0.9999998782257535"
      ]
     },
     "execution_count": 77,
     "metadata": {},
     "output_type": "execute_result"
    }
   ],
   "source": [
    "calculate_entropy(bs_cqtpp, type = \"bits\")"
   ]
  },
  {
   "cell_type": "code",
   "execution_count": 78,
   "id": "c0d2dc7c",
   "metadata": {},
   "outputs": [
    {
     "data": {
      "text/plain": [
       "0.9993220477578892"
      ]
     },
     "execution_count": 78,
     "metadata": {},
     "output_type": "execute_result"
    }
   ],
   "source": [
    "calculate_entropy(bs_cqtpp, type = \"bytes\")"
   ]
  },
  {
   "cell_type": "code",
   "execution_count": 79,
   "id": "a3526adb",
   "metadata": {},
   "outputs": [
    {
     "name": "stdout",
     "output_type": "stream",
     "text": [
      "Eligible test from NIST-SP800-22r1a:\n",
      "-monobit\n",
      "-frequency_within_block\n",
      "-runs\n",
      "-longest_run_ones_in_a_block\n",
      "-binary_matrix_rank\n",
      "-dft\n",
      "-non_overlapping_template_matching\n",
      "-maurers_universal\n",
      "-serial\n",
      "-approximate_entropy\n",
      "-cumulative sums\n",
      "Test results:\n",
      "- PASSED - score: 0.88 - Monobit - elapsed time: 1 ms\n",
      "- PASSED - score: 1.0 - Frequency Within Block - elapsed time: 1 ms\n",
      "- FAILED - score: 0.0 - Runs - elapsed time: 166 ms\n",
      "- FAILED - score: 0.0 - Longest Run Ones In A Block - elapsed time: 10 ms\n",
      "- PASSED - score: 0.831 - Binary Matrix Rank - elapsed time: 5357 ms\n",
      "- FAILED - score: 0.0 - Discrete Fourier Transform - elapsed time: 495 ms\n",
      "- PASSED - score: 0.304 - Non Overlapping Template Matching - elapsed time: 2434 ms\n",
      "- PASSED - score: 0.02 - Maurers Universal - elapsed time: 1964 ms\n",
      "- FAILED - score: 0.0 - Serial - elapsed time: 28472 ms\n",
      "- FAILED - score: 0.0 - Approximate Entropy - elapsed time: 45258 ms\n",
      "- FAILED - score: 0.0 - Cumulative Sums - elapsed time: 731 ms\n",
      "Total failed tests: 6/11\n"
     ]
    }
   ],
   "source": [
    "nist_tests(bs_vpp)"
   ]
  },
  {
   "cell_type": "code",
   "execution_count": 80,
   "id": "34e9fa26",
   "metadata": {},
   "outputs": [
    {
     "name": "stdout",
     "output_type": "stream",
     "text": [
      "Eligible test from NIST-SP800-22r1a:\n",
      "-monobit\n",
      "-frequency_within_block\n",
      "-runs\n",
      "-longest_run_ones_in_a_block\n",
      "-binary_matrix_rank\n",
      "-dft\n",
      "-non_overlapping_template_matching\n",
      "-serial\n",
      "-approximate_entropy\n",
      "-cumulative sums\n",
      "Test results:\n",
      "- PASSED - score: 0.843 - Monobit - elapsed time: 0 ms\n",
      "- PASSED - score: 0.22 - Frequency Within Block - elapsed time: 2 ms\n",
      "- PASSED - score: 0.914 - Runs - elapsed time: 71 ms\n",
      "- PASSED - score: 0.629 - Longest Run Ones In A Block - elapsed time: 10 ms\n",
      "- PASSED - score: 0.062 - Binary Matrix Rank - elapsed time: 1446 ms\n",
      "- FAILED - score: 0.0 - Discrete Fourier Transform - elapsed time: 106 ms\n",
      "- FAILED - score: 0.0 - Non Overlapping Template Matching - elapsed time: 972 ms\n",
      "- FAILED - score: 0.0 - Serial - elapsed time: 8717 ms\n",
      "- FAILED - score: 0.0 - Approximate Entropy - elapsed time: 16264 ms\n",
      "- FAILED - score: 0.0 - Cumulative Sums - elapsed time: 222 ms\n",
      "Total failed tests: 5/10\n"
     ]
    }
   ],
   "source": [
    "nist_tests(bs_cqtpp)"
   ]
  },
  {
   "cell_type": "markdown",
   "id": "1de2acb8",
   "metadata": {},
   "source": [
    "As you can see the length of the bitstring generated by the Von Neumann method is longer but the CQTPP is more uniform."
   ]
  },
  {
   "cell_type": "markdown",
   "id": "b6e3dc1f",
   "metadata": {},
   "source": [
    "### Real Devices: IBMQ"
   ]
  },
  {
   "cell_type": "markdown",
   "id": "3e448328",
   "metadata": {},
   "source": [
    "Let's now try to apply generate random numbers using a real quantum device. Let's start with the IBMQ device which is based on Qubits."
   ]
  },
  {
   "cell_type": "code",
   "execution_count": 81,
   "id": "72bbc8d4",
   "metadata": {},
   "outputs": [],
   "source": [
    "from cqt_rng.entropy_sources import IBMQSampler\n",
    "# rng3  = RNG(IBMQSampler(), VonNeumannPP())\n",
    "# rng3.generate(1000)"
   ]
  },
  {
   "cell_type": "markdown",
   "id": "3dcfa964",
   "metadata": {},
   "source": [
    "To avoid consuming your IBMQ plan and for the sake of example, we provided a sample of IBMQ data that we already collected."
   ]
  },
  {
   "cell_type": "code",
   "execution_count": 82,
   "id": "b8fec403",
   "metadata": {},
   "outputs": [],
   "source": [
    "from cqt_rng.entropy_sources import Loader\n",
    "from cqt_rng.post_processors import NoPostProcess"
   ]
  },
  {
   "cell_type": "code",
   "execution_count": 83,
   "id": "f7ccd125",
   "metadata": {},
   "outputs": [],
   "source": [
    "# downloading the data\n",
    "\n",
    "available_data = glob.glob(\"data/*\")\n",
    "file = \"hadamards.ibmq.npy\"\n",
    "data_url = \"https://raw.githubusercontent.com/CQTech-womanium-hackathon/Random-number-generation-using-boson-sampling---ORCA-Computing/main/challenge/data/hadamards.ibmq.npy\"\n",
    "\n",
    "if os.path.join(\"data\", file) not in available_data:\n",
    "        print(\"Downloading the data:\", file)\n",
    "        d = requests.get(data_url)\n",
    "        open(os.path.join(\"data\", file), \"wb\").write(d.content)"
   ]
  },
  {
   "cell_type": "code",
   "execution_count": 84,
   "id": "87eeabf9",
   "metadata": {},
   "outputs": [
    {
     "name": "stdout",
     "output_type": "stream",
     "text": [
      "['10100' '00101' '01000' '00100']\n"
     ]
    }
   ],
   "source": [
    "# raw data\n",
    "data_ibmq_str = np.load(\"data/hadamards.ibmq.npy\")\n",
    "print(data_ibmq_str[:4])"
   ]
  },
  {
   "cell_type": "code",
   "execution_count": 85,
   "id": "dbb50ccb",
   "metadata": {},
   "outputs": [],
   "source": [
    "# let's transform it to a 0-1 bitstring.\n",
    "data_ibmq = np.zeros(len(data_ibmq_str) * 5, dtype=np.int8)\n",
    "for i in range(len(data_ibmq_str)):\n",
    "    for j in range(5):\n",
    "        data_ibmq[i * 5 + j] = int(data_ibmq_str[i][j])"
   ]
  },
  {
   "cell_type": "code",
   "execution_count": 86,
   "id": "b3052cce",
   "metadata": {},
   "outputs": [
    {
     "name": "stdout",
     "output_type": "stream",
     "text": [
      "[1 0 1 0 0 0 0 1 0 1 0 1 0 0 0 0 0 1 0 0]\n"
     ]
    }
   ],
   "source": [
    "print(data_ibmq[:20])"
   ]
  },
  {
   "cell_type": "code",
   "execution_count": 87,
   "id": "7f797632",
   "metadata": {},
   "outputs": [],
   "source": [
    "es_ibmq = Loader(data = data_ibmq, seq_len = 5)"
   ]
  },
  {
   "cell_type": "code",
   "execution_count": 88,
   "id": "b780b0b1",
   "metadata": {},
   "outputs": [],
   "source": [
    " # We know that a hadamard circuit guarantees 50%/50% output, no need to postprocess :).\n",
    "rng3 = RNG(es_ibmq, NoPostProcess())"
   ]
  },
  {
   "cell_type": "code",
   "execution_count": 89,
   "id": "834efcb5",
   "metadata": {},
   "outputs": [
    {
     "name": "stderr",
     "output_type": "stream",
     "text": [
      "10010it [00:00, 35520290.22it/s]                                                                                                                                          \n"
     ]
    }
   ],
   "source": [
    "bs3 = rng3.generate(5000)"
   ]
  },
  {
   "cell_type": "code",
   "execution_count": 90,
   "id": "4cd15153",
   "metadata": {},
   "outputs": [
    {
     "data": {
      "image/png": "[encoded data removed]",
      "text/plain": [
       "<Figure size 432x288 with 1 Axes>"
      ]
     },
     "metadata": {
      "needs_background": "light"
     },
     "output_type": "display_data"
    }
   ],
   "source": [
    "draw_distribution(bs3)"
   ]
  },
  {
   "cell_type": "code",
   "execution_count": 91,
   "id": "080c709a",
   "metadata": {},
   "outputs": [
    {
     "data": {
      "text/plain": [
       "0.9995982009825014"
      ]
     },
     "execution_count": 91,
     "metadata": {},
     "output_type": "execute_result"
    }
   ],
   "source": [
    "calculate_entropy(bs3, type = \"bits\")"
   ]
  },
  {
   "cell_type": "code",
   "execution_count": 92,
   "id": "7eb82d49",
   "metadata": {},
   "outputs": [
    {
     "data": {
      "text/plain": [
       "0.965593255424957"
      ]
     },
     "execution_count": 92,
     "metadata": {},
     "output_type": "execute_result"
    }
   ],
   "source": [
    "calculate_entropy(bs3, type = \"bytes\")"
   ]
  },
  {
   "cell_type": "code",
   "execution_count": 93,
   "id": "53dee0a6",
   "metadata": {},
   "outputs": [
    {
     "name": "stdout",
     "output_type": "stream",
     "text": [
      "Eligible test from NIST-SP800-22r1a:\n",
      "-monobit\n",
      "-frequency_within_block\n",
      "-runs\n",
      "-longest_run_ones_in_a_block\n",
      "-dft\n",
      "-non_overlapping_template_matching\n",
      "-serial\n",
      "-approximate_entropy\n",
      "-cumulative sums\n",
      "Test results:\n",
      "- PASSED - score: 0.095 - Monobit - elapsed time: 0 ms\n",
      "- PASSED - score: 0.792 - Frequency Within Block - elapsed time: 0 ms\n",
      "- PASSED - score: 0.812 - Runs - elapsed time: 5 ms\n",
      "- FAILED - score: 0.001 - Longest Run Ones In A Block - elapsed time: 1 ms\n",
      "- PASSED - score: 0.194 - Discrete Fourier Transform - elapsed time: 2 ms\n",
      "- PASSED - score: 1.0 - Non Overlapping Template Matching - elapsed time: 24 ms\n",
      "- PASSED - score: 0.288 - Serial - elapsed time: 212 ms\n",
      "- PASSED - score: 0.338 - Approximate Entropy - elapsed time: 286 ms\n",
      "- PASSED - score: 0.156 - Cumulative Sums - elapsed time: 5 ms\n",
      "Total failed tests: 1/9\n"
     ]
    }
   ],
   "source": [
    "nist_tests(bs3)"
   ]
  },
  {
   "cell_type": "markdown",
   "id": "c62cfe09",
   "metadata": {},
   "source": [
    "We can see from the plot (despite the fact that we are generating a small bitstring) and from the tests results that we are getting really good results."
   ]
  },
  {
   "cell_type": "markdown",
   "id": "355f229b",
   "metadata": {},
   "source": [
    "### Real Devices: Borealis"
   ]
  },
  {
   "cell_type": "markdown",
   "id": "c3e1d78e",
   "metadata": {},
   "source": [
    "As with IBMQ, we can carry the experiment directly on Xanadu's Borealis:"
   ]
  },
  {
   "cell_type": "code",
   "execution_count": 94,
   "id": "32537a7b",
   "metadata": {},
   "outputs": [],
   "source": [
    "from cqt_rng.entropy_sources import BorealisSampler\n",
    "# rng4  = RNG(BorealisSampler(), VonNeumannPP())\n",
    "# rng4.generate(1000)"
   ]
  },
  {
   "cell_type": "markdown",
   "id": "7930ed9a",
   "metadata": {},
   "source": [
    "As for the IBMQ section, we will avoid consuming your free (or paid) plan. And we will use the [data published by Xanadu](https://github.com/XanaduAI/xanadu-qca-data):"
   ]
  },
  {
   "cell_type": "code",
   "execution_count": 95,
   "id": "3e852b56",
   "metadata": {},
   "outputs": [],
   "source": [
    "# downloading the data\n",
    "\n",
    "available_data = glob.glob(\"data/*\")\n",
    "file = \"borealis.npy\"\n",
    "data_url = \"https://qca-data.s3.amazonaws.com/fig4/samples.npy\"\n",
    "\n",
    "if os.path.join(\"data\", file) not in available_data:\n",
    "        print(\"Downloading the data:\", file)\n",
    "        d = requests.get(data_url)\n",
    "        open(os.path.join(\"data\", file), \"wb\").write(d.content)"
   ]
  },
  {
   "cell_type": "code",
   "execution_count": 96,
   "id": "bc043a78",
   "metadata": {},
   "outputs": [],
   "source": [
    "data_borealis = np.load(\"data/borealis.npy\")"
   ]
  },
  {
   "cell_type": "code",
   "execution_count": 97,
   "id": "283049c0",
   "metadata": {},
   "outputs": [
    {
     "data": {
      "text/plain": [
       "array([[[1, 0, 0, ..., 1, 0, 0]],\n",
       "\n",
       "       [[2, 0, 0, ..., 0, 0, 1]],\n",
       "\n",
       "       [[2, 0, 0, ..., 1, 0, 0]],\n",
       "\n",
       "       ...,\n",
       "\n",
       "       [[1, 4, 1, ..., 1, 0, 3]],\n",
       "\n",
       "       [[0, 0, 0, ..., 1, 0, 0]],\n",
       "\n",
       "       [[0, 2, 1, ..., 1, 0, 0]]], dtype=int8)"
      ]
     },
     "execution_count": 97,
     "metadata": {},
     "output_type": "execute_result"
    }
   ],
   "source": [
    "data_borealis"
   ]
  },
  {
   "cell_type": "code",
   "execution_count": 98,
   "id": "d460278a",
   "metadata": {},
   "outputs": [],
   "source": [
    "data_borealis = np.ravel(data_borealis)"
   ]
  },
  {
   "cell_type": "code",
   "execution_count": 99,
   "id": "67173cd3",
   "metadata": {},
   "outputs": [],
   "source": [
    "es_borealis = Loader(data = data_borealis, seq_len = 216, dep_seq_len = 216)"
   ]
  },
  {
   "cell_type": "code",
   "execution_count": 100,
   "id": "282479fd",
   "metadata": {},
   "outputs": [],
   "source": [
    "rng4 = RNG(es_borealis, CQTPP(dep_seq_len = 216))"
   ]
  },
  {
   "cell_type": "code",
   "execution_count": 101,
   "id": "e5f535c1",
   "metadata": {},
   "outputs": [
    {
     "name": "stderr",
     "output_type": "stream",
     "text": [
      "100%|██████████████████████████████████████████████████████████████████████████████████████████████████████████████████████████| 500000/500000 [00:26<00:00, 19178.37it/s]\n"
     ]
    }
   ],
   "source": [
    "bs4 = rng4.generate(500_000)"
   ]
  },
  {
   "cell_type": "code",
   "execution_count": 102,
   "id": "a7097687",
   "metadata": {},
   "outputs": [
    {
     "data": {
      "image/png": "[encoded data removed]",
      "text/plain": [
       "<Figure size 432x288 with 1 Axes>"
      ]
     },
     "metadata": {
      "needs_background": "light"
     },
     "output_type": "display_data"
    }
   ],
   "source": [
    "draw_distribution(bs4)"
   ]
  },
  {
   "cell_type": "code",
   "execution_count": 103,
   "id": "8a5b9fc3",
   "metadata": {},
   "outputs": [
    {
     "data": {
      "text/plain": [
       "0.9999997639866202"
      ]
     },
     "execution_count": 103,
     "metadata": {},
     "output_type": "execute_result"
    }
   ],
   "source": [
    "calculate_entropy(bs4, type = \"bits\")"
   ]
  },
  {
   "cell_type": "code",
   "execution_count": 104,
   "id": "66745b11",
   "metadata": {},
   "outputs": [
    {
     "data": {
      "text/plain": [
       "0.9996611631471467"
      ]
     },
     "execution_count": 104,
     "metadata": {},
     "output_type": "execute_result"
    }
   ],
   "source": [
    "calculate_entropy(bs4, type = \"bytes\")"
   ]
  },
  {
   "cell_type": "code",
   "execution_count": 105,
   "id": "7a2404c9",
   "metadata": {},
   "outputs": [
    {
     "name": "stdout",
     "output_type": "stream",
     "text": [
      "Eligible test from NIST-SP800-22r1a:\n",
      "-monobit\n",
      "-frequency_within_block\n",
      "-runs\n",
      "-longest_run_ones_in_a_block\n",
      "-binary_matrix_rank\n",
      "-dft\n",
      "-non_overlapping_template_matching\n",
      "-maurers_universal\n",
      "-serial\n",
      "-approximate_entropy\n",
      "-cumulative sums\n",
      "Test results:\n",
      "- PASSED - score: 0.686 - Monobit - elapsed time: 0 ms\n",
      "- PASSED - score: 0.525 - Frequency Within Block - elapsed time: 1 ms\n",
      "- PASSED - score: 0.827 - Runs - elapsed time: 150 ms\n",
      "- PASSED - score: 0.77 - Longest Run Ones In A Block - elapsed time: 9 ms\n",
      "- PASSED - score: 0.194 - Binary Matrix Rank - elapsed time: 3105 ms\n",
      "- FAILED - score: 0.0 - Discrete Fourier Transform - elapsed time: 41 ms\n",
      "- PASSED - score: 0.348 - Non Overlapping Template Matching - elapsed time: 1640 ms\n",
      "- PASSED - score: 0.019 - Maurers Universal - elapsed time: 1177 ms\n",
      "- FAILED - score: 0.0 - Serial - elapsed time: 18840 ms\n",
      "- FAILED - score: 0.0 - Approximate Entropy - elapsed time: 41157 ms\n",
      "- FAILED - score: 0.0 - Cumulative Sums - elapsed time: 614 ms\n",
      "Total failed tests: 4/11\n"
     ]
    }
   ],
   "source": [
    "nist_tests(bs4)"
   ]
  },
  {
   "cell_type": "markdown",
   "id": "4dce31fc",
   "metadata": {},
   "source": [
    "## Conclusion"
   ]
  },
  {
   "cell_type": "markdown",
   "id": "9e213103",
   "metadata": {},
   "source": [
    "In this notebook, we showed the importance of RNGs and the theory behind them, and how to build one. We also mentionned two methods to post-process entropy sources output depending if you value rate (Von Neumann) over biasness (CQTPP). Then, we presented a tool that we developped to generate random numbers. The tool was developped to be **simple and extendible to fit users' needs  and resources**. Finally, we passed the results that tool provides (for IBMQ and Borealis) through a battery of tests. We saw that the bitstrings that are generated are **evenly distributed and that they get decent NIST scores**.\n",
    "\n",
    "To finish this notebook, we will propose a startup idea: RNGaaS (Random Number Generator as a Service)\n",
    "\n",
    "An image is better than a thousand words, so here is a description of our startup idea:\n",
    "\n",
    "<img src=\"https://i.ibb.co/Nrf5ndy/rngaas.jpg\" style=\"max-width: 700px\" />\n",
    "\n",
    "We already have a demo:  https://cqtrng.netlify.app/\n",
    "\n",
    "\n",
    "_Bear in mind that this is just a quickly-made demo to illustrate our startup idea._\n"
   ]
  },
  {
   "cell_type": "markdown",
   "id": "9a2e8e39",
   "metadata": {},
   "source": [
    "## References"
   ]
  },
  {
   "cell_type": "markdown",
   "id": "ac0d1b7e",
   "metadata": {},
   "source": [
    "1. [An Unbiased Quantum Random Number Generator Based\n",
    "on Boson Sampling](https://arxiv.org/pdf/2206.02292.pdf)\n",
    "1. [NIST SP 800-22](https://nvlpubs.nist.gov/nistpubs/legacy/sp/nistspecialpublication800-22r1a.pdf)\n",
    "1. [Provable Randomness: How to Test RNGs](https://medium.com/unitychain/provable-randomness-how-to-test-rngs-55ac6726c5a3)\n",
    "1. [On the interpretation of results from the NIST statistical test suite](https://www.researchgate.net/publication/287224641_On_the_interpretation_of_results_from_the_NIST_statistical_test_suite)\n",
    "1. [Quantum computational advantage with a programmable photonic processor](https://www.nature.com/articles/s41586-022-04725-x)\n",
    "1. [Where does python get its random numbers from?](https://towardsdatascience.com/where-does-python-get-its-random-numbers-from-81dece23b712)"
   ]
  }
 ],
 "metadata": {
  "kernelspec": {
   "display_name": "Python 3 (ipykernel)",
   "language": "python",
   "name": "python3"
  },
  "language_info": {
   "codemirror_mode": {
    "name": "ipython",
    "version": 3
   },
   "file_extension": ".py",
   "mimetype": "text/x-python",
   "name": "python",
   "nbconvert_exporter": "python",
   "pygments_lexer": "ipython3",
   "version": "3.10.4"
  }
 },
 "nbformat": 4,
 "nbformat_minor": 5
}
